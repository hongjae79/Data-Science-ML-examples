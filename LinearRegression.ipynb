{
 "cells": [
  {
   "cell_type": "markdown",
   "metadata": {},
   "source": [
    "# Linear Regression with Numpy"
   ]
  },
  {
   "cell_type": "code",
   "execution_count": 67,
   "metadata": {},
   "outputs": [],
   "source": [
    "import numpy as np\n",
    "import matplotlib.pyplot as plt\n",
    "from numpy import zeros"
   ]
  },
  {
   "cell_type": "markdown",
   "metadata": {},
   "source": [
    "## Step 1:  Load Data\n",
    "\n",
    "Let's create a data set. "
   ]
  },
  {
   "cell_type": "code",
   "execution_count": 203,
   "metadata": {},
   "outputs": [],
   "source": [
    "X = np.arange(50)\n",
    "y = 2 * X + 1 + np.random.randn(50)*8"
   ]
  },
  {
   "cell_type": "code",
   "execution_count": 204,
   "metadata": {},
   "outputs": [
    {
     "data": {
      "image/png": "[encoded data removed]",
      "text/plain": [
       "<Figure size 432x288 with 1 Axes>"
      ]
     },
     "metadata": {
      "needs_background": "light"
     },
     "output_type": "display_data"
    }
   ],
   "source": [
    "plt.scatter(X,y)\n",
    "plt.show()"
   ]
  },
  {
   "cell_type": "markdown",
   "metadata": {},
   "source": [
    "## Step 2: Build the model\n",
    "\n",
    "In this case, it would be a linear regression.  So we are trying to have a line $$y = Wx + b$$. \n",
    "\n",
    "We use $W$, instead of $m$, because $W$ is more conventional letter in data science\n",
    "\n",
    "We want to find $W$ and $b$ such that minimizes the equation $$ E = \\frac{1}{N} \\sum_{i = 1}^N (y_i - \\hat{y}_i)^2 $$\n",
    "\n",
    "By replacing, $\\hat{y}_i = Wx_i + b$, we have $$ E = \\frac{1}{N} \\sum_{i=1}^N (y_i - (Wx_i +b))^2 $$\n",
    "\n",
    "Now, $$\\frac{\\partial E}{\\partial W} = \\frac{1}{N} \\sum_{i=1}^N 2(y_i - Wx_i - b)(-x_i) = -\\frac{2}{N}\\sum_{i=1}^N x_i(y_i - \\hat{y}_i)$$\n",
    "\n",
    "$$\\frac{\\partial E}{\\partial b} = \\frac{1}{N} \\sum_{i=1}^n 2(y_i -Wx_i -b)(-1) = -\\frac{2}{N}\\sum_{i=1}^N (y_i - \\hat{y}_i)$$\n",
    "\n",
    "We will apply gradient descent $ W = W - \\eta \\cdot \\nabla E$"
   ]
  },
  {
   "cell_type": "code",
   "execution_count": 214,
   "metadata": {},
   "outputs": [],
   "source": [
    "def model(X,y):\n",
    "\n",
    "    W = 0 \n",
    "    b = 0 \n",
    "\n",
    "    lr = 0.0001\n",
    "    epochs = 1000\n",
    "\n",
    "    N = float(len(X))\n",
    "\n",
    "    for i in range(epochs):\n",
    "        yhat = W*X + b\n",
    "        Ew = (-2/N) * (X.dot(y) - W * X.dot(X) + b * sum(X))\n",
    "        Eb = (-2/N) * (sum(y) - sum(yhat))\n",
    "        W = W - lr * Ew\n",
    "        b = b - lr * Eb\n",
    "        \n",
    "    return W, b, yhat"
   ]
  },
  {
   "cell_type": "markdown",
   "metadata": {},
   "source": [
    "## Step 3 : Train Model\n",
    "\n",
    "It will return three values: $W, b$ and predicted values $\\hat{y}$. "
   ]
  },
  {
   "cell_type": "code",
   "execution_count": 215,
   "metadata": {},
   "outputs": [
    {
     "data": {
      "text/plain": [
       "(2.046568446253224,\n",
       " 0.021762128855179603,\n",
       " array([2.17959187e-02, 2.06836539e+00, 4.11493486e+00, 6.16150434e+00,\n",
       "        8.20807381e+00, 1.02546433e+01, 1.23012128e+01, 1.43477822e+01,\n",
       "        1.63943517e+01, 1.84409212e+01, 2.04874906e+01, 2.25340601e+01,\n",
       "        2.45806296e+01, 2.66271991e+01, 2.86737685e+01, 3.07203380e+01,\n",
       "        3.27669075e+01, 3.48134769e+01, 3.68600464e+01, 3.89066159e+01,\n",
       "        4.09531854e+01, 4.29997548e+01, 4.50463243e+01, 4.70928938e+01,\n",
       "        4.91394633e+01, 5.11860327e+01, 5.32326022e+01, 5.52791717e+01,\n",
       "        5.73257411e+01, 5.93723106e+01, 6.14188801e+01, 6.34654496e+01,\n",
       "        6.55120190e+01, 6.75585885e+01, 6.96051580e+01, 7.16517275e+01,\n",
       "        7.36982969e+01, 7.57448664e+01, 7.77914359e+01, 7.98380053e+01,\n",
       "        8.18845748e+01, 8.39311443e+01, 8.59777138e+01, 8.80242832e+01,\n",
       "        9.00708527e+01, 9.21174222e+01, 9.41639916e+01, 9.62105611e+01,\n",
       "        9.82571306e+01, 1.00303700e+02]))"
      ]
     },
     "execution_count": 215,
     "metadata": {},
     "output_type": "execute_result"
    }
   ],
   "source": [
    "model(X,y)"
   ]
  },
  {
   "cell_type": "markdown",
   "metadata": {},
   "source": [
    "## Step 4: Evaluate the Model"
   ]
  },
  {
   "cell_type": "code",
   "execution_count": 216,
   "metadata": {},
   "outputs": [
    {
     "name": "stdout",
     "output_type": "stream",
     "text": [
      "predicted values are [2.17959187e-02 2.06836539e+00 4.11493486e+00 6.16150434e+00\n",
      " 8.20807381e+00 1.02546433e+01 1.23012128e+01 1.43477822e+01\n",
      " 1.63943517e+01 1.84409212e+01 2.04874906e+01 2.25340601e+01\n",
      " 2.45806296e+01 2.66271991e+01 2.86737685e+01 3.07203380e+01\n",
      " 3.27669075e+01 3.48134769e+01 3.68600464e+01 3.89066159e+01\n",
      " 4.09531854e+01 4.29997548e+01 4.50463243e+01 4.70928938e+01\n",
      " 4.91394633e+01 5.11860327e+01 5.32326022e+01 5.52791717e+01\n",
      " 5.73257411e+01 5.93723106e+01 6.14188801e+01 6.34654496e+01\n",
      " 6.55120190e+01 6.75585885e+01 6.96051580e+01 7.16517275e+01\n",
      " 7.36982969e+01 7.57448664e+01 7.77914359e+01 7.98380053e+01\n",
      " 8.18845748e+01 8.39311443e+01 8.59777138e+01 8.80242832e+01\n",
      " 9.00708527e+01 9.21174222e+01 9.41639916e+01 9.62105611e+01\n",
      " 9.82571306e+01 1.00303700e+02]\n"
     ]
    }
   ],
   "source": [
    "print(\"predicted values are\", model(X,y)[2])"
   ]
  },
  {
   "cell_type": "code",
   "execution_count": 217,
   "metadata": {},
   "outputs": [
    {
     "data": {
      "image/png": "[encoded data removed]",
      "text/plain": [
       "<Figure size 432x288 with 1 Axes>"
      ]
     },
     "metadata": {
      "needs_background": "light"
     },
     "output_type": "display_data"
    }
   ],
   "source": [
    "plt.plot(X, model(X,y)[2], color = 'red')\n",
    "plt.scatter(X, y)\n",
    "plt.show()"
   ]
  },
  {
   "cell_type": "markdown",
   "metadata": {},
   "source": [
    "## Step 5: Make a prediction"
   ]
  },
  {
   "cell_type": "code",
   "execution_count": 218,
   "metadata": {},
   "outputs": [],
   "source": [
    "def model_prediction(X_input):\n",
    "    yhat = X_input * model(X,y)[0] + model(X,y)[1]\n",
    "    print(yhat)"
   ]
  },
  {
   "cell_type": "code",
   "execution_count": 219,
   "metadata": {},
   "outputs": [
    {
     "name": "stdout",
     "output_type": "stream",
     "text": [
      "108.48988978027604\n"
     ]
    }
   ],
   "source": [
    "model_prediction(53)"
   ]
  }
 ],
 "metadata": {
  "kernelspec": {
   "display_name": "Python 3",
   "language": "python",
   "name": "python3"
  },
  "language_info": {
   "codemirror_mode": {
    "name": "ipython",
    "version": 3
   },
   "file_extension": ".py",
   "mimetype": "text/x-python",
   "name": "python",
   "nbconvert_exporter": "python",
   "pygments_lexer": "ipython3",
   "version": "3.7.3"
  }
 },
 "nbformat": 4,
 "nbformat_minor": 2
}

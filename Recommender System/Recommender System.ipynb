{
 "cells": [
  {
   "cell_type": "markdown",
   "metadata": {},
   "source": [
    "# Recommender system in movie rating data"
   ]
  },
  {
   "cell_type": "markdown",
   "metadata": {},
   "source": [
    "## Step 1: Load the data"
   ]
  },
  {
   "cell_type": "code",
   "execution_count": 1,
   "metadata": {},
   "outputs": [],
   "source": [
    "import pandas as pd"
   ]
  },
  {
   "cell_type": "code",
   "execution_count": 2,
   "metadata": {},
   "outputs": [
    {
     "data": {
      "text/html": [
       "<div>\n",
       "<style scoped>\n",
       "    .dataframe tbody tr th:only-of-type {\n",
       "        vertical-align: middle;\n",
       "    }\n",
       "\n",
       "    .dataframe tbody tr th {\n",
       "        vertical-align: top;\n",
       "    }\n",
       "\n",
       "    .dataframe thead th {\n",
       "        text-align: right;\n",
       "    }\n",
       "</style>\n",
       "<table border=\"1\" class=\"dataframe\">\n",
       "  <thead>\n",
       "    <tr style=\"text-align: right;\">\n",
       "      <th></th>\n",
       "      <th>movieId</th>\n",
       "      <th>imdbId</th>\n",
       "      <th>tmdbId</th>\n",
       "    </tr>\n",
       "  </thead>\n",
       "  <tbody>\n",
       "    <tr>\n",
       "      <th>0</th>\n",
       "      <td>1</td>\n",
       "      <td>114709</td>\n",
       "      <td>862.0</td>\n",
       "    </tr>\n",
       "    <tr>\n",
       "      <th>1</th>\n",
       "      <td>2</td>\n",
       "      <td>113497</td>\n",
       "      <td>8844.0</td>\n",
       "    </tr>\n",
       "    <tr>\n",
       "      <th>2</th>\n",
       "      <td>3</td>\n",
       "      <td>113228</td>\n",
       "      <td>15602.0</td>\n",
       "    </tr>\n",
       "    <tr>\n",
       "      <th>3</th>\n",
       "      <td>4</td>\n",
       "      <td>114885</td>\n",
       "      <td>31357.0</td>\n",
       "    </tr>\n",
       "    <tr>\n",
       "      <th>4</th>\n",
       "      <td>5</td>\n",
       "      <td>113041</td>\n",
       "      <td>11862.0</td>\n",
       "    </tr>\n",
       "  </tbody>\n",
       "</table>\n",
       "</div>"
      ],
      "text/plain": [
       "   movieId  imdbId   tmdbId\n",
       "0        1  114709    862.0\n",
       "1        2  113497   8844.0\n",
       "2        3  113228  15602.0\n",
       "3        4  114885  31357.0\n",
       "4        5  113041  11862.0"
      ]
     },
     "execution_count": 2,
     "metadata": {},
     "output_type": "execute_result"
    }
   ],
   "source": [
    "df_links = pd.read_csv('./links.csv')\n",
    "df_links.head()"
   ]
  },
  {
   "cell_type": "code",
   "execution_count": 3,
   "metadata": {},
   "outputs": [
    {
     "data": {
      "text/html": [
       "<div>\n",
       "<style scoped>\n",
       "    .dataframe tbody tr th:only-of-type {\n",
       "        vertical-align: middle;\n",
       "    }\n",
       "\n",
       "    .dataframe tbody tr th {\n",
       "        vertical-align: top;\n",
       "    }\n",
       "\n",
       "    .dataframe thead th {\n",
       "        text-align: right;\n",
       "    }\n",
       "</style>\n",
       "<table border=\"1\" class=\"dataframe\">\n",
       "  <thead>\n",
       "    <tr style=\"text-align: right;\">\n",
       "      <th></th>\n",
       "      <th>movieId</th>\n",
       "      <th>title</th>\n",
       "      <th>genres</th>\n",
       "    </tr>\n",
       "  </thead>\n",
       "  <tbody>\n",
       "    <tr>\n",
       "      <th>0</th>\n",
       "      <td>1</td>\n",
       "      <td>Toy Story (1995)</td>\n",
       "      <td>Adventure|Animation|Children|Comedy|Fantasy</td>\n",
       "    </tr>\n",
       "    <tr>\n",
       "      <th>1</th>\n",
       "      <td>2</td>\n",
       "      <td>Jumanji (1995)</td>\n",
       "      <td>Adventure|Children|Fantasy</td>\n",
       "    </tr>\n",
       "    <tr>\n",
       "      <th>2</th>\n",
       "      <td>3</td>\n",
       "      <td>Grumpier Old Men (1995)</td>\n",
       "      <td>Comedy|Romance</td>\n",
       "    </tr>\n",
       "    <tr>\n",
       "      <th>3</th>\n",
       "      <td>4</td>\n",
       "      <td>Waiting to Exhale (1995)</td>\n",
       "      <td>Comedy|Drama|Romance</td>\n",
       "    </tr>\n",
       "    <tr>\n",
       "      <th>4</th>\n",
       "      <td>5</td>\n",
       "      <td>Father of the Bride Part II (1995)</td>\n",
       "      <td>Comedy</td>\n",
       "    </tr>\n",
       "  </tbody>\n",
       "</table>\n",
       "</div>"
      ],
      "text/plain": [
       "   movieId                               title  \\\n",
       "0        1                    Toy Story (1995)   \n",
       "1        2                      Jumanji (1995)   \n",
       "2        3             Grumpier Old Men (1995)   \n",
       "3        4            Waiting to Exhale (1995)   \n",
       "4        5  Father of the Bride Part II (1995)   \n",
       "\n",
       "                                        genres  \n",
       "0  Adventure|Animation|Children|Comedy|Fantasy  \n",
       "1                   Adventure|Children|Fantasy  \n",
       "2                               Comedy|Romance  \n",
       "3                         Comedy|Drama|Romance  \n",
       "4                                       Comedy  "
      ]
     },
     "execution_count": 3,
     "metadata": {},
     "output_type": "execute_result"
    }
   ],
   "source": [
    "df_movies = pd.read_csv('./movies.csv')\n",
    "df_movies.head()"
   ]
  },
  {
   "cell_type": "code",
   "execution_count": 4,
   "metadata": {},
   "outputs": [
    {
     "data": {
      "text/html": [
       "<div>\n",
       "<style scoped>\n",
       "    .dataframe tbody tr th:only-of-type {\n",
       "        vertical-align: middle;\n",
       "    }\n",
       "\n",
       "    .dataframe tbody tr th {\n",
       "        vertical-align: top;\n",
       "    }\n",
       "\n",
       "    .dataframe thead th {\n",
       "        text-align: right;\n",
       "    }\n",
       "</style>\n",
       "<table border=\"1\" class=\"dataframe\">\n",
       "  <thead>\n",
       "    <tr style=\"text-align: right;\">\n",
       "      <th></th>\n",
       "      <th>userId</th>\n",
       "      <th>movieId</th>\n",
       "      <th>rating</th>\n",
       "      <th>timestamp</th>\n",
       "    </tr>\n",
       "  </thead>\n",
       "  <tbody>\n",
       "    <tr>\n",
       "      <th>0</th>\n",
       "      <td>1</td>\n",
       "      <td>1</td>\n",
       "      <td>4.0</td>\n",
       "      <td>964982703</td>\n",
       "    </tr>\n",
       "    <tr>\n",
       "      <th>1</th>\n",
       "      <td>1</td>\n",
       "      <td>3</td>\n",
       "      <td>4.0</td>\n",
       "      <td>964981247</td>\n",
       "    </tr>\n",
       "    <tr>\n",
       "      <th>2</th>\n",
       "      <td>1</td>\n",
       "      <td>6</td>\n",
       "      <td>4.0</td>\n",
       "      <td>964982224</td>\n",
       "    </tr>\n",
       "    <tr>\n",
       "      <th>3</th>\n",
       "      <td>1</td>\n",
       "      <td>47</td>\n",
       "      <td>5.0</td>\n",
       "      <td>964983815</td>\n",
       "    </tr>\n",
       "    <tr>\n",
       "      <th>4</th>\n",
       "      <td>1</td>\n",
       "      <td>50</td>\n",
       "      <td>5.0</td>\n",
       "      <td>964982931</td>\n",
       "    </tr>\n",
       "  </tbody>\n",
       "</table>\n",
       "</div>"
      ],
      "text/plain": [
       "   userId  movieId  rating  timestamp\n",
       "0       1        1     4.0  964982703\n",
       "1       1        3     4.0  964981247\n",
       "2       1        6     4.0  964982224\n",
       "3       1       47     5.0  964983815\n",
       "4       1       50     5.0  964982931"
      ]
     },
     "execution_count": 4,
     "metadata": {},
     "output_type": "execute_result"
    }
   ],
   "source": [
    "df_ratings = pd.read_csv('./ratings.csv')\n",
    "df_ratings.head()"
   ]
  },
  {
   "cell_type": "code",
   "execution_count": 5,
   "metadata": {},
   "outputs": [
    {
     "data": {
      "text/html": [
       "<div>\n",
       "<style scoped>\n",
       "    .dataframe tbody tr th:only-of-type {\n",
       "        vertical-align: middle;\n",
       "    }\n",
       "\n",
       "    .dataframe tbody tr th {\n",
       "        vertical-align: top;\n",
       "    }\n",
       "\n",
       "    .dataframe thead th {\n",
       "        text-align: right;\n",
       "    }\n",
       "</style>\n",
       "<table border=\"1\" class=\"dataframe\">\n",
       "  <thead>\n",
       "    <tr style=\"text-align: right;\">\n",
       "      <th></th>\n",
       "      <th>userId</th>\n",
       "      <th>movieId</th>\n",
       "      <th>tag</th>\n",
       "      <th>timestamp</th>\n",
       "    </tr>\n",
       "  </thead>\n",
       "  <tbody>\n",
       "    <tr>\n",
       "      <th>0</th>\n",
       "      <td>2</td>\n",
       "      <td>60756</td>\n",
       "      <td>funny</td>\n",
       "      <td>1445714994</td>\n",
       "    </tr>\n",
       "    <tr>\n",
       "      <th>1</th>\n",
       "      <td>2</td>\n",
       "      <td>60756</td>\n",
       "      <td>Highly quotable</td>\n",
       "      <td>1445714996</td>\n",
       "    </tr>\n",
       "    <tr>\n",
       "      <th>2</th>\n",
       "      <td>2</td>\n",
       "      <td>60756</td>\n",
       "      <td>will ferrell</td>\n",
       "      <td>1445714992</td>\n",
       "    </tr>\n",
       "    <tr>\n",
       "      <th>3</th>\n",
       "      <td>2</td>\n",
       "      <td>89774</td>\n",
       "      <td>Boxing story</td>\n",
       "      <td>1445715207</td>\n",
       "    </tr>\n",
       "    <tr>\n",
       "      <th>4</th>\n",
       "      <td>2</td>\n",
       "      <td>89774</td>\n",
       "      <td>MMA</td>\n",
       "      <td>1445715200</td>\n",
       "    </tr>\n",
       "  </tbody>\n",
       "</table>\n",
       "</div>"
      ],
      "text/plain": [
       "   userId  movieId              tag   timestamp\n",
       "0       2    60756            funny  1445714994\n",
       "1       2    60756  Highly quotable  1445714996\n",
       "2       2    60756     will ferrell  1445714992\n",
       "3       2    89774     Boxing story  1445715207\n",
       "4       2    89774              MMA  1445715200"
      ]
     },
     "execution_count": 5,
     "metadata": {},
     "output_type": "execute_result"
    }
   ],
   "source": [
    "df_tags = pd.read_csv('./tags.csv')\n",
    "df_tags.head()"
   ]
  },
  {
   "cell_type": "code",
   "execution_count": 6,
   "metadata": {},
   "outputs": [],
   "source": [
    "from tensorflow.keras.layers import Input, Dense, Embedding, Flatten, Concatenate\n",
    "from tensorflow.keras.models import Model\n",
    "from tensorflow.keras.optimizers import SGD, Adam\n",
    "\n",
    "from sklearn.utils import shuffle\n",
    "\n",
    "import numpy as np\n",
    "import matplotlib.pyplot as plt"
   ]
  },
  {
   "cell_type": "code",
   "execution_count": 7,
   "metadata": {},
   "outputs": [],
   "source": [
    "df_ratings.userId = pd.Categorical(df_ratings.userId)\n",
    "df_ratings['new_userId'] = df_ratings.userId.cat.codes"
   ]
  },
  {
   "cell_type": "code",
   "execution_count": 8,
   "metadata": {},
   "outputs": [
    {
     "data": {
      "text/html": [
       "<div>\n",
       "<style scoped>\n",
       "    .dataframe tbody tr th:only-of-type {\n",
       "        vertical-align: middle;\n",
       "    }\n",
       "\n",
       "    .dataframe tbody tr th {\n",
       "        vertical-align: top;\n",
       "    }\n",
       "\n",
       "    .dataframe thead th {\n",
       "        text-align: right;\n",
       "    }\n",
       "</style>\n",
       "<table border=\"1\" class=\"dataframe\">\n",
       "  <thead>\n",
       "    <tr style=\"text-align: right;\">\n",
       "      <th></th>\n",
       "      <th>userId</th>\n",
       "      <th>movieId</th>\n",
       "      <th>rating</th>\n",
       "      <th>timestamp</th>\n",
       "      <th>new_userId</th>\n",
       "    </tr>\n",
       "  </thead>\n",
       "  <tbody>\n",
       "    <tr>\n",
       "      <th>0</th>\n",
       "      <td>1</td>\n",
       "      <td>1</td>\n",
       "      <td>4.0</td>\n",
       "      <td>964982703</td>\n",
       "      <td>0</td>\n",
       "    </tr>\n",
       "    <tr>\n",
       "      <th>1</th>\n",
       "      <td>1</td>\n",
       "      <td>3</td>\n",
       "      <td>4.0</td>\n",
       "      <td>964981247</td>\n",
       "      <td>0</td>\n",
       "    </tr>\n",
       "    <tr>\n",
       "      <th>2</th>\n",
       "      <td>1</td>\n",
       "      <td>6</td>\n",
       "      <td>4.0</td>\n",
       "      <td>964982224</td>\n",
       "      <td>0</td>\n",
       "    </tr>\n",
       "    <tr>\n",
       "      <th>3</th>\n",
       "      <td>1</td>\n",
       "      <td>47</td>\n",
       "      <td>5.0</td>\n",
       "      <td>964983815</td>\n",
       "      <td>0</td>\n",
       "    </tr>\n",
       "    <tr>\n",
       "      <th>4</th>\n",
       "      <td>1</td>\n",
       "      <td>50</td>\n",
       "      <td>5.0</td>\n",
       "      <td>964982931</td>\n",
       "      <td>0</td>\n",
       "    </tr>\n",
       "  </tbody>\n",
       "</table>\n",
       "</div>"
      ],
      "text/plain": [
       "  userId  movieId  rating  timestamp  new_userId\n",
       "0      1        1     4.0  964982703           0\n",
       "1      1        3     4.0  964981247           0\n",
       "2      1        6     4.0  964982224           0\n",
       "3      1       47     5.0  964983815           0\n",
       "4      1       50     5.0  964982931           0"
      ]
     },
     "execution_count": 8,
     "metadata": {},
     "output_type": "execute_result"
    }
   ],
   "source": [
    "df_ratings.head()"
   ]
  },
  {
   "cell_type": "code",
   "execution_count": 9,
   "metadata": {},
   "outputs": [],
   "source": [
    "df_ratings.movieId = pd.Categorical(df_ratings.movieId)\n",
    "df_ratings['new_movieId'] = df_ratings.movieId.cat.codes"
   ]
  },
  {
   "cell_type": "code",
   "execution_count": 10,
   "metadata": {},
   "outputs": [
    {
     "data": {
      "text/html": [
       "<div>\n",
       "<style scoped>\n",
       "    .dataframe tbody tr th:only-of-type {\n",
       "        vertical-align: middle;\n",
       "    }\n",
       "\n",
       "    .dataframe tbody tr th {\n",
       "        vertical-align: top;\n",
       "    }\n",
       "\n",
       "    .dataframe thead th {\n",
       "        text-align: right;\n",
       "    }\n",
       "</style>\n",
       "<table border=\"1\" class=\"dataframe\">\n",
       "  <thead>\n",
       "    <tr style=\"text-align: right;\">\n",
       "      <th></th>\n",
       "      <th>userId</th>\n",
       "      <th>movieId</th>\n",
       "      <th>rating</th>\n",
       "      <th>timestamp</th>\n",
       "      <th>new_userId</th>\n",
       "      <th>new_movieId</th>\n",
       "    </tr>\n",
       "  </thead>\n",
       "  <tbody>\n",
       "    <tr>\n",
       "      <th>0</th>\n",
       "      <td>1</td>\n",
       "      <td>1</td>\n",
       "      <td>4.0</td>\n",
       "      <td>964982703</td>\n",
       "      <td>0</td>\n",
       "      <td>0</td>\n",
       "    </tr>\n",
       "    <tr>\n",
       "      <th>1</th>\n",
       "      <td>1</td>\n",
       "      <td>3</td>\n",
       "      <td>4.0</td>\n",
       "      <td>964981247</td>\n",
       "      <td>0</td>\n",
       "      <td>2</td>\n",
       "    </tr>\n",
       "    <tr>\n",
       "      <th>2</th>\n",
       "      <td>1</td>\n",
       "      <td>6</td>\n",
       "      <td>4.0</td>\n",
       "      <td>964982224</td>\n",
       "      <td>0</td>\n",
       "      <td>5</td>\n",
       "    </tr>\n",
       "    <tr>\n",
       "      <th>3</th>\n",
       "      <td>1</td>\n",
       "      <td>47</td>\n",
       "      <td>5.0</td>\n",
       "      <td>964983815</td>\n",
       "      <td>0</td>\n",
       "      <td>43</td>\n",
       "    </tr>\n",
       "    <tr>\n",
       "      <th>4</th>\n",
       "      <td>1</td>\n",
       "      <td>50</td>\n",
       "      <td>5.0</td>\n",
       "      <td>964982931</td>\n",
       "      <td>0</td>\n",
       "      <td>46</td>\n",
       "    </tr>\n",
       "  </tbody>\n",
       "</table>\n",
       "</div>"
      ],
      "text/plain": [
       "  userId movieId  rating  timestamp  new_userId  new_movieId\n",
       "0      1       1     4.0  964982703           0            0\n",
       "1      1       3     4.0  964981247           0            2\n",
       "2      1       6     4.0  964982224           0            5\n",
       "3      1      47     5.0  964983815           0           43\n",
       "4      1      50     5.0  964982931           0           46"
      ]
     },
     "execution_count": 10,
     "metadata": {},
     "output_type": "execute_result"
    }
   ],
   "source": [
    "df_ratings.head()"
   ]
  },
  {
   "cell_type": "code",
   "execution_count": 11,
   "metadata": {},
   "outputs": [],
   "source": [
    "userId = df_ratings.new_userId.values\n",
    "movieId = df_ratings.new_movieId.values\n",
    "rating = df_ratings.rating.values"
   ]
  },
  {
   "cell_type": "code",
   "execution_count": 12,
   "metadata": {},
   "outputs": [],
   "source": [
    "N = len(userId)\n",
    "M = len(movieId)\n",
    "\n",
    "K = 10"
   ]
  },
  {
   "cell_type": "markdown",
   "metadata": {},
   "source": [
    "## Step 2: Build the model"
   ]
  },
  {
   "cell_type": "markdown",
   "metadata": {},
   "source": [
    "Input format must be in form of (train_user, train movie) and train_rating. \n",
    "\n",
    "Validation set format is (test_user, test movie) and test_rating."
   ]
  },
  {
   "cell_type": "code",
   "execution_count": 13,
   "metadata": {},
   "outputs": [],
   "source": [
    "u = Input(shape=(1,))\n",
    "m = Input(shape=(1,))\n",
    "\n",
    "u_emb = Embedding(N,K)(u) # output is (num_samples X 1 X K)\n",
    "m_emb = Embedding(M,K)(m) # output is (num_samples X 1 X K)\n",
    "\n",
    "u_emb = Flatten()(u_emb) # Now it is (num_samples, K)\n",
    "m_emb = Flatten()(m_emb) # Now it is (num_samples, K)\n",
    "\n",
    "x = Concatenate()([u_emb, m_emb]) # Now it's (num_samples, 2K)\n",
    "\n",
    "x = Dense(512, activation = 'relu')(x)\n",
    "x = Dense(1)(x)"
   ]
  },
  {
   "cell_type": "code",
   "execution_count": 14,
   "metadata": {},
   "outputs": [],
   "source": [
    "model = Model(inputs = [u,m], outputs = x)"
   ]
  },
  {
   "cell_type": "code",
   "execution_count": 15,
   "metadata": {},
   "outputs": [],
   "source": [
    "model.compile(loss = 'mse', optimizer = SGD(lr = 0.08, momentum = 0.9))"
   ]
  },
  {
   "cell_type": "code",
   "execution_count": 16,
   "metadata": {},
   "outputs": [],
   "source": [
    "userId, movieId, rating = shuffle(userId, movieId, rating)"
   ]
  },
  {
   "cell_type": "markdown",
   "metadata": {},
   "source": [
    "## Step 3: Train"
   ]
  },
  {
   "cell_type": "code",
   "execution_count": 17,
   "metadata": {},
   "outputs": [],
   "source": [
    "Ntrain = int(0.8 * len(userId))"
   ]
  },
  {
   "cell_type": "code",
   "execution_count": 18,
   "metadata": {},
   "outputs": [],
   "source": [
    "train_user = userId[:Ntrain]\n",
    "train_movie = movieId[:Ntrain]\n",
    "train_rating = rating[:Ntrain]\n",
    "\n",
    "test_user = userId[Ntrain:]\n",
    "test_movie = movieId[Ntrain:]\n",
    "test_rating = rating[Ntrain:]\n",
    "\n",
    "avg_rating = train_rating.mean()\n",
    "train_rating = train_rating - avg_rating\n",
    "test_rating = test_rating - avg_rating"
   ]
  },
  {
   "cell_type": "code",
   "execution_count": 19,
   "metadata": {},
   "outputs": [
    {
     "name": "stdout",
     "output_type": "stream",
     "text": [
      "Epoch 1/25\n",
      "79/79 - 0s - loss: 1.0073 - val_loss: 0.8994\n",
      "Epoch 2/25\n",
      "79/79 - 0s - loss: 0.8571 - val_loss: 0.8183\n",
      "Epoch 3/25\n",
      "79/79 - 0s - loss: 0.7837 - val_loss: 0.7780\n",
      "Epoch 4/25\n",
      "79/79 - 0s - loss: 0.7457 - val_loss: 0.7669\n",
      "Epoch 5/25\n",
      "79/79 - 0s - loss: 0.7159 - val_loss: 0.7678\n",
      "Epoch 6/25\n",
      "79/79 - 0s - loss: 0.6974 - val_loss: 0.7519\n",
      "Epoch 7/25\n",
      "79/79 - 0s - loss: 0.6785 - val_loss: 0.7475\n",
      "Epoch 8/25\n",
      "79/79 - 0s - loss: 0.6640 - val_loss: 0.7405\n",
      "Epoch 9/25\n",
      "79/79 - 0s - loss: 0.6542 - val_loss: 0.7424\n",
      "Epoch 10/25\n",
      "79/79 - 0s - loss: 0.6440 - val_loss: 0.7383\n",
      "Epoch 11/25\n",
      "79/79 - 0s - loss: 0.6345 - val_loss: 0.7388\n",
      "Epoch 12/25\n",
      "79/79 - 0s - loss: 0.6299 - val_loss: 0.7329\n",
      "Epoch 13/25\n",
      "79/79 - 0s - loss: 0.6234 - val_loss: 0.7407\n",
      "Epoch 14/25\n",
      "79/79 - 0s - loss: 0.6154 - val_loss: 0.7417\n",
      "Epoch 15/25\n",
      "79/79 - 0s - loss: 0.6116 - val_loss: 0.7402\n",
      "Epoch 16/25\n",
      "79/79 - 0s - loss: 0.6056 - val_loss: 0.7381\n",
      "Epoch 17/25\n",
      "79/79 - 0s - loss: 0.6022 - val_loss: 0.7395\n",
      "Epoch 18/25\n",
      "79/79 - 0s - loss: 0.5958 - val_loss: 0.7408\n",
      "Epoch 19/25\n",
      "79/79 - 0s - loss: 0.5912 - val_loss: 0.7401\n",
      "Epoch 20/25\n",
      "79/79 - 0s - loss: 0.5872 - val_loss: 0.7455\n",
      "Epoch 21/25\n",
      "79/79 - 0s - loss: 0.5817 - val_loss: 0.7441\n",
      "Epoch 22/25\n",
      "79/79 - 0s - loss: 0.5792 - val_loss: 0.7472\n",
      "Epoch 23/25\n",
      "79/79 - 0s - loss: 0.5752 - val_loss: 0.7526\n",
      "Epoch 24/25\n",
      "79/79 - 0s - loss: 0.5683 - val_loss: 0.7517\n",
      "Epoch 25/25\n",
      "79/79 - 0s - loss: 0.5644 - val_loss: 0.7541\n"
     ]
    }
   ],
   "source": [
    "r = model.fit(x = [train_user, train_movie], y = train_rating, epochs = 25, batch_size = 1024, verbose = 2,\n",
    "             validation_data = ([test_user, test_movie], test_rating))\n",
    "# verbose = 2 makes no progress bar, which makes the process a bit faster"
   ]
  },
  {
   "cell_type": "markdown",
   "metadata": {},
   "source": [
    "## Step 4: Evaluate"
   ]
  },
  {
   "cell_type": "code",
   "execution_count": 20,
   "metadata": {},
   "outputs": [
    {
     "data": {
      "image/png": "[encoded data removed]",
      "text/plain": [
       "<Figure size 432x288 with 1 Axes>"
      ]
     },
     "metadata": {
      "needs_background": "light"
     },
     "output_type": "display_data"
    }
   ],
   "source": [
    "# plot losses\n",
    "plt.plot(r.history['loss'], label=\"train loss\")\n",
    "plt.plot(r.history['val_loss'], label=\"val loss\")\n",
    "plt.legend()\n",
    "plt.show()"
   ]
  },
  {
   "cell_type": "markdown",
   "metadata": {},
   "source": [
    "## Step 5: Predict"
   ]
  },
  {
   "cell_type": "code",
   "execution_count": 21,
   "metadata": {},
   "outputs": [],
   "source": [
    "unique_new_movieId = df_ratings.new_movieId.unique()"
   ]
  },
  {
   "cell_type": "code",
   "execution_count": 22,
   "metadata": {},
   "outputs": [],
   "source": [
    "def create_df_for_n(n):\n",
    "    new_df_for_n = df_ratings[df_ratings.userId == n]\n",
    "    list_of_n_made_the_review = new_df_for_n.new_movieId.unique()\n",
    "    \n",
    "    list_of_n_didnt_make_rating = []\n",
    "\n",
    "    for i in range(len(unique_new_movieId)):\n",
    "        if unique_new_movieId[i] not in list_of_n_made_the_review:\n",
    "            list_of_n_didnt_make_rating.append(unique_new_movieId[i])\n",
    "\n",
    "    list_of_n_didnt_make_rating = np.array(list_of_n_didnt_make_rating)\n",
    "    \n",
    "    return list_of_n_made_the_review, list_of_n_didnt_make_rating    "
   ]
  },
  {
   "cell_type": "code",
   "execution_count": 31,
   "metadata": {},
   "outputs": [],
   "source": [
    "def recommend_5(n):\n",
    "    list_of_n_made_the_review, list_of_n_didnt_make_rating  = create_df_for_n(n)\n",
    "\n",
    "    new_input = [n-1] * len(list_of_n_didnt_make_rating) \n",
    "    new_input = np.array(new_input)\n",
    "    \n",
    "    prediction_for_n = model.predict([new_input, list_of_n_didnt_make_rating]) + avg_rating\n",
    "    prediction_for_n = prediction_for_n.reshape(-1)\n",
    "    \n",
    "    ind = np.argpartition(prediction_for_n, -5)[-5:]\n",
    "    \n",
    "    return prediction_for_n[ind], list_of_n_didnt_make_rating[ind], ind"
   ]
  },
  {
   "cell_type": "code",
   "execution_count": 32,
   "metadata": {},
   "outputs": [],
   "source": [
    "def new_movieId_to_title(i):\n",
    "    j = np.array(df_ratings[df_ratings.new_movieId == i])[0][1] \n",
    "    x = df_movies[df_movies.movieId == j]\n",
    "    return np.array(x.title)[0], np.array(x.genres)[0]"
   ]
  },
  {
   "cell_type": "code",
   "execution_count": 33,
   "metadata": {},
   "outputs": [],
   "source": [
    "unique_userid = list(set(userId))"
   ]
  },
  {
   "cell_type": "code",
   "execution_count": 36,
   "metadata": {},
   "outputs": [
    {
     "name": "stdout",
     "output_type": "stream",
     "text": [
      "Recommendations for userId 541 are\n",
      "Beyond Bedlam (1993) in Drama|Horror with score 4.493879\n",
      "Last Unicorn, The (1982) in Animation|Children|Fantasy with score 4.5215445\n",
      "Adventures of Sebastian Cole, The (1998) in Comedy|Drama with score 4.5603075\n",
      "Nightmare on Elm Street, A (2010) in Fantasy|Horror|Thriller with score 4.5269933\n",
      "3 Women (Three Women) (1977) in Drama with score 4.517896\n",
      "\n",
      "\n",
      "Recommendations for userId 214 are\n",
      "Mickey's Once Upon a Christmas (1999) in Animation|Comedy|Fantasy with score 3.7240367\n",
      "Jesus Christ Superstar (1973) in Drama|Musical with score 3.7448378\n",
      "Expendables, The (2010) in Action|Adventure|Thriller with score 3.8141973\n",
      "Only Angels Have Wings (1939) in Adventure|Drama|Romance with score 3.79527\n",
      "Money Train (1995) in Action|Comedy|Crime|Drama|Thriller with score 3.7349608\n",
      "\n",
      "\n",
      "Recommendations for userId 67 are\n",
      "Not One Less (Yi ge dou bu neng shao) (1999) in Drama with score 4.528142\n",
      "Coffy (1973) in Action|Crime|Thriller with score 4.5293713\n",
      "Bringing Down the House (2003) in Comedy with score 4.706547\n",
      "Outbreak (1995) in Action|Drama|Sci-Fi|Thriller with score 4.610244\n",
      "Booty Call (1997) in Comedy|Romance with score 4.548408\n",
      "\n",
      "\n",
      "Recommendations for userId 533 are\n",
      "Priest (1994) in Drama with score 5.019412\n",
      "Irreversible (Irréversible) (2002) in Crime|Drama|Mystery|Thriller with score 5.021702\n",
      "Batman: Under the Red Hood (2010) in Action|Animation with score 5.0243955\n",
      "Stir of Echoes (1999) in Horror|Mystery|Thriller with score 5.0736237\n",
      "Luna Papa (1999) in Comedy|Drama|Fantasy with score 5.0410604\n",
      "\n",
      "\n",
      "Recommendations for userId 130 are\n",
      "Priest (1994) in Drama with score 4.215395\n",
      "Super Size Me (2004) in Comedy|Documentary|Drama with score 4.2289414\n",
      "Ip Man 2 (2010) in Action with score 4.2536254\n",
      "Outside Providence (1999) in Comedy with score 4.2762046\n",
      "Willard (2003) in Drama|Horror|Thriller with score 4.2810483\n",
      "\n",
      "\n"
     ]
    }
   ],
   "source": [
    "for i in range(5):\n",
    "\n",
    "    n = np.random.choice(unique_userid)\n",
    "    recommendation, genre, ind = recommend_5(n)\n",
    "    print(\"Recommendations for userId\", n, \"are\")\n",
    "\n",
    "    for j in range(5):\n",
    "        a, b = new_movieId_to_title(ind[j])\n",
    "        print(a, \"in\", b, 'with score', recommendation[j])\n",
    "    print()\n",
    "    print()"
   ]
  },
  {
   "cell_type": "code",
   "execution_count": null,
   "metadata": {},
   "outputs": [],
   "source": []
  }
 ],
 "metadata": {
  "kernelspec": {
   "display_name": "Python 3",
   "language": "python",
   "name": "python3"
  },
  "language_info": {
   "codemirror_mode": {
    "name": "ipython",
    "version": 3
   },
   "file_extension": ".py",
   "mimetype": "text/x-python",
   "name": "python",
   "nbconvert_exporter": "python",
   "pygments_lexer": "ipython3",
   "version": "3.7.3"
  }
 },
 "nbformat": 4,
 "nbformat_minor": 2
}

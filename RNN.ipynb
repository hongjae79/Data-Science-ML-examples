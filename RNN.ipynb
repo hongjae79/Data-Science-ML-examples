{
 "cells": [
  {
   "cell_type": "markdown",
   "metadata": {},
   "source": [
    "# Recurrence Neural Network"
   ]
  },
  {
   "cell_type": "markdown",
   "metadata": {},
   "source": [
    "## Step 1: Load Data\n",
    "\n",
    "Let's create a data.  In this case, we have a sequence $X = [1,2,3,4,5,4,3,2,1,2,3,4,5,4,3,2,1]$. \n",
    "\n",
    "We are to predict the next number of the sequence. "
   ]
  },
  {
   "cell_type": "code",
   "execution_count": 285,
   "metadata": {},
   "outputs": [],
   "source": [
    "import numpy as np\n",
    "import matplotlib.pyplot as plt"
   ]
  },
  {
   "cell_type": "code",
   "execution_count": 286,
   "metadata": {},
   "outputs": [],
   "source": [
    "sequence = [1,2,3,4,5,4,3,2,1,2,3,4,5,4,3,2,1]"
   ]
  },
  {
   "cell_type": "code",
   "execution_count": 287,
   "metadata": {},
   "outputs": [
    {
     "name": "stdout",
     "output_type": "stream",
     "text": [
      "Length of sequence is 17\n"
     ]
    }
   ],
   "source": [
    "print(\"Length of sequence is\", len(sequence))"
   ]
  },
  {
   "cell_type": "markdown",
   "metadata": {},
   "source": [
    "## Step 2: Build the model\n",
    "\n",
    "We let $T=3$.  $T$ here is the length of the window.  That means we are looking at 3 numbers each to predict the next one.  \n",
    "\n",
    "$$ \\hat{x}_t = w_0 + w_1 x_{t-1} + w_2 x_{t-2} + w_3 x_{t-3}   $$\n",
    "\n",
    "This creates 17 - 3 + 1 = 15 data samples. But since we don't have target value for the last term, we will have $N = 17 -3 = 14$ data and 14 target values.  "
   ]
  },
  {
   "cell_type": "code",
   "execution_count": 288,
   "metadata": {},
   "outputs": [],
   "source": [
    "X = []\n",
    "y = []\n",
    "T = 3\n",
    "\n",
    "for i in range(len(sequence) - T):\n",
    "    X.append(list(series[i:i+T]))\n",
    "    y.append(sequence[i+T])\n",
    "    \n",
    "X = np.array(X)\n",
    "y = np.array(y)"
   ]
  },
  {
   "cell_type": "code",
   "execution_count": 289,
   "metadata": {},
   "outputs": [
    {
     "name": "stdout",
     "output_type": "stream",
     "text": [
      "14 14\n"
     ]
    }
   ],
   "source": [
    "N = len(X)\n",
    "print(N, len(y))"
   ]
  },
  {
   "cell_type": "code",
   "execution_count": 290,
   "metadata": {},
   "outputs": [
    {
     "data": {
      "text/plain": [
       "array([[1, 2, 3],\n",
       "       [2, 3, 4],\n",
       "       [3, 4, 5],\n",
       "       [4, 5, 4],\n",
       "       [5, 4, 3],\n",
       "       [4, 3, 2],\n",
       "       [3, 2, 1],\n",
       "       [2, 1, 2],\n",
       "       [1, 2, 3],\n",
       "       [2, 3, 4],\n",
       "       [3, 4, 5],\n",
       "       [4, 5, 4],\n",
       "       [5, 4, 3],\n",
       "       [4, 3, 2]])"
      ]
     },
     "execution_count": 290,
     "metadata": {},
     "output_type": "execute_result"
    }
   ],
   "source": [
    "X"
   ]
  },
  {
   "cell_type": "code",
   "execution_count": 291,
   "metadata": {},
   "outputs": [
    {
     "data": {
      "text/plain": [
       "array([4, 5, 4, 3, 2, 1, 2, 3, 4, 5, 4, 3, 2, 1])"
      ]
     },
     "execution_count": 291,
     "metadata": {},
     "output_type": "execute_result"
    }
   ],
   "source": [
    "y"
   ]
  },
  {
   "cell_type": "markdown",
   "metadata": {},
   "source": [
    "Now, let's run ANN model to predict next value.  "
   ]
  },
  {
   "cell_type": "code",
   "execution_count": 292,
   "metadata": {},
   "outputs": [],
   "source": [
    "from tensorflow.keras.layers import Input, Dense\n",
    "from tensorflow.keras.models import Model\n",
    "from tensorflow.keras.optimizers import SGD, Adam"
   ]
  },
  {
   "cell_type": "markdown",
   "metadata": {},
   "source": [
    "Build the model"
   ]
  },
  {
   "cell_type": "code",
   "execution_count": 293,
   "metadata": {},
   "outputs": [],
   "source": [
    "i = Input(shape=(T,))\n",
    "x = Dense(1)(i)\n",
    "\n",
    "model = Model(i,x)"
   ]
  },
  {
   "cell_type": "markdown",
   "metadata": {},
   "source": [
    "## Step 3: Train model"
   ]
  },
  {
   "cell_type": "markdown",
   "metadata": {},
   "source": [
    "Compile and fit"
   ]
  },
  {
   "cell_type": "code",
   "execution_count": 294,
   "metadata": {},
   "outputs": [],
   "source": [
    "model.compile(loss = 'mse', optimizer = Adam(lr = 0.1))"
   ]
  },
  {
   "cell_type": "code",
   "execution_count": 295,
   "metadata": {},
   "outputs": [
    {
     "name": "stdout",
     "output_type": "stream",
     "text": [
      "Epoch 1/100\n",
      "1/1 [==============================] - 0s 2ms/step - loss: 17.2668\n",
      "Epoch 2/100\n",
      "1/1 [==============================] - 0s 1ms/step - loss: 9.9073\n",
      "Epoch 3/100\n",
      "1/1 [==============================] - 0s 997us/step - loss: 4.9863\n",
      "Epoch 4/100\n",
      "1/1 [==============================] - 0s 998us/step - loss: 2.4023\n",
      "Epoch 5/100\n",
      "1/1 [==============================] - 0s 992us/step - loss: 1.8151\n",
      "Epoch 6/100\n",
      "1/1 [==============================] - 0s 997us/step - loss: 2.5664\n",
      "Epoch 7/100\n",
      "1/1 [==============================] - 0s 2ms/step - loss: 3.7888\n",
      "Epoch 8/100\n",
      "1/1 [==============================] - 0s 2ms/step - loss: 4.7376\n",
      "Epoch 9/100\n",
      "1/1 [==============================] - 0s 0s/step - loss: 5.0512\n",
      "Epoch 10/100\n",
      "1/1 [==============================] - 0s 998us/step - loss: 4.7330\n",
      "Epoch 11/100\n",
      "1/1 [==============================] - 0s 997us/step - loss: 3.9891\n",
      "Epoch 12/100\n",
      "1/1 [==============================] - 0s 981us/step - loss: 3.0856\n",
      "Epoch 13/100\n",
      "1/1 [==============================] - 0s 2ms/step - loss: 2.2615\n",
      "Epoch 14/100\n",
      "1/1 [==============================] - 0s 980us/step - loss: 1.6835\n",
      "Epoch 15/100\n",
      "1/1 [==============================] - 0s 998us/step - loss: 1.4238\n",
      "Epoch 16/100\n",
      "1/1 [==============================] - 0s 996us/step - loss: 1.4589\n",
      "Epoch 17/100\n",
      "1/1 [==============================] - 0s 997us/step - loss: 1.6889\n",
      "Epoch 18/100\n",
      "1/1 [==============================] - 0s 2ms/step - loss: 1.9763\n",
      "Epoch 19/100\n",
      "1/1 [==============================] - 0s 2ms/step - loss: 2.1931\n",
      "Epoch 20/100\n",
      "1/1 [==============================] - 0s 0s/step - loss: 2.2585\n",
      "Epoch 21/100\n",
      "1/1 [==============================] - 0s 2ms/step - loss: 2.1548\n",
      "Epoch 22/100\n",
      "1/1 [==============================] - 0s 0s/step - loss: 1.9189\n",
      "Epoch 23/100\n",
      "1/1 [==============================] - 0s 991us/step - loss: 1.6213\n",
      "Epoch 24/100\n",
      "1/1 [==============================] - 0s 988us/step - loss: 1.3389\n",
      "Epoch 25/100\n",
      "1/1 [==============================] - 0s 1ms/step - loss: 1.1327\n",
      "Epoch 26/100\n",
      "1/1 [==============================] - 0s 2ms/step - loss: 1.0329\n",
      "Epoch 27/100\n",
      "1/1 [==============================] - 0s 1000us/step - loss: 1.0340\n",
      "Epoch 28/100\n",
      "1/1 [==============================] - 0s 997us/step - loss: 1.1018\n",
      "Epoch 29/100\n",
      "1/1 [==============================] - 0s 998us/step - loss: 1.1876\n",
      "Epoch 30/100\n",
      "1/1 [==============================] - 0s 1ms/step - loss: 1.2458\n",
      "Epoch 31/100\n",
      "1/1 [==============================] - 0s 999us/step - loss: 1.2481\n",
      "Epoch 32/100\n",
      "1/1 [==============================] - 0s 998us/step - loss: 1.1898\n",
      "Epoch 33/100\n",
      "1/1 [==============================] - 0s 958us/step - loss: 1.0878\n",
      "Epoch 34/100\n",
      "1/1 [==============================] - 0s 998us/step - loss: 0.9712\n",
      "Epoch 35/100\n",
      "1/1 [==============================] - 0s 999us/step - loss: 0.8699\n",
      "Epoch 36/100\n",
      "1/1 [==============================] - 0s 991us/step - loss: 0.8048\n",
      "Epoch 37/100\n",
      "1/1 [==============================] - 0s 968us/step - loss: 0.7821\n",
      "Epoch 38/100\n",
      "1/1 [==============================] - 0s 0s/step - loss: 0.7931\n",
      "Epoch 39/100\n",
      "1/1 [==============================] - 0s 2ms/step - loss: 0.8194\n",
      "Epoch 40/100\n",
      "1/1 [==============================] - 0s 997us/step - loss: 0.8408\n",
      "Epoch 41/100\n",
      "1/1 [==============================] - 0s 0s/step - loss: 0.8427\n",
      "Epoch 42/100\n",
      "1/1 [==============================] - 0s 981us/step - loss: 0.8202\n",
      "Epoch 43/100\n",
      "1/1 [==============================] - 0s 997us/step - loss: 0.7785\n",
      "Epoch 44/100\n",
      "1/1 [==============================] - 0s 1ms/step - loss: 0.7295\n",
      "Epoch 45/100\n",
      "1/1 [==============================] - 0s 997us/step - loss: 0.6862\n",
      "Epoch 46/100\n",
      "1/1 [==============================] - 0s 0s/step - loss: 0.6578\n",
      "Epoch 47/100\n",
      "1/1 [==============================] - 0s 996us/step - loss: 0.6467\n",
      "Epoch 48/100\n",
      "1/1 [==============================] - 0s 993us/step - loss: 0.6488\n",
      "Epoch 49/100\n",
      "1/1 [==============================] - 0s 991us/step - loss: 0.6559\n",
      "Epoch 50/100\n",
      "1/1 [==============================] - 0s 999us/step - loss: 0.6594\n",
      "Epoch 51/100\n",
      "1/1 [==============================] - 0s 2ms/step - loss: 0.6538\n",
      "Epoch 52/100\n",
      "1/1 [==============================] - 0s 988us/step - loss: 0.6384\n",
      "Epoch 53/100\n",
      "1/1 [==============================] - 0s 0s/step - loss: 0.6166\n",
      "Epoch 54/100\n",
      "1/1 [==============================] - 0s 998us/step - loss: 0.5941\n",
      "Epoch 55/100\n",
      "1/1 [==============================] - 0s 1ms/step - loss: 0.5761\n",
      "Epoch 56/100\n",
      "1/1 [==============================] - 0s 0s/step - loss: 0.5653\n",
      "Epoch 57/100\n",
      "1/1 [==============================] - 0s 1ms/step - loss: 0.5611\n",
      "Epoch 58/100\n",
      "1/1 [==============================] - 0s 998us/step - loss: 0.5604\n",
      "Epoch 59/100\n",
      "1/1 [==============================] - 0s 996us/step - loss: 0.5593\n",
      "Epoch 60/100\n",
      "1/1 [==============================] - 0s 994us/step - loss: 0.5548\n",
      "Epoch 61/100\n",
      "1/1 [==============================] - 0s 2ms/step - loss: 0.5460\n",
      "Epoch 62/100\n",
      "1/1 [==============================] - 0s 0s/step - loss: 0.5341\n",
      "Epoch 63/100\n",
      "1/1 [==============================] - 0s 998us/step - loss: 0.5214\n",
      "Epoch 64/100\n",
      "1/1 [==============================] - 0s 996us/step - loss: 0.5104\n",
      "Epoch 65/100\n",
      "1/1 [==============================] - 0s 992us/step - loss: 0.5025\n",
      "Epoch 66/100\n",
      "1/1 [==============================] - 0s 971us/step - loss: 0.4974\n",
      "Epoch 67/100\n",
      "1/1 [==============================] - 0s 0s/step - loss: 0.4939\n",
      "Epoch 68/100\n",
      "1/1 [==============================] - 0s 987us/step - loss: 0.4902\n",
      "Epoch 69/100\n",
      "1/1 [==============================] - 0s 0s/step - loss: 0.4849\n",
      "Epoch 70/100\n",
      "1/1 [==============================] - 0s 997us/step - loss: 0.4779\n",
      "Epoch 71/100\n",
      "1/1 [==============================] - 0s 999us/step - loss: 0.4696\n",
      "Epoch 72/100\n",
      "1/1 [==============================] - 0s 995us/step - loss: 0.4612\n",
      "Epoch 73/100\n",
      "1/1 [==============================] - 0s 995us/step - loss: 0.4538\n",
      "Epoch 74/100\n",
      "1/1 [==============================] - 0s 0s/step - loss: 0.4478\n",
      "Epoch 75/100\n",
      "1/1 [==============================] - 0s 1ms/step - loss: 0.4429\n",
      "Epoch 76/100\n",
      "1/1 [==============================] - 0s 997us/step - loss: 0.4386\n",
      "Epoch 77/100\n",
      "1/1 [==============================] - 0s 997us/step - loss: 0.4339\n",
      "Epoch 78/100\n",
      "1/1 [==============================] - 0s 997us/step - loss: 0.4285\n",
      "Epoch 79/100\n",
      "1/1 [==============================] - 0s 997us/step - loss: 0.4225\n",
      "Epoch 80/100\n",
      "1/1 [==============================] - 0s 997us/step - loss: 0.4161\n",
      "Epoch 81/100\n",
      "1/1 [==============================] - 0s 0s/step - loss: 0.4100\n",
      "Epoch 82/100\n",
      "1/1 [==============================] - 0s 0s/step - loss: 0.4045\n",
      "Epoch 83/100\n",
      "1/1 [==============================] - 0s 997us/step - loss: 0.3997\n",
      "Epoch 84/100\n",
      "1/1 [==============================] - 0s 2ms/step - loss: 0.3952\n",
      "Epoch 85/100\n",
      "1/1 [==============================] - 0s 998us/step - loss: 0.3908\n",
      "Epoch 86/100\n",
      "1/1 [==============================] - 0s 1ms/step - loss: 0.3862\n",
      "Epoch 87/100\n",
      "1/1 [==============================] - 0s 1ms/step - loss: 0.3814\n",
      "Epoch 88/100\n",
      "1/1 [==============================] - 0s 998us/step - loss: 0.3763\n",
      "Epoch 89/100\n",
      "1/1 [==============================] - 0s 998us/step - loss: 0.3714\n",
      "Epoch 90/100\n",
      "1/1 [==============================] - 0s 992us/step - loss: 0.3667\n",
      "Epoch 91/100\n",
      "1/1 [==============================] - 0s 998us/step - loss: 0.3624\n",
      "Epoch 92/100\n",
      "1/1 [==============================] - 0s 999us/step - loss: 0.3584\n",
      "Epoch 93/100\n",
      "1/1 [==============================] - 0s 995us/step - loss: 0.3545\n",
      "Epoch 94/100\n",
      "1/1 [==============================] - 0s 996us/step - loss: 0.3505\n",
      "Epoch 95/100\n",
      "1/1 [==============================] - 0s 1ms/step - loss: 0.3464\n",
      "Epoch 96/100\n",
      "1/1 [==============================] - 0s 0s/step - loss: 0.3423\n",
      "Epoch 97/100\n",
      "1/1 [==============================] - 0s 0s/step - loss: 0.3383\n",
      "Epoch 98/100\n",
      "1/1 [==============================] - 0s 2ms/step - loss: 0.3344\n",
      "Epoch 99/100\n",
      "1/1 [==============================] - 0s 2ms/step - loss: 0.3308\n",
      "Epoch 100/100\n",
      "1/1 [==============================] - 0s 976us/step - loss: 0.3273\n"
     ]
    }
   ],
   "source": [
    "r = model.fit(X, y, epochs = 100)"
   ]
  },
  {
   "cell_type": "code",
   "execution_count": 296,
   "metadata": {},
   "outputs": [
    {
     "data": {
      "text/plain": [
       "<matplotlib.legend.Legend at 0x131c7924f28>"
      ]
     },
     "execution_count": 296,
     "metadata": {},
     "output_type": "execute_result"
    },
    {
     "data": {
      "image/png": "[encoded data removed]",
      "text/plain": [
       "<Figure size 432x288 with 1 Axes>"
      ]
     },
     "metadata": {
      "needs_background": "light"
     },
     "output_type": "display_data"
    }
   ],
   "source": [
    "import matplotlib.pyplot as plt\n",
    "plt.plot(r.history['loss'], label='loss')\n",
    "plt.legend()"
   ]
  },
  {
   "cell_type": "markdown",
   "metadata": {},
   "source": [
    "## Step 4: Evaluate the model"
   ]
  },
  {
   "cell_type": "code",
   "execution_count": 297,
   "metadata": {},
   "outputs": [
    {
     "name": "stdout",
     "output_type": "stream",
     "text": [
      "Model: \"functional_19\"\n",
      "_________________________________________________________________\n",
      "Layer (type)                 Output Shape              Param #   \n",
      "=================================================================\n",
      "input_11 (InputLayer)        [(None, 3)]               0         \n",
      "_________________________________________________________________\n",
      "dense_10 (Dense)             (None, 1)                 4         \n",
      "=================================================================\n",
      "Total params: 4\n",
      "Trainable params: 4\n",
      "Non-trainable params: 0\n",
      "_________________________________________________________________\n"
     ]
    }
   ],
   "source": [
    "model.summary()"
   ]
  },
  {
   "cell_type": "code",
   "execution_count": 298,
   "metadata": {},
   "outputs": [
    {
     "name": "stdout",
     "output_type": "stream",
     "text": [
      "[[3.7212014 ]\n",
      " [4.2401056 ]\n",
      " [4.7590103 ]\n",
      " [3.1875482 ]\n",
      " [1.8692129 ]\n",
      " [1.3503082 ]\n",
      " [0.83140373]\n",
      " [2.402866  ]\n",
      " [3.7212014 ]\n",
      " [4.2401056 ]\n",
      " [4.7590103 ]\n",
      " [3.1875482 ]\n",
      " [1.8692129 ]\n",
      " [1.3503082 ]]\n",
      "14\n"
     ]
    }
   ],
   "source": [
    "print(model.predict(X))\n",
    "print(len(model.predict(X)))"
   ]
  },
  {
   "cell_type": "code",
   "execution_count": 299,
   "metadata": {},
   "outputs": [
    {
     "data": {
      "image/png": "[encoded data removed]",
      "text/plain": [
       "<Figure size 432x288 with 1 Axes>"
      ]
     },
     "metadata": {
      "needs_background": "light"
     },
     "output_type": "display_data"
    }
   ],
   "source": [
    "plt.scatter(np.arange(len(X)), model.predict(X), cmap = 'red')\n",
    "plt.scatter(np.arange(len(X)), y)\n",
    "plt.show()"
   ]
  },
  {
   "cell_type": "code",
   "execution_count": 300,
   "metadata": {},
   "outputs": [
    {
     "name": "stdout",
     "output_type": "stream",
     "text": [
      "[array([[-0.39971542],\n",
      "       [-0.12656339],\n",
      "       [ 1.0451833 ]], dtype=float32), array([1.2384934], dtype=float32)]\n"
     ]
    }
   ],
   "source": [
    "print(model.get_weights())"
   ]
  },
  {
   "cell_type": "markdown",
   "metadata": {},
   "source": [
    "## Step 5: Make a prediction\n",
    "\n",
    "Future values"
   ]
  },
  {
   "cell_type": "code",
   "execution_count": 301,
   "metadata": {},
   "outputs": [
    {
     "name": "stdout",
     "output_type": "stream",
     "text": [
      "The sequence is [1, 2, 3, 4, 5, 4, 3, 2, 1, 2, 3, 4, 5, 4, 3, 2, 1]\n",
      "[1 2 3] 4 predicted value is [3.7212014]\n",
      "[2 3 4] 5 predicted value is [4.2401056]\n",
      "[3 4 5] 4 predicted value is [4.7590103]\n",
      "[4 5 4] 3 predicted value is [3.1875482]\n",
      "[5 4 3] 2 predicted value is [1.8692129]\n",
      "[4 3 2] 1 predicted value is [1.3503082]\n",
      "[3 2 1] 2 predicted value is [0.83140373]\n",
      "[2 1 2] 3 predicted value is [2.402866]\n",
      "[1 2 3] 4 predicted value is [3.7212014]\n",
      "[2 3 4] 5 predicted value is [4.2401056]\n",
      "[3 4 5] 4 predicted value is [4.7590103]\n",
      "[4 5 4] 3 predicted value is [3.1875482]\n",
      "[5 4 3] 2 predicted value is [1.8692129]\n",
      "[4 3 2] 1 predicted value is [1.3503082]\n"
     ]
    }
   ],
   "source": [
    "print(\"The sequence is\", sequence)\n",
    "\n",
    "for i in range(len(X)):\n",
    "    print(X[i], y[i],\"predicted value is\", model.predict(X)[i],)"
   ]
  },
  {
   "cell_type": "code",
   "execution_count": 302,
   "metadata": {},
   "outputs": [
    {
     "data": {
      "image/png": "[encoded data removed]",
      "text/plain": [
       "<Figure size 432x288 with 1 Axes>"
      ]
     },
     "metadata": {
      "needs_background": "light"
     },
     "output_type": "display_data"
    }
   ],
   "source": [
    "plt.scatter(np.arange(len(X)), model.predict(X))\n",
    "plt.scatter(np.arange(len(X)), y)\n",
    "plt.show()"
   ]
  },
  {
   "cell_type": "markdown",
   "metadata": {},
   "source": [
    "Next 3 predicted values are "
   ]
  },
  {
   "cell_type": "code",
   "execution_count": 303,
   "metadata": {},
   "outputs": [
    {
     "name": "stdout",
     "output_type": "stream",
     "text": [
      "Next 3 predicted values are [0.8314037024974823, 1.1814684764551053, 1.9684038741702603]\n"
     ]
    }
   ],
   "source": [
    "W = np.array(sequence[-T:])\n",
    "\n",
    "P =[]\n",
    "\n",
    "for i in range(T):\n",
    "    new_W = W.dot(model.get_weights()[0]) + model.get_weights()[1][0]\n",
    "    \n",
    "    P.append(float(new_W) )\n",
    "    W = np.delete(np.concatenate((W,new_W)),0)\n",
    "    \n",
    "print(\"Next\",T,\"predicted values are\",P)"
   ]
  },
  {
   "cell_type": "markdown",
   "metadata": {},
   "source": [
    "For $T = 3, 4, 10$,  it seems the prediction gets better as $T$ increases. "
   ]
  },
  {
   "cell_type": "code",
   "execution_count": null,
   "metadata": {},
   "outputs": [],
   "source": []
  }
 ],
 "metadata": {
  "kernelspec": {
   "display_name": "Python 3",
   "language": "python",
   "name": "python3"
  },
  "language_info": {
   "codemirror_mode": {
    "name": "ipython",
    "version": 3
   },
   "file_extension": ".py",
   "mimetype": "text/x-python",
   "name": "python",
   "nbconvert_exporter": "python",
   "pygments_lexer": "ipython3",
   "version": "3.7.3"
  }
 },
 "nbformat": 4,
 "nbformat_minor": 2
}

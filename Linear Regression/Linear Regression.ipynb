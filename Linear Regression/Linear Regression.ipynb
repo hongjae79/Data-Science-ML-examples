{
 "cells": [
  {
   "cell_type": "markdown",
   "metadata": {},
   "source": [
    "# Linear Regression with Numpy"
   ]
  },
  {
   "cell_type": "code",
   "execution_count": 1,
   "metadata": {},
   "outputs": [],
   "source": [
    "import numpy as np\n",
    "import matplotlib.pyplot as plt\n",
    "from numpy import zeros"
   ]
  },
  {
   "cell_type": "markdown",
   "metadata": {},
   "source": [
    "## Step 1:  Load Data\n",
    "\n",
    "Let's create a data set. "
   ]
  },
  {
   "cell_type": "code",
   "execution_count": 2,
   "metadata": {},
   "outputs": [],
   "source": [
    "X = np.arange(50)\n",
    "y = 2 * X + 1 + np.random.randn(50)*8"
   ]
  },
  {
   "cell_type": "code",
   "execution_count": 3,
   "metadata": {},
   "outputs": [
    {
     "data": {
      "image/png": "[encoded data removed]",
      "text/plain": [
       "<Figure size 432x288 with 1 Axes>"
      ]
     },
     "metadata": {
      "needs_background": "light"
     },
     "output_type": "display_data"
    }
   ],
   "source": [
    "plt.scatter(X,y)\n",
    "plt.show()"
   ]
  },
  {
   "cell_type": "markdown",
   "metadata": {},
   "source": [
    "## Step 2: Build the model\n",
    "\n",
    "In this case, it would be a linear regression.  So we are trying to have a line $$y = Wx + b$$. \n",
    "\n",
    "We use $W$, instead of $m$, because $W$ is more conventional letter in data science\n",
    "\n",
    "We want to find $W$ and $b$ such that minimizes the equation $$ E = \\frac{1}{N} \\sum_{i = 1}^N (y_i - \\hat{y}_i)^2 $$\n",
    "\n",
    "By replacing, $\\hat{y}_i = Wx_i + b$, we have $$ E = \\frac{1}{N} \\sum_{i=1}^N (y_i - (Wx_i +b))^2 $$\n",
    "\n",
    "Now, $$\\frac{\\partial E}{\\partial W} = \\frac{1}{N} \\sum_{i=1}^N 2(y_i - Wx_i - b)(-x_i) = -\\frac{2}{N}\\sum_{i=1}^N x_i(y_i - \\hat{y}_i)$$\n",
    "\n",
    "$$\\frac{\\partial E}{\\partial b} = \\frac{1}{N} \\sum_{i=1}^n 2(y_i -Wx_i -b)(-1) = -\\frac{2}{N}\\sum_{i=1}^N (y_i - \\hat{y}_i)$$\n",
    "\n",
    "We will apply gradient descent $ W = W - \\eta \\cdot \\nabla E$"
   ]
  },
  {
   "cell_type": "code",
   "execution_count": 4,
   "metadata": {},
   "outputs": [],
   "source": [
    "def model(X,y):\n",
    "\n",
    "    W = 0 \n",
    "    b = 0 \n",
    "\n",
    "    lr = 0.0001\n",
    "    epochs = 1000\n",
    "\n",
    "    N = float(len(X))\n",
    "\n",
    "    for i in range(epochs):\n",
    "        yhat = W*X + b\n",
    "        Ew = (-2/N) * (X.dot(y) - W * X.dot(X) + b * sum(X))\n",
    "        Eb = (-2/N) * (sum(y) - sum(yhat))\n",
    "        W = W - lr * Ew\n",
    "        b = b - lr * Eb\n",
    "        \n",
    "    return W, b, yhat"
   ]
  },
  {
   "cell_type": "markdown",
   "metadata": {},
   "source": [
    "## Step 3 : Train Model\n",
    "\n",
    "It will return three values: $W, b$ and predicted values $\\hat{y}$. "
   ]
  },
  {
   "cell_type": "code",
   "execution_count": 5,
   "metadata": {},
   "outputs": [
    {
     "data": {
      "text/plain": [
       "(1.966275347301653,\n",
       " 0.10100943607618615,\n",
       " array([ 0.10097489,  2.06724919,  4.03352348,  5.99979778,  7.96607208,\n",
       "         9.93234638, 11.89862068, 13.86489497, 15.83116927, 17.79744357,\n",
       "        19.76371787, 21.72999217, 23.69626646, 25.66254076, 27.62881506,\n",
       "        29.59508936, 31.56136366, 33.52763795, 35.49391225, 37.46018655,\n",
       "        39.42646085, 41.39273515, 43.35900945, 45.32528374, 47.29155804,\n",
       "        49.25783234, 51.22410664, 53.19038094, 55.15665523, 57.12292953,\n",
       "        59.08920383, 61.05547813, 63.02175243, 64.98802672, 66.95430102,\n",
       "        68.92057532, 70.88684962, 72.85312392, 74.81939822, 76.78567251,\n",
       "        78.75194681, 80.71822111, 82.68449541, 84.65076971, 86.617044  ,\n",
       "        88.5833183 , 90.5495926 , 92.5158669 , 94.4821412 , 96.44841549]))"
      ]
     },
     "execution_count": 5,
     "metadata": {},
     "output_type": "execute_result"
    }
   ],
   "source": [
    "model(X,y)"
   ]
  },
  {
   "cell_type": "markdown",
   "metadata": {},
   "source": [
    "## Step 4: Evaluate the Model"
   ]
  },
  {
   "cell_type": "code",
   "execution_count": 6,
   "metadata": {},
   "outputs": [
    {
     "name": "stdout",
     "output_type": "stream",
     "text": [
      "predicted values are [ 0.10097489  2.06724919  4.03352348  5.99979778  7.96607208  9.93234638\n",
      " 11.89862068 13.86489497 15.83116927 17.79744357 19.76371787 21.72999217\n",
      " 23.69626646 25.66254076 27.62881506 29.59508936 31.56136366 33.52763795\n",
      " 35.49391225 37.46018655 39.42646085 41.39273515 43.35900945 45.32528374\n",
      " 47.29155804 49.25783234 51.22410664 53.19038094 55.15665523 57.12292953\n",
      " 59.08920383 61.05547813 63.02175243 64.98802672 66.95430102 68.92057532\n",
      " 70.88684962 72.85312392 74.81939822 76.78567251 78.75194681 80.71822111\n",
      " 82.68449541 84.65076971 86.617044   88.5833183  90.5495926  92.5158669\n",
      " 94.4821412  96.44841549]\n"
     ]
    }
   ],
   "source": [
    "print(\"predicted values are\", model(X,y)[2])"
   ]
  },
  {
   "cell_type": "code",
   "execution_count": 7,
   "metadata": {},
   "outputs": [
    {
     "data": {
      "image/png": "[encoded data removed]",
      "text/plain": [
       "<Figure size 432x288 with 1 Axes>"
      ]
     },
     "metadata": {
      "needs_background": "light"
     },
     "output_type": "display_data"
    }
   ],
   "source": [
    "plt.plot(X, model(X,y)[2], color = 'red')\n",
    "plt.scatter(X, y)\n",
    "plt.show()"
   ]
  },
  {
   "cell_type": "markdown",
   "metadata": {},
   "source": [
    "## Step 5: Make a prediction"
   ]
  },
  {
   "cell_type": "code",
   "execution_count": 8,
   "metadata": {},
   "outputs": [],
   "source": [
    "def model_prediction(X_input):\n",
    "    yhat = X_input * model(X,y)[0] + model(X,y)[1]\n",
    "    print(yhat)"
   ]
  },
  {
   "cell_type": "code",
   "execution_count": 9,
   "metadata": {},
   "outputs": [
    {
     "name": "stdout",
     "output_type": "stream",
     "text": [
      "104.31360284306379\n"
     ]
    }
   ],
   "source": [
    "model_prediction(53)"
   ]
  },
  {
   "cell_type": "code",
   "execution_count": null,
   "metadata": {},
   "outputs": [],
   "source": []
  }
 ],
 "metadata": {
  "kernelspec": {
   "display_name": "Python 3",
   "language": "python",
   "name": "python3"
  },
  "language_info": {
   "codemirror_mode": {
    "name": "ipython",
    "version": 3
   },
   "file_extension": ".py",
   "mimetype": "text/x-python",
   "name": "python",
   "nbconvert_exporter": "python",
   "pygments_lexer": "ipython3",
   "version": "3.7.3"
  }
 },
 "nbformat": 4,
 "nbformat_minor": 2
}

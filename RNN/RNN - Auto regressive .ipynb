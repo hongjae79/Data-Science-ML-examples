{
 "cells": [
  {
   "cell_type": "markdown",
   "metadata": {},
   "source": [
    "# Auto Regressive Recurrence Neural Network"
   ]
  },
  {
   "cell_type": "markdown",
   "metadata": {},
   "source": [
    "## Step 1: Load Data\n",
    "\n",
    "Let's create a data.  In this case, we have a sequence $X = [1,2,3,4,5,4,3,2,1,2,3,4,5,4,3,2,1]$. \n",
    "\n",
    "We are to predict the next number of the sequence. "
   ]
  },
  {
   "cell_type": "code",
   "execution_count": 1,
   "metadata": {},
   "outputs": [],
   "source": [
    "import numpy as np\n",
    "import matplotlib.pyplot as plt"
   ]
  },
  {
   "cell_type": "code",
   "execution_count": 2,
   "metadata": {},
   "outputs": [],
   "source": [
    "sequence = [1,2,3,4,5,4,3,2,1,2,3,4,5,4,3,2,1]"
   ]
  },
  {
   "cell_type": "code",
   "execution_count": 3,
   "metadata": {},
   "outputs": [
    {
     "name": "stdout",
     "output_type": "stream",
     "text": [
      "Length of sequence is 17\n"
     ]
    }
   ],
   "source": [
    "print(\"Length of sequence is\", len(sequence))"
   ]
  },
  {
   "cell_type": "markdown",
   "metadata": {},
   "source": [
    "## Step 2: Build the model\n",
    "\n",
    "We let $T=3$.  $T$ here is the length of the window.  That means we are looking at 3 numbers each to predict the next one.  \n",
    "\n",
    "$$ \\hat{x}_t = w_0 + w_1 x_{t-1} + w_2 x_{t-2} + w_3 x_{t-3}   $$\n",
    "\n",
    "This creates 17 - 3 + 1 = 15 data samples. But since we don't have target value for the last term, we will have $N = 17 -3 = 14$ data and 14 target values.  "
   ]
  },
  {
   "cell_type": "code",
   "execution_count": 4,
   "metadata": {},
   "outputs": [],
   "source": [
    "X = []\n",
    "y = []\n",
    "T = 3\n",
    "\n",
    "for i in range(len(sequence) - T):\n",
    "    X.append(list(sequence[i:i+T]))\n",
    "    y.append(sequence[i+T])\n",
    "    \n",
    "X = np.array(X)\n",
    "y = np.array(y)"
   ]
  },
  {
   "cell_type": "code",
   "execution_count": 5,
   "metadata": {},
   "outputs": [
    {
     "name": "stdout",
     "output_type": "stream",
     "text": [
      "14 14\n"
     ]
    }
   ],
   "source": [
    "N = len(X)\n",
    "print(N, len(y))"
   ]
  },
  {
   "cell_type": "code",
   "execution_count": 6,
   "metadata": {},
   "outputs": [
    {
     "data": {
      "text/plain": [
       "array([[1, 2, 3],\n",
       "       [2, 3, 4],\n",
       "       [3, 4, 5],\n",
       "       [4, 5, 4],\n",
       "       [5, 4, 3],\n",
       "       [4, 3, 2],\n",
       "       [3, 2, 1],\n",
       "       [2, 1, 2],\n",
       "       [1, 2, 3],\n",
       "       [2, 3, 4],\n",
       "       [3, 4, 5],\n",
       "       [4, 5, 4],\n",
       "       [5, 4, 3],\n",
       "       [4, 3, 2]])"
      ]
     },
     "execution_count": 6,
     "metadata": {},
     "output_type": "execute_result"
    }
   ],
   "source": [
    "X"
   ]
  },
  {
   "cell_type": "code",
   "execution_count": 7,
   "metadata": {},
   "outputs": [
    {
     "data": {
      "text/plain": [
       "array([4, 5, 4, 3, 2, 1, 2, 3, 4, 5, 4, 3, 2, 1])"
      ]
     },
     "execution_count": 7,
     "metadata": {},
     "output_type": "execute_result"
    }
   ],
   "source": [
    "y"
   ]
  },
  {
   "cell_type": "markdown",
   "metadata": {},
   "source": [
    "Now, let's run ANN model to predict next value.  "
   ]
  },
  {
   "cell_type": "code",
   "execution_count": 8,
   "metadata": {},
   "outputs": [],
   "source": [
    "from tensorflow.keras.layers import Input, Dense\n",
    "from tensorflow.keras.models import Model\n",
    "from tensorflow.keras.optimizers import SGD, Adam"
   ]
  },
  {
   "cell_type": "markdown",
   "metadata": {},
   "source": [
    "Build the model"
   ]
  },
  {
   "cell_type": "code",
   "execution_count": 9,
   "metadata": {},
   "outputs": [],
   "source": [
    "i = Input(shape=(T,))\n",
    "x = Dense(1)(i)\n",
    "\n",
    "model = Model(i,x)"
   ]
  },
  {
   "cell_type": "markdown",
   "metadata": {},
   "source": [
    "## Step 3: Train model"
   ]
  },
  {
   "cell_type": "markdown",
   "metadata": {},
   "source": [
    "Compile and fit"
   ]
  },
  {
   "cell_type": "code",
   "execution_count": 10,
   "metadata": {},
   "outputs": [],
   "source": [
    "model.compile(loss = 'mse', optimizer = Adam(lr = 0.1))"
   ]
  },
  {
   "cell_type": "code",
   "execution_count": 11,
   "metadata": {},
   "outputs": [
    {
     "name": "stdout",
     "output_type": "stream",
     "text": [
      "Epoch 1/100\n",
      "1/1 [==============================] - 0s 1ms/step - loss: 12.2185\n",
      "Epoch 2/100\n",
      "1/1 [==============================] - 0s 998us/step - loss: 8.4768\n",
      "Epoch 3/100\n",
      "1/1 [==============================] - 0s 997us/step - loss: 7.0737\n",
      "Epoch 4/100\n",
      "1/1 [==============================] - 0s 2ms/step - loss: 7.2178\n",
      "Epoch 5/100\n",
      "1/1 [==============================] - 0s 999us/step - loss: 7.6000\n",
      "Epoch 6/100\n",
      "1/1 [==============================] - 0s 997us/step - loss: 7.5294\n",
      "Epoch 7/100\n",
      "1/1 [==============================] - 0s 998us/step - loss: 6.9814\n",
      "Epoch 8/100\n",
      "1/1 [==============================] - 0s 998us/step - loss: 6.1885\n",
      "Epoch 9/100\n",
      "1/1 [==============================] - 0s 997us/step - loss: 5.4039\n",
      "Epoch 10/100\n",
      "1/1 [==============================] - 0s 1ms/step - loss: 4.8008\n",
      "Epoch 11/100\n",
      "1/1 [==============================] - 0s 997us/step - loss: 4.4346\n",
      "Epoch 12/100\n",
      "1/1 [==============================] - 0s 998us/step - loss: 4.2497\n",
      "Epoch 13/100\n",
      "1/1 [==============================] - 0s 997us/step - loss: 4.1271\n",
      "Epoch 14/100\n",
      "1/1 [==============================] - 0s 0s/step - loss: 3.9539\n",
      "Epoch 15/100\n",
      "1/1 [==============================] - 0s 1ms/step - loss: 3.6754\n",
      "Epoch 16/100\n",
      "1/1 [==============================] - 0s 998us/step - loss: 3.3066\n",
      "Epoch 17/100\n",
      "1/1 [==============================] - 0s 997us/step - loss: 2.9077\n",
      "Epoch 18/100\n",
      "1/1 [==============================] - 0s 2ms/step - loss: 2.5486\n",
      "Epoch 19/100\n",
      "1/1 [==============================] - 0s 998us/step - loss: 2.2765\n",
      "Epoch 20/100\n",
      "1/1 [==============================] - 0s 997us/step - loss: 2.0989\n",
      "Epoch 21/100\n",
      "1/1 [==============================] - 0s 999us/step - loss: 1.9861\n",
      "Epoch 22/100\n",
      "1/1 [==============================] - 0s 1000us/step - loss: 1.8904\n",
      "Epoch 23/100\n",
      "1/1 [==============================] - 0s 997us/step - loss: 1.7719\n",
      "Epoch 24/100\n",
      "1/1 [==============================] - 0s 0s/step - loss: 1.6168\n",
      "Epoch 25/100\n",
      "1/1 [==============================] - 0s 997us/step - loss: 1.4389\n",
      "Epoch 26/100\n",
      "1/1 [==============================] - 0s 998us/step - loss: 1.2680\n",
      "Epoch 27/100\n",
      "1/1 [==============================] - 0s 997us/step - loss: 1.1321\n",
      "Epoch 28/100\n",
      "1/1 [==============================] - 0s 997us/step - loss: 1.0437\n",
      "Epoch 29/100\n",
      "1/1 [==============================] - 0s 0s/step - loss: 0.9949\n",
      "Epoch 30/100\n",
      "1/1 [==============================] - 0s 2ms/step - loss: 0.9639\n",
      "Epoch 31/100\n",
      "1/1 [==============================] - 0s 2ms/step - loss: 0.9282\n",
      "Epoch 32/100\n",
      "1/1 [==============================] - 0s 1ms/step - loss: 0.8763\n",
      "Epoch 33/100\n",
      "1/1 [==============================] - 0s 996us/step - loss: 0.8116\n",
      "Epoch 34/100\n",
      "1/1 [==============================] - 0s 997us/step - loss: 0.7480\n",
      "Epoch 35/100\n",
      "1/1 [==============================] - 0s 1ms/step - loss: 0.7001\n",
      "Epoch 36/100\n",
      "1/1 [==============================] - 0s 2ms/step - loss: 0.6743\n",
      "Epoch 37/100\n",
      "1/1 [==============================] - 0s 0s/step - loss: 0.6664\n",
      "Epoch 38/100\n",
      "1/1 [==============================] - 0s 998us/step - loss: 0.6646\n",
      "Epoch 39/100\n",
      "1/1 [==============================] - 0s 998us/step - loss: 0.6576\n",
      "Epoch 40/100\n",
      "1/1 [==============================] - 0s 0s/step - loss: 0.6403\n",
      "Epoch 41/100\n",
      "1/1 [==============================] - 0s 1ms/step - loss: 0.6161\n",
      "Epoch 42/100\n",
      "1/1 [==============================] - 0s 998us/step - loss: 0.5928\n",
      "Epoch 43/100\n",
      "1/1 [==============================] - 0s 993us/step - loss: 0.5773\n",
      "Epoch 44/100\n",
      "1/1 [==============================] - 0s 0s/step - loss: 0.5711\n",
      "Epoch 45/100\n",
      "1/1 [==============================] - 0s 1ms/step - loss: 0.5700\n",
      "Epoch 46/100\n",
      "1/1 [==============================] - 0s 997us/step - loss: 0.5678\n",
      "Epoch 47/100\n",
      "1/1 [==============================] - 0s 2ms/step - loss: 0.5598\n",
      "Epoch 48/100\n",
      "1/1 [==============================] - 0s 998us/step - loss: 0.5458\n",
      "Epoch 49/100\n",
      "1/1 [==============================] - 0s 996us/step - loss: 0.5297\n",
      "Epoch 50/100\n",
      "1/1 [==============================] - 0s 998us/step - loss: 0.5155\n",
      "Epoch 51/100\n",
      "1/1 [==============================] - 0s 2ms/step - loss: 0.5057\n",
      "Epoch 52/100\n",
      "1/1 [==============================] - 0s 2ms/step - loss: 0.4988\n",
      "Epoch 53/100\n",
      "1/1 [==============================] - 0s 2ms/step - loss: 0.4919\n",
      "Epoch 54/100\n",
      "1/1 [==============================] - 0s 997us/step - loss: 0.4822\n",
      "Epoch 55/100\n",
      "1/1 [==============================] - 0s 997us/step - loss: 0.4691\n",
      "Epoch 56/100\n",
      "1/1 [==============================] - 0s 1ms/step - loss: 0.4546\n",
      "Epoch 57/100\n",
      "1/1 [==============================] - 0s 2ms/step - loss: 0.4410\n",
      "Epoch 58/100\n",
      "1/1 [==============================] - 0s 996us/step - loss: 0.4298\n",
      "Epoch 59/100\n",
      "1/1 [==============================] - 0s 2ms/step - loss: 0.4205\n",
      "Epoch 60/100\n",
      "1/1 [==============================] - 0s 995us/step - loss: 0.4115\n",
      "Epoch 61/100\n",
      "1/1 [==============================] - 0s 993us/step - loss: 0.4013\n",
      "Epoch 62/100\n",
      "1/1 [==============================] - 0s 988us/step - loss: 0.3899\n",
      "Epoch 63/100\n",
      "1/1 [==============================] - 0s 996us/step - loss: 0.3781\n",
      "Epoch 64/100\n",
      "1/1 [==============================] - 0s 2ms/step - loss: 0.3672\n",
      "Epoch 65/100\n",
      "1/1 [==============================] - 0s 2ms/step - loss: 0.3580\n",
      "Epoch 66/100\n",
      "1/1 [==============================] - 0s 997us/step - loss: 0.3501\n",
      "Epoch 67/100\n",
      "1/1 [==============================] - 0s 997us/step - loss: 0.3424\n",
      "Epoch 68/100\n",
      "1/1 [==============================] - 0s 2ms/step - loss: 0.3344\n",
      "Epoch 69/100\n",
      "1/1 [==============================] - 0s 997us/step - loss: 0.3260\n",
      "Epoch 70/100\n",
      "1/1 [==============================] - 0s 1ms/step - loss: 0.3178\n",
      "Epoch 71/100\n",
      "1/1 [==============================] - 0s 997us/step - loss: 0.3106\n",
      "Epoch 72/100\n",
      "1/1 [==============================] - 0s 997us/step - loss: 0.3043\n",
      "Epoch 73/100\n",
      "1/1 [==============================] - 0s 982us/step - loss: 0.2988\n",
      "Epoch 74/100\n",
      "1/1 [==============================] - 0s 998us/step - loss: 0.2933\n",
      "Epoch 75/100\n",
      "1/1 [==============================] - 0s 997us/step - loss: 0.2877\n",
      "Epoch 76/100\n",
      "1/1 [==============================] - 0s 0s/step - loss: 0.2821\n",
      "Epoch 77/100\n",
      "1/1 [==============================] - 0s 997us/step - loss: 0.2768\n",
      "Epoch 78/100\n",
      "1/1 [==============================] - 0s 996us/step - loss: 0.2722\n",
      "Epoch 79/100\n",
      "1/1 [==============================] - 0s 1ms/step - loss: 0.2681\n",
      "Epoch 80/100\n",
      "1/1 [==============================] - 0s 0s/step - loss: 0.2642\n",
      "Epoch 81/100\n",
      "1/1 [==============================] - 0s 998us/step - loss: 0.2602\n",
      "Epoch 82/100\n",
      "1/1 [==============================] - 0s 998us/step - loss: 0.2562\n",
      "Epoch 83/100\n",
      "1/1 [==============================] - 0s 0s/step - loss: 0.2524\n",
      "Epoch 84/100\n",
      "1/1 [==============================] - 0s 997us/step - loss: 0.2489\n",
      "Epoch 85/100\n",
      "1/1 [==============================] - 0s 1ms/step - loss: 0.2457\n",
      "Epoch 86/100\n",
      "1/1 [==============================] - 0s 997us/step - loss: 0.2427\n",
      "Epoch 87/100\n",
      "1/1 [==============================] - 0s 998us/step - loss: 0.2397\n",
      "Epoch 88/100\n",
      "1/1 [==============================] - 0s 998us/step - loss: 0.2367\n",
      "Epoch 89/100\n",
      "1/1 [==============================] - 0s 996us/step - loss: 0.2337\n",
      "Epoch 90/100\n",
      "1/1 [==============================] - 0s 997us/step - loss: 0.2309\n",
      "Epoch 91/100\n",
      "1/1 [==============================] - 0s 3ms/step - loss: 0.2284\n",
      "Epoch 92/100\n",
      "1/1 [==============================] - 0s 997us/step - loss: 0.2260\n",
      "Epoch 93/100\n",
      "1/1 [==============================] - 0s 0s/step - loss: 0.2236\n",
      "Epoch 94/100\n",
      "1/1 [==============================] - 0s 986us/step - loss: 0.2213\n",
      "Epoch 95/100\n",
      "1/1 [==============================] - 0s 1ms/step - loss: 0.2191\n",
      "Epoch 96/100\n",
      "1/1 [==============================] - 0s 2ms/step - loss: 0.2169\n",
      "Epoch 97/100\n",
      "1/1 [==============================] - 0s 1ms/step - loss: 0.2149\n",
      "Epoch 98/100\n",
      "1/1 [==============================] - 0s 0s/step - loss: 0.2131\n",
      "Epoch 99/100\n",
      "1/1 [==============================] - 0s 0s/step - loss: 0.2113\n",
      "Epoch 100/100\n",
      "1/1 [==============================] - 0s 2ms/step - loss: 0.2095\n"
     ]
    }
   ],
   "source": [
    "r = model.fit(X, y, epochs = 100)"
   ]
  },
  {
   "cell_type": "code",
   "execution_count": 12,
   "metadata": {},
   "outputs": [
    {
     "data": {
      "text/plain": [
       "<matplotlib.legend.Legend at 0x20ad7b86908>"
      ]
     },
     "execution_count": 12,
     "metadata": {},
     "output_type": "execute_result"
    },
    {
     "data": {
      "image/png": "[encoded data removed]",
      "text/plain": [
       "<Figure size 432x288 with 1 Axes>"
      ]
     },
     "metadata": {
      "needs_background": "light"
     },
     "output_type": "display_data"
    }
   ],
   "source": [
    "import matplotlib.pyplot as plt\n",
    "plt.plot(r.history['loss'], label='loss')\n",
    "plt.legend()"
   ]
  },
  {
   "cell_type": "markdown",
   "metadata": {},
   "source": [
    "## Step 4: Evaluate the model"
   ]
  },
  {
   "cell_type": "code",
   "execution_count": 13,
   "metadata": {},
   "outputs": [
    {
     "name": "stdout",
     "output_type": "stream",
     "text": [
      "Model: \"functional_1\"\n",
      "_________________________________________________________________\n",
      "Layer (type)                 Output Shape              Param #   \n",
      "=================================================================\n",
      "input_1 (InputLayer)         [(None, 3)]               0         \n",
      "_________________________________________________________________\n",
      "dense (Dense)                (None, 1)                 4         \n",
      "=================================================================\n",
      "Total params: 4\n",
      "Trainable params: 4\n",
      "Non-trainable params: 0\n",
      "_________________________________________________________________\n"
     ]
    }
   ],
   "source": [
    "model.summary()"
   ]
  },
  {
   "cell_type": "code",
   "execution_count": 14,
   "metadata": {},
   "outputs": [
    {
     "name": "stdout",
     "output_type": "stream",
     "text": [
      "[[4.159244 ]\n",
      " [4.2675395]\n",
      " [4.375835 ]\n",
      " [3.2596114]\n",
      " [1.640001 ]\n",
      " [1.531706 ]\n",
      " [1.4234107]\n",
      " [2.5396338]\n",
      " [4.159244 ]\n",
      " [4.2675395]\n",
      " [4.375835 ]\n",
      " [3.2596114]\n",
      " [1.640001 ]\n",
      " [1.531706 ]]\n",
      "14\n"
     ]
    }
   ],
   "source": [
    "print(model.predict(X))\n",
    "print(len(model.predict(X)))"
   ]
  },
  {
   "cell_type": "code",
   "execution_count": 15,
   "metadata": {},
   "outputs": [
    {
     "data": {
      "image/png": "[encoded data removed]",
      "text/plain": [
       "<Figure size 432x288 with 1 Axes>"
      ]
     },
     "metadata": {
      "needs_background": "light"
     },
     "output_type": "display_data"
    }
   ],
   "source": [
    "plt.scatter(np.arange(len(X)), model.predict(X), cmap = 'red')\n",
    "plt.scatter(np.arange(len(X)), y)\n",
    "plt.show()"
   ]
  },
  {
   "cell_type": "code",
   "execution_count": 16,
   "metadata": {},
   "outputs": [
    {
     "name": "stdout",
     "output_type": "stream",
     "text": [
      "[array([[-0.7556574],\n",
      "       [ 0.2516934],\n",
      "       [ 0.6122593]], dtype=float32), array([2.5747366], dtype=float32)]\n"
     ]
    }
   ],
   "source": [
    "print(model.get_weights())"
   ]
  },
  {
   "cell_type": "markdown",
   "metadata": {},
   "source": [
    "## Step 5: Make a prediction\n",
    "\n",
    "Future values"
   ]
  },
  {
   "cell_type": "code",
   "execution_count": 17,
   "metadata": {},
   "outputs": [
    {
     "name": "stdout",
     "output_type": "stream",
     "text": [
      "The sequence is [1, 2, 3, 4, 5, 4, 3, 2, 1, 2, 3, 4, 5, 4, 3, 2, 1]\n",
      "[1 2 3] 4 predicted value is [4.159244]\n",
      "[2 3 4] 5 predicted value is [4.2675395]\n",
      "[3 4 5] 4 predicted value is [4.375835]\n",
      "[4 5 4] 3 predicted value is [3.2596114]\n",
      "[5 4 3] 2 predicted value is [1.640001]\n",
      "[4 3 2] 1 predicted value is [1.531706]\n",
      "[3 2 1] 2 predicted value is [1.4234107]\n",
      "[2 1 2] 3 predicted value is [2.5396338]\n",
      "[1 2 3] 4 predicted value is [4.159244]\n",
      "[2 3 4] 5 predicted value is [4.2675395]\n",
      "[3 4 5] 4 predicted value is [4.375835]\n",
      "[4 5 4] 3 predicted value is [3.2596114]\n",
      "[5 4 3] 2 predicted value is [1.640001]\n",
      "[4 3 2] 1 predicted value is [1.531706]\n"
     ]
    }
   ],
   "source": [
    "print(\"The sequence is\", sequence)\n",
    "\n",
    "for i in range(len(X)):\n",
    "    print(X[i], y[i],\"predicted value is\", model.predict(X)[i],)"
   ]
  },
  {
   "cell_type": "code",
   "execution_count": 18,
   "metadata": {},
   "outputs": [
    {
     "data": {
      "image/png": "[encoded data removed]",
      "text/plain": [
       "<Figure size 432x288 with 1 Axes>"
      ]
     },
     "metadata": {
      "needs_background": "light"
     },
     "output_type": "display_data"
    }
   ],
   "source": [
    "plt.scatter(np.arange(len(X)), model.predict(X))\n",
    "plt.scatter(np.arange(len(X)), y)\n",
    "plt.show()"
   ]
  },
  {
   "cell_type": "markdown",
   "metadata": {},
   "source": [
    "Next 3 predicted values are "
   ]
  },
  {
   "cell_type": "code",
   "execution_count": 19,
   "metadata": {},
   "outputs": [
    {
     "name": "stdout",
     "output_type": "stream",
     "text": [
      "Next 3 predicted values are [1.4234105944633484, 2.1866116577507064, 3.5161156541938103]\n"
     ]
    }
   ],
   "source": [
    "W = np.array(sequence[-T:])\n",
    "\n",
    "P =[]\n",
    "\n",
    "for i in range(T):\n",
    "    new_W = W.dot(model.get_weights()[0]) + model.get_weights()[1][0]\n",
    "    \n",
    "    P.append(float(new_W) )\n",
    "    W = np.delete(np.concatenate((W,new_W)),0)\n",
    "    \n",
    "print(\"Next\",T,\"predicted values are\",P)"
   ]
  },
  {
   "cell_type": "markdown",
   "metadata": {},
   "source": [
    "For $T = 3, 4, 10$,  it seems the prediction gets better as $T$ increases. "
   ]
  },
  {
   "cell_type": "code",
   "execution_count": 23,
   "metadata": {},
   "outputs": [
    {
     "data": {
      "text/plain": [
       "array([[1.4234107]], dtype=float32)"
      ]
     },
     "execution_count": 23,
     "metadata": {},
     "output_type": "execute_result"
    }
   ],
   "source": [
    "model.predict(np.array([[3,2,1]]))"
   ]
  },
  {
   "cell_type": "code",
   "execution_count": 34,
   "metadata": {},
   "outputs": [
    {
     "name": "stdout",
     "output_type": "stream",
     "text": [
      "(3,)\n"
     ]
    },
    {
     "data": {
      "text/plain": [
       "array([1.42341059, 2.18661166, 3.51611565])"
      ]
     },
     "execution_count": 34,
     "metadata": {},
     "output_type": "execute_result"
    }
   ],
   "source": [
    "print(W.shape)\n",
    "W"
   ]
  },
  {
   "cell_type": "code",
   "execution_count": 33,
   "metadata": {},
   "outputs": [
    {
     "name": "stdout",
     "output_type": "stream",
     "text": [
      "(3, 1)\n"
     ]
    },
    {
     "data": {
      "text/plain": [
       "array([[-0.7556574],\n",
       "       [ 0.2516934],\n",
       "       [ 0.6122593]], dtype=float32)"
      ]
     },
     "execution_count": 33,
     "metadata": {},
     "output_type": "execute_result"
    }
   ],
   "source": [
    "print(model.get_weights()[0].shape)\n",
    "model.get_weights()[0]"
   ]
  },
  {
   "cell_type": "code",
   "execution_count": 30,
   "metadata": {},
   "outputs": [
    {
     "data": {
      "text/plain": [
       "array([1.62751961])"
      ]
     },
     "execution_count": 30,
     "metadata": {},
     "output_type": "execute_result"
    }
   ],
   "source": [
    "W.dot(model.get_weights()[0])"
   ]
  },
  {
   "cell_type": "code",
   "execution_count": null,
   "metadata": {},
   "outputs": [],
   "source": []
  }
 ],
 "metadata": {
  "kernelspec": {
   "display_name": "Python 3",
   "language": "python",
   "name": "python3"
  },
  "language_info": {
   "codemirror_mode": {
    "name": "ipython",
    "version": 3
   },
   "file_extension": ".py",
   "mimetype": "text/x-python",
   "name": "python",
   "nbconvert_exporter": "python",
   "pygments_lexer": "ipython3",
   "version": "3.8.5"
  }
 },
 "nbformat": 4,
 "nbformat_minor": 2
}

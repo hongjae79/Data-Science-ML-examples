{
 "cells": [
  {
   "cell_type": "markdown",
   "metadata": {},
   "source": [
    "# Artificial Neural Network with Numpy"
   ]
  },
  {
   "cell_type": "markdown",
   "metadata": {},
   "source": [
    "## Step 1: Load the data\n",
    "\n",
    "We create some data. "
   ]
  },
  {
   "cell_type": "code",
   "execution_count": 1,
   "metadata": {},
   "outputs": [],
   "source": [
    "import numpy as np\n",
    "from numpy import zeros\n",
    "from numpy import ones\n",
    "import matplotlib.pyplot as plt"
   ]
  },
  {
   "cell_type": "code",
   "execution_count": 2,
   "metadata": {},
   "outputs": [],
   "source": [
    "D = 2 \n",
    "\n",
    "X1 = np.random.randn(500,D) + np.array([0,-4])\n",
    "X2 = np.random.randn(500,D) + np.array([4,-4])\n",
    "X3 = np.random.randn(500,D) + np.array([2,0])\n",
    "X = np.concatenate((X1,X2,X3), axis = 0)\n",
    "\n",
    "y1 = np.zeros(500)\n",
    "y2 = np.ones(500)\n",
    "y3 = 2 * np.ones(500) \n",
    "y = np.concatenate((y1,y2,y3), axis = 0)"
   ]
  },
  {
   "cell_type": "code",
   "execution_count": 3,
   "metadata": {},
   "outputs": [
    {
     "data": {
      "image/png": "[encoded data removed]",
      "text/plain": [
       "<Figure size 432x288 with 1 Axes>"
      ]
     },
     "metadata": {
      "needs_background": "light"
     },
     "output_type": "display_data"
    }
   ],
   "source": [
    "plt.scatter(X1[:,0], X1[:,1], color = 'red')\n",
    "plt.scatter(X2[:,0], X2[:,1], color = 'blue')\n",
    "plt.scatter(X3[:,0], X3[:,1], color = 'yellow')\n",
    "plt.show()"
   ]
  },
  {
   "cell_type": "markdown",
   "metadata": {},
   "source": [
    "## Step 2: Build the model\n",
    "\n",
    "$N = 1500$ is the total number of samples.  \n",
    "$D= 2$ is the dimension of input.  \n",
    "$M = 4$ is the dimension of hidden layer.   \n",
    "$K = 3$ is the number of classes.    \n",
    "\n",
    "If $X = \\langle x_1, x_2 \\rangle$ is an input, then we have a $D \\times M$ matrix $W = \\left[\n",
    "\\begin{array}{cc}\n",
    "w_{11} & w_{12} & w_{13} & w_{14} \\\\\n",
    "w_{21} & w_{22} & w_{23} & w_{24} \\\\\n",
    "\\end{array}\n",
    "\\right]$ from input layer to hidden layer. \n",
    "\n",
    "$$ \n",
    "W^TX + b = \n",
    "\\left[\n",
    "\\begin{array}{cc}\n",
    "w_{11} & w_{21} \\\\\n",
    "w_{12} & w_{22} \\\\\n",
    "w_{13} & w_{23} \\\\\n",
    "w_{14} & w_{24}\n",
    "\\end{array}\n",
    "\\right]\n",
    "\\left[\n",
    "\\begin{array}{c}\n",
    "x_{1} \\\\\n",
    "x_{2} \n",
    "\\end{array}\n",
    "\\right]\n",
    "+ \n",
    "\\left[ \n",
    "\\begin{array}{c}\n",
    "b_1 \\\\\n",
    "b_2 \\\\\n",
    "b_3 \\\\\n",
    "b_4 \n",
    "\\end{array}\n",
    "\\right]\n",
    "$$\n",
    "\n",
    "Note $W^T$ is $4 \\times 2$ matrix.  $X$ is $2 \\times 1$ matrix.  The matrix multiplication $W^TX$ can be done in code by $W.T.dot(X)$.  The result will be $ 4 \\times 1$ matrix."
   ]
  },
  {
   "cell_type": "markdown",
   "metadata": {},
   "source": [
    "Now apply activation function $Z = \\sigma(W^TX + b)$.  Activation function could be Relu, sigmoid, tanh, etc.   "
   ]
  },
  {
   "cell_type": "markdown",
   "metadata": {},
   "source": [
    "Now, $Z = \\langle z_1, z_2, z_3, z_4 \\rangle$.  We have $M \\times K$ matrix $V = \\left[\n",
    "\\begin{array}{cc}\n",
    "v_{11} & v_{12} & v_{13}  \\\\\n",
    "v_{21} & v_{22} & v_{23}\\\\\n",
    "v_{31} & v_{32} & v_{33}\\\\\n",
    "v_{41} & v_{42} & v_{43}\\\\\n",
    "\\end{array}\n",
    "\\right]\n",
    "$\n",
    "from hidden layer to output layer.\n",
    "$$ \n",
    "V^TZ + c = \n",
    "\\left[\n",
    "\\begin{array}{cccc}\n",
    "v_{11} & v_{21} & v_{31} & v_{41}\\\\\n",
    "v_{12} & v_{22} & v_{32} & v_{42}\\\\\n",
    "v_{13} & v_{23} & v_{33} & v_{43}\\\\\n",
    "\\end{array}\n",
    "\\right]\n",
    "\\left[\n",
    "\\begin{array}{c}\n",
    "z_{1} \\\\\n",
    "z_{2} \\\\\n",
    "z_{3} \\\\\n",
    "z_{4}\n",
    "\\end{array}\n",
    "\\right]\n",
    "+ \n",
    "\\left[ \n",
    "\\begin{array}{c}\n",
    "c_1 \\\\\n",
    "c_2 \\\\\n",
    "c_3 \\\\\n",
    "\\end{array}\n",
    "\\right]\n",
    "$$"
   ]
  },
  {
   "cell_type": "markdown",
   "metadata": {},
   "source": [
    "We have $\\hat{y} = softmax(V^TZ +c)$, where $$ softmax(X)_j = \\frac{ e^{x_j}}{\\sum_{k=1}^K e^{x_k}}, \\text{ where $X$ is $K$-dimensional vector}$$\n",
    "\n",
    "Then change the output of softmax function $\\hat{y}$ to hot encoding.  For example, $\\hat{y} = [0.2, 0.3, 0.5] \\rightarrow P= argmax\\{\\hat{y}\\} = argmax\\{[0.2, 0.3, 0.5]\\} = [0,0,1]$.  Now we have the prediction. "
   ]
  },
  {
   "cell_type": "markdown",
   "metadata": {},
   "source": [
    "#### Loss function"
   ]
  },
  {
   "cell_type": "markdown",
   "metadata": {},
   "source": [
    "The loss function is $\\textbf{categorical cross entropy function}$, \n",
    "\n",
    "$$\n",
    "J = -\\sum_{n=1}^N \\sum_{k=1}^K y_{nk} \\log \\hat{y}_{nk}\n",
    "$$\n",
    "\n",
    "Remember we need to find $W, b, V, c$ to minimize $J$.  \n",
    "\n",
    "Now, derivatives are \n",
    "$$ \n",
    "\\frac{\\partial J}{\\partial W_{dm}} = -\\sum_{n=1}^N \\sum_{k=1}^K (y_{nk} - \\hat{y}_{nk})V Z_{nm}(1-Z_{nm})X_{nd}\n",
    "$$\n",
    "\n",
    "$$\n",
    "\\frac{\\partial J}{\\partial b_m} = -\\sum_{n=1}^N \\sum_{k=1}^K (y_{nk} - \\hat{y}_{nk})V Z_{nm}(1-Z_{nm})\n",
    "$$\n",
    "\n",
    "$$\n",
    "\\frac{\\partial J}{\\partial V_{mk}} = -\\sum_{n=1}^N (y_{nk} - \\hat{y}_{nk})Z_{nm}\n",
    "$$\n",
    "\n",
    "$$\n",
    "\\frac{\\partial J}{\\partial c_{k}} = -\\sum_{n=1}^N (y_{nk} - \\hat{y}_{nk}) \n",
    "$$"
   ]
  },
  {
   "cell_type": "markdown",
   "metadata": {},
   "source": [
    "Run gradient descent to find optimal $W, b, V, c$.  Note we used sigmoid and softmax, respectively as activation function.  If we used relu tanh, then derivatives look different.  "
   ]
  },
  {
   "cell_type": "markdown",
   "metadata": {},
   "source": [
    "## Step 2: Build the model"
   ]
  },
  {
   "cell_type": "code",
   "execution_count": 4,
   "metadata": {},
   "outputs": [],
   "source": [
    "K = 3"
   ]
  },
  {
   "cell_type": "code",
   "execution_count": 5,
   "metadata": {},
   "outputs": [],
   "source": [
    "def sigmoid(p):\n",
    "    sig = 1/(1+np.exp(-p))\n",
    "    return sig"
   ]
  },
  {
   "cell_type": "code",
   "execution_count": 6,
   "metadata": {},
   "outputs": [],
   "source": [
    "def softmax(A):\n",
    "    for i in range(len(A)):\n",
    "        A[i] = np.exp(A[i])/sum(np.exp(A[i]))\n",
    "    return A"
   ]
  },
  {
   "cell_type": "code",
   "execution_count": 7,
   "metadata": {},
   "outputs": [],
   "source": [
    "def one_key_hotcoding(y):\n",
    "    T = []\n",
    "\n",
    "    for i in range(len(y)):\n",
    "        if y[i] == 0:\n",
    "            T.append([1,0,0])\n",
    "        elif y[i] == 1:\n",
    "            T.append([0,1,0])\n",
    "        else:\n",
    "            T.append([0,0,1])\n",
    "    return T"
   ]
  },
  {
   "cell_type": "code",
   "execution_count": 8,
   "metadata": {},
   "outputs": [],
   "source": [
    "def model(X,y,M):\n",
    "        \n",
    "    W = np.random.randn(D,M)\n",
    "    b = np.random.randn(M)\n",
    "    V = np.random.randn(M,K)\n",
    "    c = np.random.randn(K)\n",
    "\n",
    "    epochs = 1000\n",
    "    lr = 0.001\n",
    "\n",
    "    T = one_key_hotcoding(y)\n",
    "    \n",
    "    for i in range(epochs):\n",
    "        Z = sigmoid(X.dot(W)+b)\n",
    "        yhat = softmax(Z.dot(V)+c)\n",
    "\n",
    "        JV = -Z.T.dot(T - yhat)\n",
    "        Jc = -(T-yhat).sum(axis = 0)\n",
    "        JW = -X.T.dot((T-yhat).dot(V.T)*Z*(1-Z))\n",
    "        Jb = -((T-yhat).dot(V.T)*Z*(1-Z)).sum(axis = 0)\n",
    "\n",
    "        V = V - lr * JV\n",
    "        c = c - lr * Jc    \n",
    "        W = W - lr * JW\n",
    "        b = b - lr * Jb\n",
    "        \n",
    "    return W,b,V,c, yhat"
   ]
  },
  {
   "cell_type": "markdown",
   "metadata": {},
   "source": [
    "## Step 3: Train model"
   ]
  },
  {
   "cell_type": "code",
   "execution_count": 9,
   "metadata": {},
   "outputs": [],
   "source": [
    "W, b, V, c, yhat = model(X,y,4)"
   ]
  },
  {
   "cell_type": "markdown",
   "metadata": {},
   "source": [
    "## Step 4: Evaluate the model"
   ]
  },
  {
   "cell_type": "code",
   "execution_count": 10,
   "metadata": {},
   "outputs": [
    {
     "name": "stdout",
     "output_type": "stream",
     "text": [
      "W is [[ 0.15928941  0.9509276   0.90282151 -1.47139921]\n",
      " [ 1.34509721 -1.12741478 -1.11426322 -0.49633258]]\n",
      "b is [ 2.46060454 -5.35751419  0.3025023   0.6328878 ]\n",
      "V is [[-3.40195553 -2.4576502   3.58653957]\n",
      " [-0.41375002  5.63946094 -4.73469449]\n",
      " [ 1.27692649  0.4993913   0.42082191]\n",
      " [ 5.90537866 -4.1287861  -1.97108371]]\n",
      "c is [-0.93371301  0.20368119  1.67712553]\n"
     ]
    }
   ],
   "source": [
    "print(\"W is\", W)\n",
    "print(\"b is\", b)\n",
    "print(\"V is\", V)\n",
    "print(\"c is\", c)"
   ]
  },
  {
   "cell_type": "code",
   "execution_count": 11,
   "metadata": {},
   "outputs": [
    {
     "name": "stdout",
     "output_type": "stream",
     "text": [
      "Accuracy is 96.8\n"
     ]
    }
   ],
   "source": [
    "P = np.argmax(yhat, axis = 1)\n",
    "\n",
    "correct = 0\n",
    "\n",
    "for i in range(len(y)):\n",
    "    if y[i] == P[i]:\n",
    "        correct += 1\n",
    "        \n",
    "print(\"Accuracy is\", correct/float(len(y)) * 100)"
   ]
  },
  {
   "cell_type": "markdown",
   "metadata": {},
   "source": [
    "## Step 5: Make a prediction\n",
    "\n",
    "Let's select a random point (1,2). "
   ]
  },
  {
   "cell_type": "code",
   "execution_count": 12,
   "metadata": {},
   "outputs": [],
   "source": [
    "S = np.array([1,2])\n",
    "\n",
    "B = sigmoid(S.dot(W)+b).dot(V) + c\n",
    "yhat = np.array([np.exp(B[0]), np.exp(B[1]), np.exp(B[2])])/sum(np.exp(B))"
   ]
  },
  {
   "cell_type": "code",
   "execution_count": 13,
   "metadata": {},
   "outputs": [
    {
     "name": "stdout",
     "output_type": "stream",
     "text": [
      "predicted output is 2\n"
     ]
    }
   ],
   "source": [
    "print(\"predicted output is\", np.argmax(yhat))"
   ]
  },
  {
   "cell_type": "code",
   "execution_count": null,
   "metadata": {},
   "outputs": [],
   "source": []
  }
 ],
 "metadata": {
  "kernelspec": {
   "display_name": "Python 3",
   "language": "python",
   "name": "python3"
  },
  "language_info": {
   "codemirror_mode": {
    "name": "ipython",
    "version": 3
   },
   "file_extension": ".py",
   "mimetype": "text/x-python",
   "name": "python",
   "nbconvert_exporter": "python",
   "pygments_lexer": "ipython3",
   "version": "3.7.3"
  }
 },
 "nbformat": 4,
 "nbformat_minor": 2
}

{
 "cells": [
  {
   "cell_type": "code",
   "execution_count": 194,
   "metadata": {},
   "outputs": [],
   "source": [
    "import numpy as np\n",
    "import theano\n",
    "import theano.tensor as T\n",
    "import matplotlib.pyplot as plt\n",
    "import pandas as pd"
   ]
  },
  {
   "cell_type": "code",
   "execution_count": 195,
   "metadata": {},
   "outputs": [],
   "source": [
    "df = pd.read_csv('./train.csv')"
   ]
  },
  {
   "cell_type": "code",
   "execution_count": 196,
   "metadata": {},
   "outputs": [],
   "source": [
    "# Load data\n",
    "\n",
    "data = df.values.astype(np.float32)\n",
    "np.random.shuffle(data)\n",
    "X = data[:, 1:]\n",
    "Y = data[:, 0]\n",
    "\n",
    "Xtrain = X[:-1000]\n",
    "Ytrain = Y[:-1000]\n",
    "Xtest  = X[-1000:]\n",
    "Ytest  = Y[-1000:]"
   ]
  },
  {
   "cell_type": "code",
   "execution_count": 197,
   "metadata": {},
   "outputs": [
    {
     "data": {
      "image/png": "[encoded data removed]",
      "text/plain": [
       "<Figure size 432x288 with 1 Axes>"
      ]
     },
     "metadata": {
      "needs_background": "light"
     },
     "output_type": "display_data"
    }
   ],
   "source": [
    "s = np.reshape(Xtrain[0], (28, 28))\n",
    "plt.imshow(s)\n",
    "plt.show()"
   ]
  },
  {
   "cell_type": "code",
   "execution_count": 198,
   "metadata": {},
   "outputs": [],
   "source": [
    "# normalizie the data\n",
    "\n",
    "mu = Xtrain.mean(axis=0)\n",
    "std = Xtrain.std(axis=0)\n",
    "\n",
    "np.place(std, std == 0, 1)\n",
    "\n",
    "Xtrain = (Xtrain - mu) / std\n",
    "Xtest = (Xtest - mu) / std"
   ]
  },
  {
   "cell_type": "code",
   "execution_count": 199,
   "metadata": {},
   "outputs": [],
   "source": [
    "# change y to hot encoder\n",
    "\n",
    "def y2indicator(y):\n",
    "\n",
    "    y = y.astype(np.int32)\n",
    "    ind = np.zeros((len(y), 10))\n",
    "\n",
    "    for i in range(len(y)):\n",
    "        ind[i, y[i]] = 1\n",
    "        \n",
    "    return ind "
   ]
  },
  {
   "cell_type": "code",
   "execution_count": 200,
   "metadata": {},
   "outputs": [],
   "source": [
    "def error_rate(p, t):\n",
    "    return np.mean(p != t)"
   ]
  },
  {
   "cell_type": "code",
   "execution_count": 201,
   "metadata": {},
   "outputs": [],
   "source": [
    "def relu(a):\n",
    "    return a * (a > 0)"
   ]
  },
  {
   "cell_type": "code",
   "execution_count": 202,
   "metadata": {},
   "outputs": [],
   "source": [
    "Ytrain_ind = y2indicator(Ytrain)\n",
    "Ytest_ind = y2indicator(Ytest)"
   ]
  },
  {
   "cell_type": "code",
   "execution_count": 203,
   "metadata": {},
   "outputs": [],
   "source": [
    "# data is ready\n",
    "\n",
    "Xtrain = Xtrain.astype(np.float32)\n",
    "Xtest = Xtest.astype(np.float32)\n",
    "Ytrain = Ytrain.astype(np.float32)\n",
    "Ytest = Ytest.astype(np.float32)\n",
    "Ytrain_ind = Ytrain_ind.astype(np.float32)\n",
    "Ytest_ind = Ytest_ind.astype(np.float32)"
   ]
  },
  {
   "cell_type": "code",
   "execution_count": 273,
   "metadata": {},
   "outputs": [],
   "source": [
    "# initial values\n",
    "\n",
    "max_iter = 15\n",
    "print_period = 100\n",
    "\n",
    "lr = 0.0004\n",
    "reg = 0.01 #smooth parameter\n",
    "\n",
    "N, D = Xtrain.shape\n",
    "batch_sz = 500\n",
    "n_batches = N // batch_sz\n",
    "\n",
    "M = 300\n",
    "K = 10"
   ]
  },
  {
   "cell_type": "code",
   "execution_count": 274,
   "metadata": {},
   "outputs": [],
   "source": [
    "W1_init = np.random.randn(D, M) / 28\n",
    "b1_init = np.zeros(M)\n",
    "W2_init = np.random.randn(M, K) / np.sqrt(M)\n",
    "b2_init = np.zeros(K)"
   ]
  },
  {
   "cell_type": "code",
   "execution_count": 352,
   "metadata": {},
   "outputs": [],
   "source": [
    "# step 2: define theano variables and expressions\n",
    "thX = T.matrix('X')\n",
    "thT = T.matrix('T')\n",
    "W1 = theano.shared(W1_init, 'W1')\n",
    "b1 = theano.shared(b1_init, 'b1')\n",
    "W2 = theano.shared(W2_init, 'W2')\n",
    "b2 = theano.shared(b2_init, 'b2')"
   ]
  },
  {
   "cell_type": "code",
   "execution_count": 353,
   "metadata": {},
   "outputs": [],
   "source": [
    "# we can use the built-in theano functions to do relu and softmax\n",
    "thZ = relu( thX.dot(W1) + b1 )  \n",
    "thY = T.nnet.softmax( thZ.dot(W2) + b2 )"
   ]
  },
  {
   "cell_type": "code",
   "execution_count": 354,
   "metadata": {},
   "outputs": [],
   "source": [
    "# define the cost function and prediction\n",
    "cost = -(thT * T.log(thY)).sum()\n",
    "\n",
    "#L1 regularization\n",
    "#cost = -(thT * T.log(thY)).sum() + reg*((W1*W1).sum() + (b1*b1).sum() + (W2*W2).sum() + (b2*b2).sum())\n",
    "\n",
    "#L2 regularization\n",
    "#cost = -(thT * T.log(thY)).sum() + reg*(np.abs(W1).sum() + np.abs(b1).sum() + np.abs(W2).sum() + np.abs(b2).sum())\n",
    "\n",
    "prediction = T.argmax(thY, axis=1)"
   ]
  },
  {
   "cell_type": "code",
   "execution_count": 355,
   "metadata": {},
   "outputs": [],
   "source": [
    "mu = 0.9"
   ]
  },
  {
   "cell_type": "code",
   "execution_count": 334,
   "metadata": {},
   "outputs": [
    {
     "data": {
      "text/plain": [
       "' \\n\\nupdate_W1 = W1 - lr*T.grad(cost, W1)\\nupdate_b1 = b1 - lr*T.grad(cost, b1)\\nupdate_W2 = W2 - lr*T.grad(cost, W2)\\nupdate_b2 = b2 - lr*T.grad(cost, b2)\\n\\nupdates = [(W1, update_W1), (b1, update_b1), (W2, update_W2), (b2, update_b2)]\\n\\n'"
      ]
     },
     "execution_count": 334,
     "metadata": {},
     "output_type": "execute_result"
    }
   ],
   "source": [
    "#without momentum\n",
    "\"\"\" \n",
    "\n",
    "update_W1 = W1 - lr*T.grad(cost, W1)\n",
    "update_b1 = b1 - lr*T.grad(cost, b1)\n",
    "update_W2 = W2 - lr*T.grad(cost, W2)\n",
    "update_b2 = b2 - lr*T.grad(cost, b2)\n",
    "\n",
    "updates = [(W1, update_W1), (b1, update_b1), (W2, update_W2), (b2, update_b2)]\n",
    "\n",
    "\"\"\""
   ]
  },
  {
   "cell_type": "code",
   "execution_count": 335,
   "metadata": {},
   "outputs": [],
   "source": [
    "# this is equivalent to the line above\n",
    "\"\"\"\n",
    "params = [W1, b1, W2, b2]\n",
    "updates = [(p, p-lr*T.grad(cost, p)) for p in params]\n",
    "\"\"\""
   ]
  },
  {
   "cell_type": "code",
   "execution_count": 336,
   "metadata": {},
   "outputs": [
    {
     "data": {
      "text/plain": [
       "\"\\n\\nvW1_init = np.zeros((D,M))\\nvb1_init = np.zeros(M)\\nvW2_init = np.zeros((M,K))\\nvb2_init = np.zeros(K)\\n\\nvW1 = theano.shared(vW1_init, 'dW1')\\nvb1 = theano.shared(vb1_init, 'db1')\\nvW2 = theano.shared(vW2_init, 'dW2')\\nvb2 = theano.shared(vb2_init, 'db2')\\n\\nupdate_W1 = W1 + mu * vW1 - lr * T.grad(cost, W1)\\nupdate_b1 = b1 + mu * vb1 - lr * T.grad(cost, b1)\\nupdate_W2 = W2 + mu * vW2 - lr * T.grad(cost, W2)\\nupdate_b2 = b2 + mu * vb2 - lr * T.grad(cost, b2)\\n\\nupdate_vW1 = mu * vW1 - lr * T.grad(cost, W1)\\nupdate_vb1 = mu * vb1 - lr * T.grad(cost, b1)\\nupdate_vW2 = mu * vW2 - lr * T.grad(cost, W2)\\nupdate_vb2 = mu * vb2 - lr * T.grad(cost, b2)\\n\\nupdates = [(W1, update_W1), (b1, update_b1), (W2, update_W2), (b2, update_b2)] + [(vW1, update_vW1), (vb1, update_vb1), (vW2, update_vW2), (vb2, update_vb2)]\\n\\n\\n\""
      ]
     },
     "execution_count": 336,
     "metadata": {},
     "output_type": "execute_result"
    }
   ],
   "source": [
    "#with momentum\n",
    "\"\"\"\n",
    "\n",
    "vW1_init = np.zeros((D,M))\n",
    "vb1_init = np.zeros(M)\n",
    "vW2_init = np.zeros((M,K))\n",
    "vb2_init = np.zeros(K)\n",
    "\n",
    "vW1 = theano.shared(vW1_init, 'dW1')\n",
    "vb1 = theano.shared(vb1_init, 'db1')\n",
    "vW2 = theano.shared(vW2_init, 'dW2')\n",
    "vb2 = theano.shared(vb2_init, 'db2')\n",
    "\n",
    "update_vW1 = mu * vW1 - lr * T.grad(cost, W1)\n",
    "update_vb1 = mu * vb1 - lr * T.grad(cost, b1)\n",
    "update_vW2 = mu * vW2 - lr * T.grad(cost, W2)\n",
    "update_vb2 = mu * vb2 - lr * T.grad(cost, b2)\n",
    "\n",
    "update_W1 = W1 + mu * vW1 - lr * T.grad(cost, W1)\n",
    "update_b1 = b1 + mu * vb1 - lr * T.grad(cost, b1)\n",
    "update_W2 = W2 + mu * vW2 - lr * T.grad(cost, W2)\n",
    "update_b2 = b2 + mu * vb2 - lr * T.grad(cost, b2)\n",
    "\n",
    "updates = [(W1, update_W1), (b1, update_b1), (W2, update_W2), (b2, update_b2)] + [(vW1, update_vW1), (vb1, update_vb1), (vW2, update_vW2), (vb2, update_vb2)]\n",
    "\n",
    "\n",
    "\"\"\"\n"
   ]
  },
  {
   "cell_type": "code",
   "execution_count": 337,
   "metadata": {},
   "outputs": [
    {
     "data": {
      "text/plain": [
       "' \\nparams = [W1, b1, W2, b2]\\nvparams = [theano.shared(np.zeros_like(p.get_value())) for p in params]\\n\\nupdates = [(p, p + mu * vp -lr * T.grad(cost, p)) for p, vp in zip(params, vparams)] + [(vp, mu * vp - lr * T.grad(cost, p)) for p, vp in zip(params, vparams)]\\n'"
      ]
     },
     "execution_count": 337,
     "metadata": {},
     "output_type": "execute_result"
    }
   ],
   "source": [
    "# this is equivalent to the line above\n",
    "\"\"\" \n",
    "params = [W1, b1, W2, b2]\n",
    "vparams = [theano.shared(np.zeros_like(p.get_value())) for p in params]\n",
    "\n",
    "updates = [(p, p + mu * vp -lr * T.grad(cost, p)) for p, vp in zip(params, vparams)] + [(vp, mu * vp - lr * T.grad(cost, p)) for p, vp in zip(params, vparams)]\n",
    "\"\"\"    "
   ]
  },
  {
   "cell_type": "code",
   "execution_count": 348,
   "metadata": {},
   "outputs": [],
   "source": [
    "#with nesterov momentum\n",
    "\"\"\"\n",
    "vW1_init = np.zeros((D,M))\n",
    "vb1_init = np.zeros(M)\n",
    "vW2_init = np.zeros((M,K))\n",
    "vb2_init = np.zeros(K)\n",
    "\n",
    "vW1 = theano.shared(vW1_init, 'dW1')\n",
    "vb1 = theano.shared(vb1_init, 'db1')\n",
    "vW2 = theano.shared(vW2_init, 'dW2')\n",
    "vb2 = theano.shared(vb2_init, 'db2')\n",
    "\n",
    "update_vW1 = mu * vW1 - lr * T.grad(cost, W1)\n",
    "update_vb1 = mu * vb1 - lr * T.grad(cost, b1)\n",
    "update_vW2 = mu * vW2 - lr * T.grad(cost, W2)\n",
    "update_vb2 = mu * vb2 - lr * T.grad(cost, b2)\n",
    "\n",
    "update_W1 = W1 + mu * (mu * vW1 - lr * T.grad(cost, W1)) - lr * T.grad(cost, W1)\n",
    "update_b1 = b1 + mu * (mu * vb1 - lr * T.grad(cost, b1)) - lr * T.grad(cost, b1)\n",
    "update_W2 = W2 + mu * (mu * vW2 - lr * T.grad(cost, W2)) - lr * T.grad(cost, W2)\n",
    "update_b2 = b2 + mu * (mu * vb2 - lr * T.grad(cost, b2)) - lr * T.grad(cost, b2)\n",
    "\n",
    "updates = [(W1, update_W1), (b1, update_b1), (W2, update_W2), (b2, update_b2)] + [(vW1, update_vW1), (vb1, update_vb1), (vW2, update_vW2), (vb2, update_vb2)]\n",
    "\"\"\""
   ]
  },
  {
   "cell_type": "code",
   "execution_count": 356,
   "metadata": {},
   "outputs": [],
   "source": [
    "#This line is equivalent to the line above\n",
    "\n",
    "params = [W1, b1, W2, b2]\n",
    "vparams = [theano.shared(np.zeros_like(p.get_value())) for p in params]\n",
    "\n",
    "updates = [(p, p + mu * (mu * vp - lr * T.grad(cost, p)) - lr * T.grad(cost, p)) for p, vp in zip(params, vparams)] + [(vp, mu * vp - lr * T.grad(cost, p)) for p, vp in zip(params, vparams)]\n"
   ]
  },
  {
   "cell_type": "code",
   "execution_count": 357,
   "metadata": {},
   "outputs": [],
   "source": [
    "train = theano.function(\n",
    "    inputs=[thX, thT],\n",
    "    updates = updates\n",
    ")"
   ]
  },
  {
   "cell_type": "code",
   "execution_count": 358,
   "metadata": {},
   "outputs": [],
   "source": [
    "# create another function for this because we want it over the whole dataset\n",
    "get_prediction = theano.function(\n",
    "    inputs=[thX, thT],\n",
    "    outputs=[cost, prediction],\n",
    ")"
   ]
  },
  {
   "cell_type": "code",
   "execution_count": 359,
   "metadata": {},
   "outputs": [
    {
     "name": "stdout",
     "output_type": "stream",
     "text": [
      "Cost / err at iteration i=0, j=0, cost_value: 1446.945, error: 0.424\n",
      "Cost / err at iteration i=1, j=0, cost_value: 158.719, error: 0.037\n",
      "Cost / err at iteration i=2, j=0, cost_value: 200.746, error: 0.032\n",
      "Cost / err at iteration i=3, j=0, cost_value: 216.723, error: 0.022\n",
      "Cost / err at iteration i=4, j=0, cost_value: 111.233, error: 0.020\n",
      "Cost / err at iteration i=5, j=0, cost_value: 116.169, error: 0.022\n",
      "Cost / err at iteration i=6, j=0, cost_value: 207.082, error: 0.019\n",
      "Cost / err at iteration i=7, j=0, cost_value: 165.902, error: 0.024\n",
      "Cost / err at iteration i=8, j=0, cost_value: 137.237, error: 0.019\n",
      "Cost / err at iteration i=9, j=0, cost_value: 108.116, error: 0.017\n",
      "Cost / err at iteration i=10, j=0, cost_value: 94.364, error: 0.018\n",
      "Cost / err at iteration i=11, j=0, cost_value: 99.117, error: 0.015\n",
      "Cost / err at iteration i=12, j=0, cost_value: 96.586, error: 0.015\n",
      "Cost / err at iteration i=13, j=0, cost_value: 98.276, error: 0.018\n",
      "Cost / err at iteration i=14, j=0, cost_value: 97.339, error: 0.015\n"
     ]
    },
    {
     "data": {
      "image/png": "[encoded data removed]",
      "text/plain": [
       "<Figure size 432x288 with 1 Axes>"
      ]
     },
     "metadata": {
      "needs_background": "light"
     },
     "output_type": "display_data"
    }
   ],
   "source": [
    "costs = []\n",
    "for i in range(max_iter):\n",
    "    for j in range(n_batches):\n",
    "        Xbatch = Xtrain[j*batch_sz:(j*batch_sz + batch_sz),]\n",
    "        Ybatch = Ytrain_ind[j*batch_sz:(j*batch_sz + batch_sz),]\n",
    "\n",
    "        train(Xbatch, Ybatch)\n",
    "        if j % print_period == 0:\n",
    "            cost_val, prediction_val = get_prediction(Xtest, Ytest_ind)\n",
    "            err = error_rate(prediction_val, Ytest)\n",
    "            print(\"Cost / err at iteration i=%d, j=%d, cost_value: %.3f, error: %.3f\" % (i, j, cost_val, err))\n",
    "            costs.append(cost_val)\n",
    "\n",
    "plt.plot(costs)\n",
    "plt.show()"
   ]
  },
  {
   "cell_type": "code",
   "execution_count": null,
   "metadata": {},
   "outputs": [],
   "source": []
  },
  {
   "cell_type": "code",
   "execution_count": null,
   "metadata": {},
   "outputs": [],
   "source": []
  }
 ],
 "metadata": {
  "kernelspec": {
   "display_name": "Python 3",
   "language": "python",
   "name": "python3"
  },
  "language_info": {
   "codemirror_mode": {
    "name": "ipython",
    "version": 3
   },
   "file_extension": ".py",
   "mimetype": "text/x-python",
   "name": "python",
   "nbconvert_exporter": "python",
   "pygments_lexer": "ipython3",
   "version": "3.6.6"
  }
 },
 "nbformat": 4,
 "nbformat_minor": 2
}

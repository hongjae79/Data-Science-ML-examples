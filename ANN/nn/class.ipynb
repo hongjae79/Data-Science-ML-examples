{
 "cells": [
  {
   "cell_type": "code",
   "execution_count": 1,
   "metadata": {},
   "outputs": [],
   "source": [
    "class Car(object):\n",
    "\t\"\"\"\n",
    "\t\tblueprint for car\n",
    "\t\"\"\"\n",
    "\n",
    "\tdef __init__(self, model, color, company, speed_limit):\n",
    "\t\tself.color = color\n",
    "\t\tself.company = company\n",
    "\t\tself.speed_limit = speed_limit\n",
    "\t\tself.model = model\n",
    "\n",
    "\tdef start(self):\n",
    "\t\tprint(\"started\")\n",
    "\n",
    "\tdef stop(self):\n",
    "\t\tprint(\"stopped\")\n",
    "\n",
    "\tdef accelarate(self):\n",
    "\t\tprint(\"accelarating...\")\n",
    "\t\t\"accelarator functionality here\"\n",
    "\n",
    "\tdef change_gear(self, gear_type):\n",
    "\t\tprint(\"gear changed\")\n",
    "\t\t\" gear related functionality here\""
   ]
  },
  {
   "cell_type": "code",
   "execution_count": 2,
   "metadata": {},
   "outputs": [],
   "source": [
    "maruthi_suzuki = Car(\"ertiga\", \"black\", \"suzuki\", 60)\n",
    "audi = Car(\"A6\", \"red\", \"audi\", 80)"
   ]
  },
  {
   "cell_type": "code",
   "execution_count": 3,
   "metadata": {},
   "outputs": [],
   "source": [
    "#maruthi_suzuki and audi are same class, but different object(instance)\n",
    "\n",
    "#\"ertiga\", \"black\", \"suzuki\", 60.  these are arguments(attributes).  they are passed thru __init__\n",
    "# color is one of argument.  and the attribute black is assgined to it, for the instance(object) suzuki. And note suzuki is in the class of the car \n",
    "\n",
    "# the magic keyword \"self\"  represents the instance of the class. you can assign attributes with the given arguments.\n",
    "\n",
    "# \"instance\" is synonymous to \"object\". \"42 is an instance of the type int\" is equivalent to \"42 is an int object\""
   ]
  },
  {
   "cell_type": "code",
   "execution_count": 16,
   "metadata": {},
   "outputs": [],
   "source": [
    "class Rectangle:\n",
    "    def __init__(self, length, breadth, unit_cost=0):\n",
    "        self.length = length\n",
    "        self.breadth = breadth\n",
    "        self.unit_cost = unit_cost\n",
    "\n",
    "    def get_perimeter(self):\n",
    "         \n",
    "        return 2 * (self.length + self.breadth)\n",
    "\n",
    "    def get_area(self):\n",
    "        self.layers = 'slut'\n",
    "        return self.length * self.breadth\n",
    "\n",
    "    def calculate_cost(self):\n",
    "        area = self.get_area()\n",
    "        return area * self.unit_cost"
   ]
  },
  {
   "cell_type": "code",
   "execution_count": 17,
   "metadata": {},
   "outputs": [
    {
     "name": "stdout",
     "output_type": "stream",
     "text": [
      "Area of Rectangle: 19200 cm^2\n",
      "Cost of rectangular field: Rs. 38400000 \n"
     ]
    }
   ],
   "source": [
    "# breadth = 120 cm, length = 160 cm, 1 cm^2 = Rs 2000\n",
    "r = Rectangle(160, 120, 2000)\n",
    "print(\"Area of Rectangle: %s cm^2\" % (r.get_area()))\n",
    "print(\"Cost of rectangular field: Rs. %s \" %(r.calculate_cost()))"
   ]
  },
  {
   "cell_type": "code",
   "execution_count": 18,
   "metadata": {},
   "outputs": [
    {
     "name": "stdout",
     "output_type": "stream",
     "text": [
      "slut\n"
     ]
    }
   ],
   "source": [
    "print(r.layers)"
   ]
  },
  {
   "cell_type": "code",
   "execution_count": 7,
   "metadata": {},
   "outputs": [],
   "source": [
    "# r is the name of the rectangle.  self = name "
   ]
  },
  {
   "cell_type": "code",
   "execution_count": 8,
   "metadata": {},
   "outputs": [],
   "source": [
    "class Rectangle:\n",
    "    def __init__(self, length, breadth, unit_cost=0):\n",
    "        self.l = length\n",
    "        self.b = breadth\n",
    "        self.u = unit_cost\n",
    "\n",
    "    def get_perimeter(self):\n",
    "        return 2 * (self.l + self.b)\n",
    "\n",
    "    def get_area(self):\n",
    "        return self.l * self.b\n",
    "\n",
    "    def calculate_cost(self):\n",
    "        area = self.get_area()\n",
    "        return area * self.u"
   ]
  },
  {
   "cell_type": "code",
   "execution_count": 9,
   "metadata": {},
   "outputs": [
    {
     "name": "stdout",
     "output_type": "stream",
     "text": [
      "Area of Rectangle: 19200 cm^2\n",
      "Cost of rectangular field: Rs. 38400000 \n"
     ]
    }
   ],
   "source": [
    "# breadth = 120 cm, length = 160 cm, 1 cm^2 = Rs 2000\n",
    "r = Rectangle(160, 120, 2000)\n",
    "print(\"Area of Rectangle: %s cm^2\" % (r.get_area()))\n",
    "print(\"Cost of rectangular field: Rs. %s \" %(r.calculate_cost()))"
   ]
  },
  {
   "cell_type": "code",
   "execution_count": null,
   "metadata": {},
   "outputs": [],
   "source": []
  }
 ],
 "metadata": {
  "kernelspec": {
   "display_name": "Python 3",
   "language": "python",
   "name": "python3"
  },
  "language_info": {
   "codemirror_mode": {
    "name": "ipython",
    "version": 3
   },
   "file_extension": ".py",
   "mimetype": "text/x-python",
   "name": "python",
   "nbconvert_exporter": "python",
   "pygments_lexer": "ipython3",
   "version": "3.6.6"
  }
 },
 "nbformat": 4,
 "nbformat_minor": 2
}

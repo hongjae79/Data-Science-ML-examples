{
 "cells": [
  {
   "cell_type": "code",
   "execution_count": 1,
   "metadata": {},
   "outputs": [],
   "source": [
    "import numpy as np\n",
    "import tensorflow as tf\n",
    "\n",
    "import matplotlib.pyplot as plt\n",
    "import os\n",
    "import pandas as pd"
   ]
  },
  {
   "cell_type": "code",
   "execution_count": 2,
   "metadata": {},
   "outputs": [],
   "source": [
    "def get_normalized_data_MNIST():\n",
    "    df = pd.read_csv('./train.csv')\n",
    "    data = df.values.astype(np.float32)\n",
    "    np.random.shuffle(data)\n",
    "    X = data[:, 1:]\n",
    "    Y = data[:, 0]\n",
    "\n",
    "    Xtrain = X[:-1000]\n",
    "    Ytrain = Y[:-1000]\n",
    "    Xtest  = X[-1000:]\n",
    "    Ytest  = Y[-1000:]\n",
    "    \n",
    "    mu = Xtrain.mean(axis=0)\n",
    "    std = Xtrain.std(axis=0)\n",
    "\n",
    "    np.place(std, std == 0, 1)\n",
    "\n",
    "    Xtrain = (Xtrain - mu) / std\n",
    "    Xtest = (Xtest - mu) / std\n",
    "    \n",
    "    Ytrain_ind = y2indicator(Ytrain)\n",
    "    Ytest_ind = y2indicator(Ytest)\n",
    "    \n",
    "    Xtrain = Xtrain.astype(np.float32)\n",
    "    Xtest = Xtest.astype(np.float32)\n",
    "    Ytrain = Ytrain.astype(np.float32)\n",
    "    Ytest = Ytest.astype(np.float32)\n",
    "    Ytrain_ind = Ytrain_ind.astype(np.float32)\n",
    "    Ytest_ind= Ytest_ind.astype(np.float32)\n",
    "    \n",
    "\n",
    "    return Xtrain, Ytrain, Xtest, Ytest, Ytrain_ind, Ytest_ind"
   ]
  },
  {
   "cell_type": "code",
   "execution_count": 3,
   "metadata": {},
   "outputs": [],
   "source": [
    "def y2indicator(y):\n",
    "\n",
    "    y = y.astype(np.int32)\n",
    "    ind = np.zeros((len(y), 10))\n",
    "\n",
    "    for i in range(len(y)):\n",
    "        ind[i, y[i]] = 1\n",
    "        \n",
    "    return ind.astype(np.float32)"
   ]
  },
  {
   "cell_type": "code",
   "execution_count": 4,
   "metadata": {},
   "outputs": [],
   "source": [
    "class HiddenLayers(object):\n",
    "    def __init__(self, M1, M2, f):\n",
    "        self.M1 = M1\n",
    "        self.M2 = M2\n",
    "        self.f = f\n",
    "                \n",
    "        W_init = np.random.randn(M1, M2)*np.sqrt(2/M1)\n",
    "        b_init = np.zeros(M2)\n",
    "        \n",
    "        self.W = tf.Variable(W_init.astype(np.float32))\n",
    "        self.b = tf.Variable(b_init.astype(np.float32))\n",
    "        \n",
    "    def forward(self, X):\n",
    "        return self.f(tf.matmul(X, self.W)+ self.b)\n",
    "        "
   ]
  },
  {
   "cell_type": "code",
   "execution_count": 5,
   "metadata": {},
   "outputs": [],
   "source": [
    "class ANN(object):\n",
    "    def __init__(self, hidden_layer_sizes):\n",
    "        self.hidden_layer_sizes = hidden_layer_sizes\n",
    "            \n",
    "    def fit(self, Xtrain, Ytrain, Xtest, Ytest, Ytrain_ind, Ytest_ind, activation = tf.nn.relu, lr=1e-4, max_iter=15, batch_sz=500, print_period=100, show_fig=True):\n",
    "        \n",
    "        \n",
    "        #initialize hidden layers\n",
    "        N, D = Xtrain.shape\n",
    "        K = Ytrain_ind.shape[1]\n",
    "        \n",
    "        \n",
    "        M1 = D\n",
    "        \n",
    "        self.layers = []\n",
    "        for M2 in self.hidden_layer_sizes:\n",
    "            h = HiddenLayers(M1, M2, activation)\n",
    "            self.layers.append(h)\n",
    "            M1 = M2\n",
    "        \n",
    "        #final layer\n",
    "        h = HiddenLayers(M2, K, lambda x : x)\n",
    "        self.layers.append(h)\n",
    "        \n",
    "        \n",
    "        tfX = tf.placeholder(tf.float32, shape=(None, D), name='X')\n",
    "        tfT = tf.placeholder(tf.float32, shape=(None, K), name='T')\n",
    "        \n",
    "        \n",
    "        Yish = self.forward(tfX)\n",
    "        \n",
    "        cost = tf.reduce_sum(tf.nn.softmax_cross_entropy_with_logits_v2(logits=Yish, labels=tfT))\n",
    "        \n",
    "        train_op = tf.train.AdamOptimizer(learning_rate = lr).minimize(cost)\n",
    "        predict_op = tf.argmax(Yish, 1)\n",
    "        \n",
    "        n_batches = N // batch_sz\n",
    "        costs = []\n",
    "        \n",
    "        init = tf.global_variables_initializer()\n",
    "        with tf.Session() as session:\n",
    "            session.run(init)\n",
    "\n",
    "            for i in range(max_iter):\n",
    "                for j in range(n_batches):\n",
    "                    Xbatch = Xtrain[j*batch_sz:(j*batch_sz + batch_sz),]\n",
    "                    Ybatch = Ytrain_ind[j*batch_sz:(j*batch_sz + batch_sz),]\n",
    "\n",
    "                    session.run(train_op, feed_dict={tfX: Xbatch, tfT: Ybatch})\n",
    "                    if j % print_period == 0:\n",
    "                        test_cost = session.run(cost, feed_dict={tfX: Xtest, tfT: Ytest_ind})\n",
    "                        prediction = session.run(predict_op, feed_dict={tfX: Xtest})\n",
    "                        err = self.error_rate(prediction, Ytest)\n",
    "                        print(\"Cost / err at iteration i=%d, j=%d: %.3f / %.3f\" % (i, j, test_cost, err))\n",
    "                        costs.append(test_cost)\n",
    "\n",
    "        if show_fig:\n",
    "            plt.plot(costs)\n",
    "            plt.show()\n",
    "            \n",
    "    def forward(self, X):\n",
    "        out = X\n",
    "        for h in self.layers[:-1]:\n",
    "            out = h.forward(out)\n",
    "        out = self.layers[-1].forward(out)\n",
    "        return out\n",
    "    \n",
    "    def error_rate(self, p, t):\n",
    "        return np.mean(p != t)"
   ]
  },
  {
   "cell_type": "code",
   "execution_count": 6,
   "metadata": {},
   "outputs": [],
   "source": [
    "def main():\n",
    "    # step 1: get the data and define all the usual variables\n",
    "    Xtrain, Ytrain, Xtest, Ytest, Ytrain_ind, Ytest_ind = get_normalized_data_MNIST()\n",
    "\n",
    "    ann = ANN([500, 300, 100])\n",
    "    ann.fit(Xtrain, Ytrain, Xtest, Ytest, Ytrain_ind, Ytest_ind)"
   ]
  },
  {
   "cell_type": "code",
   "execution_count": 7,
   "metadata": {},
   "outputs": [
    {
     "name": "stdout",
     "output_type": "stream",
     "text": [
      "Cost / err at iteration i=0, j=0: 2845.157 / 0.818\n",
      "Cost / err at iteration i=1, j=0: 566.764 / 0.145\n",
      "Cost / err at iteration i=2, j=0: 317.163 / 0.079\n",
      "Cost / err at iteration i=3, j=0: 258.873 / 0.067\n",
      "Cost / err at iteration i=4, j=0: 226.038 / 0.056\n",
      "Cost / err at iteration i=5, j=0: 206.906 / 0.053\n",
      "Cost / err at iteration i=6, j=0: 194.213 / 0.049\n",
      "Cost / err at iteration i=7, j=0: 185.741 / 0.041\n",
      "Cost / err at iteration i=8, j=0: 178.965 / 0.039\n",
      "Cost / err at iteration i=9, j=0: 173.584 / 0.040\n",
      "Cost / err at iteration i=10, j=0: 169.256 / 0.039\n",
      "Cost / err at iteration i=11, j=0: 166.729 / 0.038\n",
      "Cost / err at iteration i=12, j=0: 164.638 / 0.036\n",
      "Cost / err at iteration i=13, j=0: 163.123 / 0.036\n",
      "Cost / err at iteration i=14, j=0: 161.770 / 0.038\n"
     ]
    },
    {
     "data": {
      "image/png": "[encoded data removed]",
      "text/plain": [
       "<Figure size 432x288 with 1 Axes>"
      ]
     },
     "metadata": {
      "needs_background": "light"
     },
     "output_type": "display_data"
    }
   ],
   "source": [
    "if __name__ == '__main__':\n",
    "    main()"
   ]
  },
  {
   "cell_type": "code",
   "execution_count": null,
   "metadata": {},
   "outputs": [],
   "source": []
  }
 ],
 "metadata": {
  "kernelspec": {
   "display_name": "Python 3",
   "language": "python",
   "name": "python3"
  },
  "language_info": {
   "codemirror_mode": {
    "name": "ipython",
    "version": 3
   },
   "file_extension": ".py",
   "mimetype": "text/x-python",
   "name": "python",
   "nbconvert_exporter": "python",
   "pygments_lexer": "ipython3",
   "version": "3.7.0"
  }
 },
 "nbformat": 4,
 "nbformat_minor": 2
}

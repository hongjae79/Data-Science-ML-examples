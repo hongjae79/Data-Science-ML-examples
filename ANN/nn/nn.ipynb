{
 "cells": [
  {
   "cell_type": "code",
   "execution_count": 1,
   "metadata": {},
   "outputs": [],
   "source": [
    "import numpy as np\n",
    "import pandas as pd\n",
    "import matplotlib.pyplot as plt"
   ]
  },
  {
   "cell_type": "code",
   "execution_count": 3,
   "metadata": {},
   "outputs": [],
   "source": [
    "def forward(X, W1, b1, W2, b2):\n",
    "    Z = 1 / (1 + np.exp(-X.dot(W1) - b1))\n",
    "    A = Z.dot(W2) + b2\n",
    "    expA = np.exp(A)\n",
    "    Y = expA / expA.sum(axis=1, keepdims=True)\n",
    "    return Y, Z"
   ]
  },
  {
   "cell_type": "code",
   "execution_count": 4,
   "metadata": {},
   "outputs": [],
   "source": [
    "def cost(T, Y):\n",
    "    dot_T_Y = np.sum(T * np.log(Y), axis = 1)\n",
    "    return -dot_T_Y.sum()"
   ]
  },
  {
   "cell_type": "code",
   "execution_count": 5,
   "metadata": {},
   "outputs": [],
   "source": [
    "def derivative_w2(Z, T, Y):\n",
    "    return -Z.T.dot(T - Y)"
   ]
  },
  {
   "cell_type": "code",
   "execution_count": 6,
   "metadata": {},
   "outputs": [],
   "source": [
    "def derivative_b2(T, Y):\n",
    "    return (-(T - Y)).sum(axis=0)"
   ]
  },
  {
   "cell_type": "code",
   "execution_count": 7,
   "metadata": {},
   "outputs": [],
   "source": [
    "def derivative_w1_sig(X, Z, T, Y, W2):\n",
    "    dZ = (T - Y).dot(W2.T) * Z * ( 1 - Z)\n",
    "    ret2 = X.T.dot(dZ)\n",
    "    return -ret2"
   ]
  },
  {
   "cell_type": "code",
   "execution_count": 8,
   "metadata": {},
   "outputs": [],
   "source": [
    "def derivative_b1_sig(T, Y, W2, Z):\n",
    "    return (-(T - Y).dot(W2.T) * Z * (1-Z)).sum(axis=0)"
   ]
  },
  {
   "cell_type": "code",
   "execution_count": 9,
   "metadata": {},
   "outputs": [],
   "source": [
    "def error_rate(p, t):\n",
    "    return np.mean(p != t)"
   ]
  },
  {
   "cell_type": "code",
   "execution_count": 4,
   "metadata": {},
   "outputs": [],
   "source": [
    "def y2indicator(y):\n",
    "\n",
    "    y = y.astype(np.int32)\n",
    "    ind = np.zeros((len(y), 10))\n",
    "\n",
    "    for i in range(len(y)):\n",
    "        ind[i, y[i]] = 1\n",
    "        \n",
    "    return ind.astype(np.float32)"
   ]
  },
  {
   "cell_type": "code",
   "execution_count": 5,
   "metadata": {},
   "outputs": [],
   "source": [
    "def get_normalized_data_MNIST():\n",
    "    df = pd.read_csv('./train.csv')\n",
    "    data = df.values.astype(np.float32)\n",
    "    np.random.shuffle(data)\n",
    "    X = data[:, 1:]\n",
    "    Y = data[:, 0]\n",
    "\n",
    "    Xtrain = X[:10000]\n",
    "    Ytrain = Y[:10000]\n",
    "    Xtest  = X[-500:]\n",
    "    Ytest  = Y[-500:]\n",
    "    \n",
    "    mu = Xtrain.mean(axis=0)\n",
    "    std = Xtrain.std(axis=0)\n",
    "\n",
    "    np.place(std, std == 0, 1)\n",
    "\n",
    "    Xtrain = (Xtrain - mu) / std\n",
    "    Xtest = (Xtest - mu) / std\n",
    "    \n",
    "    Ytrain_ind = y2indicator(Ytrain)\n",
    "    Ytest_ind = y2indicator(Ytest)\n",
    "   \n",
    "    Ytrain_ind = Ytrain_ind.astype(np.float32)\n",
    "    Ytest_ind= Ytest_ind.astype(np.float32)\n",
    "    \n",
    "\n",
    "    return Xtrain, Ytrain, Xtest, Ytest, Ytrain_ind, Ytest_ind"
   ]
  },
  {
   "cell_type": "code",
   "execution_count": 6,
   "metadata": {},
   "outputs": [],
   "source": [
    "Xtrain, Ytrain, Xtest, Ytest, Ytrain_ind, Ytest_ind = get_normalized_data_MNIST()"
   ]
  },
  {
   "cell_type": "code",
   "execution_count": 8,
   "metadata": {},
   "outputs": [
    {
     "data": {
      "text/plain": [
       "array([ 0.        ,  0.        ,  0.        ,  0.        ,  0.        ,\n",
       "        0.        ,  0.        ,  0.        ,  0.        ,  0.        ,\n",
       "        0.        ,  0.        , -0.0100005 , -0.0100005 ,  0.        ,\n",
       "        0.        ,  0.        ,  0.        ,  0.        ,  0.        ,\n",
       "        0.        ,  0.        ,  0.        ,  0.        ,  0.        ,\n",
       "        0.        ,  0.        ,  0.        ,  0.        ,  0.        ,\n",
       "        0.        ,  0.        ,  0.        ,  0.        , -0.0100005 ,\n",
       "       -0.01061589, -0.01828798, -0.02325526, -0.02188312, -0.0300669 ,\n",
       "       -0.03778337, -0.03402071, -0.02800787, -0.02299222, -0.02862757,\n",
       "       -0.02631038, -0.01713981, -0.01815917, -0.01725408, -0.01501504,\n",
       "       -0.01702438, -0.01073098,  0.        ,  0.        ,  0.        ,\n",
       "        0.        ,  0.        ,  0.        ,  0.        ,  0.        ,\n",
       "       -0.01413984, -0.01631324, -0.02178985, -0.02860569, -0.03724793,\n",
       "       -0.0486098 , -0.06475287, -0.08391077, -0.09942488, -0.11383718,\n",
       "       -0.1255341 , -0.13466795, -0.13902174, -0.13385607, -0.11564005,\n",
       "       -0.09593809, -0.07507531, -0.05713749, -0.04593362, -0.03148646,\n",
       "       -0.01586355, -0.01053039,  0.        ,  0.        ,  0.        ,\n",
       "        0.        , -0.0100005 ,  0.        , -0.0100005 , -0.02397161,\n",
       "       -0.03903788, -0.05472182, -0.08140182, -0.10519511, -0.1318846 ,\n",
       "       -0.16652524, -0.19587699, -0.21947855, -0.24486874, -0.26130474,\n",
       "        0.97285753,  0.5908292 ,  1.6184746 ,  6.4981756 ,  9.216894  ,\n",
       "        4.1005583 , -0.08512582, -0.05433868, -0.03443751, -0.02057476,\n",
       "        0.        ,  0.        ,  0.        ,  0.        , -0.0100005 ,\n",
       "       -0.0100005 , -0.0262515 , -0.05643594, -0.08987892, -0.12456118,\n",
       "       -0.16745251, -0.21355157, -0.26904562, -0.33514208, -0.39998418,\n",
       "       -0.45924222, -0.5054468 ,  0.7975317 ,  2.389998  ,  2.6293063 ,\n",
       "        2.9934614 ,  3.5199757 ,  4.4194107 ,  3.4311366 , -0.15988344,\n",
       "       -0.10773587, -0.07406391, -0.04011743, -0.01293896,  0.        ,\n",
       "        0.        ,  0.        , -0.0100005 , -0.01580378, -0.05843691,\n",
       "       -0.10221574, -0.15207335, -0.20474933, -0.2669765 , -0.34492284,\n",
       "       -0.43343106, -0.5326752 , -0.6341285 , -0.72714794, -0.31036386,\n",
       "        1.4379236 ,  1.5109925 ,  1.6188576 ,  1.8724678 ,  2.2355852 ,\n",
       "        2.7957628 ,  2.0009453 , -0.2574921 , -0.18054521, -0.12224231,\n",
       "       -0.06723534, -0.02594138,  0.        ,  0.        ,  0.        ,\n",
       "       -0.01477922, -0.03643945, -0.08706118, -0.14044116, -0.20837595,\n",
       "       -0.2807658 , -0.36347297, -0.47141397, -0.58786124, -0.71423924,\n",
       "       -0.84259313, -0.7809536 ,  0.8837822 ,  1.1331875 ,  1.1570895 ,\n",
       "        0.96937764,  1.1732348 ,  0.762409  ,  2.1124055 ,  2.1580877 ,\n",
       "       -0.08950065, -0.24300456, -0.16351545, -0.09220112, -0.04207909,\n",
       "       -0.01597329,  0.        , -0.01908694, -0.02819253, -0.05799499,\n",
       "       -0.11687871, -0.18226811, -0.25936165, -0.34940198, -0.45429215,\n",
       "       -0.58634895, -0.7326299 , -0.88360083, -1.0211135 , -1.0767887 ,\n",
       "        0.603603  ,  1.070324  , -0.10157065, -1.0526232 , -0.85520023,\n",
       "       -0.47072354,  1.820593  , -0.1206122 , -0.3904326 , -0.28141588,\n",
       "       -0.19073309, -0.11192796, -0.04900342, -0.0142815 ,  0.        ,\n",
       "       -0.02113972, -0.04185033, -0.08516296, -0.14310871, -0.2152176 ,\n",
       "       -0.29875538, -0.40397188, -0.53107315, -0.6835119 , -0.8484017 ,\n",
       "       -0.9776424 , -1.0606989 , -1.0886434 , -0.9942341 , -0.67712885,\n",
       "       -1.0830346 , -1.1096182 , -1.0474397 , -0.40307516,  1.6888429 ,\n",
       "       -0.17786208, -0.41813466, -0.2893247 , -0.19079149, -0.11486844,\n",
       "       -0.05393321, -0.01415371, -0.0100005 , -0.02134797, -0.05281311,\n",
       "       -0.09725042, -0.1528552 , -0.22635467, -0.32302406, -0.4434485 ,\n",
       "       -0.58515376, -0.7553448 , -0.914106  , -0.9873988 , -0.9778948 ,\n",
       "       -0.93590945, -0.8966463 , -0.90016   , -0.94365287, -0.99513155,\n",
       "       -0.9945122 ,  0.6128654 ,  1.7009555 , -0.18095659, -0.41753748,\n",
       "       -0.28172362, -0.17501055, -0.09823053, -0.04637962, -0.01788403,\n",
       "       -0.0100005 , -0.01670995, -0.05332618, -0.09679706, -0.14680418,\n",
       "       -0.22840145, -0.33458263, -0.4664086 , -0.62710005, -0.79898053,\n",
       "       -0.9155898 , -0.91866046, -0.856233  , -0.7891995 , -0.7686966 ,\n",
       "       -0.797992  , -0.8668348 , -0.94348514, -0.8870668 ,  1.1339747 ,\n",
       "        1.749398  , -0.1563577 , -0.3930078 , -0.26615173, -0.16007942,\n",
       "       -0.07823068, -0.03901576, -0.01480454, -0.0100005 , -0.01586707,\n",
       "       -0.04611031, -0.0846791 , -0.13319725, -0.22542931, -0.3417735 ,\n",
       "       -0.49002317, -0.65865695, -0.82075095, -0.9018025 , -0.8660672 ,\n",
       "       -0.78056616, -0.7344245 , -0.7395115 , -0.797826  , -0.8984895 ,\n",
       "       -0.9801135 , -0.36606625,  1.5353789 ,  1.0007608 , -0.50071335,\n",
       "       -0.36586997, -0.25380814, -0.15079622, -0.06039555, -0.0253131 ,\n",
       "       -0.0100005 ,  0.        , -0.01388098, -0.03117826, -0.06611007,\n",
       "       -0.12429976, -0.22903258, -0.3579689 , -0.51441425, -0.6886934 ,\n",
       "       -0.83220124, -0.89277345, -0.8431829 , -0.7723752 , -0.77579015,\n",
       "       -0.8255674 , -0.92373955, -1.0402515 , -1.034462  ,  0.9763801 ,\n",
       "        1.5898681 , -0.12070809, -0.47182372, -0.348989  , -0.250564  ,\n",
       "       -0.15614587, -0.05558357, -0.01875606, -0.0100005 ,  0.        ,\n",
       "       -0.0100005 , -0.01977899, -0.05541342, -0.12355429, -0.23815368,\n",
       "       -0.3795487 , -0.5374815 , -0.70303077, -0.5451812 , -0.40444535,\n",
       "       -0.36264712, -0.4888221 , -0.6445639 , -0.98725003, -1.1282477 ,\n",
       "       -1.1995138 , -0.08789923,  1.2836757 ,  0.80443424, -0.5112691 ,\n",
       "       -0.46234939, -0.35050744, -0.260251  , -0.16521597, -0.06082128,\n",
       "       -0.0172917 ,  0.        ,  0.        , -0.0100005 , -0.01551291,\n",
       "       -0.049457  , -0.130531  , -0.25770292, -0.39625895, -0.4131497 ,\n",
       "        0.7706909 ,  1.4061233 ,  1.452764  ,  1.4752628 ,  1.3490361 ,\n",
       "        1.117134  ,  0.46593824, -0.36754945, -0.43670475,  1.0167557 ,\n",
       "        1.2610977 , -0.34187725, -0.598007  , -0.46997485, -0.36536402,\n",
       "       -0.27009276, -0.16827664, -0.06534873, -0.01744715,  0.        ,\n",
       "        0.        ,  0.        , -0.01840461, -0.05750243, -0.14560944,\n",
       "       -0.27393714, -0.41069648,  1.0652375 ,  1.7733581 ,  1.5812613 ,\n",
       "        1.5093213 ,  1.4691659 ,  1.349779  ,  1.1567327 ,  1.0530949 ,\n",
       "        1.0581173 ,  1.092912  ,  1.1791252 ,  0.48767444, -0.76024437,\n",
       "       -0.6122924 , -0.48544917, -0.37466118, -0.2747374 , -0.16740347,\n",
       "       -0.07202132, -0.02237189,  0.        ,  0.        , -0.0100005 ,\n",
       "       -0.01617689, -0.06213003, -0.16119127, -0.29464787,  0.08838084,\n",
       "        2.2166076 ,  1.6334205 ,  0.83557236,  0.7611204 ,  0.98484755,\n",
       "        1.3089119 ,  1.1811419 ,  1.1392443 ,  1.1446435 ,  1.1845266 ,\n",
       "        1.2921181 ,  1.4519491 ,  0.9533351 , -0.3731049 , -0.46921983,\n",
       "       -0.37641707, -0.26949912, -0.16732265, -0.07567576, -0.0254778 ,\n",
       "       -0.0100005 ,  0.        , -0.01262029, -0.02312963, -0.07131412,\n",
       "       -0.17858486, -0.30984655,  1.1762054 ,  2.057792  , -0.19121596,\n",
       "       -0.6884056 , -0.7318034 , -0.77782625, -0.8033145 ,  0.27067524,\n",
       "        1.2851778 ,  1.2521474 ,  1.2755955 ,  1.3534074 ,  1.4780215 ,\n",
       "        1.6822829 ,  2.0056515 ,  1.781617  , -0.11180342, -0.25291505,\n",
       "       -0.15953611, -0.07832129, -0.03123705, -0.0100005 ,  0.        ,\n",
       "       -0.01382068, -0.03051886, -0.09049752, -0.20046416, -0.26496166,\n",
       "        2.1559172 ,  1.7279925 , -0.6050872 , -0.65767765, -0.70349085,\n",
       "       -0.47284457,  0.66807437,  1.4783623 ,  1.3445739 ,  0.60068554,\n",
       "        0.03657085,  0.78876686,  1.3687309 ,  1.6735803 ,  2.0636094 ,\n",
       "        2.6391265 ,  0.02822382, -0.2403823 , -0.15298042, -0.07962975,\n",
       "       -0.02914706,  0.        ,  0.        , -0.01396114, -0.03922284,\n",
       "       -0.10690623, -0.2128532 ,  0.03973583,  2.657787  ,  1.922781  ,\n",
       "       -0.07217178, -0.02767228,  0.70343536,  1.4634671 ,  1.5380633 ,\n",
       "        1.4199926 ,  0.18370748, -1.0078045 , -1.0659778 , -0.9920834 ,\n",
       "       -0.48664957,  0.8751747 ,  2.0844886 ,  2.243325  , -0.23747347,\n",
       "       -0.22132678, -0.13998535, -0.07489154, -0.02840519,  0.        ,\n",
       "        0.        , -0.0100005 , -0.04912903, -0.11822214, -0.20842165,\n",
       "        0.06232265,  2.6641066 ,  2.1213236 ,  1.8032299 ,  1.6276134 ,\n",
       "        1.5033637 ,  1.424033  ,  1.2858559 ,  0.04793269, -1.0619272 ,\n",
       "       -1.1389438 , -1.090081  , -0.96256566, -0.80527985, -0.63936204,\n",
       "        0.31579322,  0.58386385, -0.27144173, -0.18396303, -0.1192949 ,\n",
       "       -0.06645346, -0.025305  ,  0.        ,  0.        , -0.01272001,\n",
       "       -0.04792497, -0.10816811, -0.1937429 ,  0.02029857,  2.7107959 ,\n",
       "        2.1755638 ,  1.7544601 ,  1.5237452 ,  1.367357  ,  0.37789628,\n",
       "       -0.47854093, -1.1708319 , -1.2043349 , -1.1514226 , -1.0233058 ,\n",
       "       -0.8519964 , -0.68187326, -0.5323928 , -0.4031508 , -0.2959233 ,\n",
       "       -0.21217395, -0.14857747, -0.0970799 , -0.04405537, -0.02435209,\n",
       "       -0.0100005 ,  0.        , -0.0100005 , -0.03520277, -0.08743268,\n",
       "       -0.15516715, -0.24248087,  1.5062056 ,  2.5700364 ,  1.748308  ,\n",
       "        0.4080346 , -0.2961343 , -0.9995214 , -1.0905461 , -1.1270696 ,\n",
       "       -1.0922934 , -0.9883443 , -0.84011364, -0.6801265 , -0.5320416 ,\n",
       "       -0.40748578, -0.30527976, -0.2214338 , -0.15742083, -0.10866467,\n",
       "       -0.0715154 , -0.03642027, -0.01284981, -0.0100005 ,  0.        ,\n",
       "        0.        , -0.02432022, -0.05891628, -0.10468343, -0.17073622,\n",
       "       -0.2584046 , -0.36651492, -0.4927893 , -0.61855406, -0.7373317 ,\n",
       "       -0.8396193 , -0.9029522 , -0.90866476, -0.8501896 , -0.7508965 ,\n",
       "       -0.626278  , -0.5017353 , -0.3875183 , -0.2949014 , -0.2165554 ,\n",
       "       -0.1575008 , -0.11086894, -0.07704666, -0.05017824, -0.02249924,\n",
       "       -0.0100005 ,  0.        ,  0.        ,  0.        , -0.0120559 ,\n",
       "       -0.03455067, -0.06094049, -0.09723939, -0.14735967, -0.20916553,\n",
       "       -0.29530454, -0.38329557, -0.46428156, -0.52786463, -0.5642481 ,\n",
       "       -0.55863833, -0.52829695, -0.47302675, -0.40400144, -0.3337678 ,\n",
       "       -0.2574795 , -0.19683848, -0.14867444, -0.10534573, -0.073347  ,\n",
       "       -0.04892129, -0.0275897 , -0.0100005 ,  0.        ,  0.        ,\n",
       "        0.        ,  0.        , -0.0100005 , -0.01644909, -0.03037426,\n",
       "       -0.04637183, -0.07623345, -0.11646314, -0.16406073, -0.21490434,\n",
       "       -0.26049826, -0.29138535, -0.2973799 , -0.29667157, -0.29001054,\n",
       "       -0.27195412, -0.24203742, -0.20584626, -0.16435705, -0.12957065,\n",
       "       -0.09561171, -0.06586774, -0.04640431, -0.02668987, -0.01609351,\n",
       "        0.        ,  0.        ,  0.        ,  0.        ,  0.        ,\n",
       "        0.        ,  0.        , -0.0100005 , -0.01857946, -0.03894667,\n",
       "       -0.0688949 , -0.10079058, -0.12824883, -0.15030023, -0.17062509,\n",
       "       -0.17524503, -0.1748996 , -0.16832793, -0.1580667 , -0.14243487,\n",
       "       -0.11893   , -0.09738269, -0.08110941, -0.05490559, -0.03612348,\n",
       "       -0.02023032,  0.        ,  0.        ,  0.        ,  0.        ,\n",
       "        0.        ,  0.        ,  0.        ,  0.        ,  0.        ,\n",
       "        0.        ,  0.        , -0.01250879, -0.02608561, -0.02826074,\n",
       "       -0.02992187, -0.04492063, -0.04680424, -0.04815933, -0.05509064,\n",
       "       -0.06788493, -0.06889102, -0.06158577, -0.04380633, -0.03808051,\n",
       "       -0.02813563, -0.01933185, -0.01223299,  0.        ,  0.        ,\n",
       "        0.        ,  0.        ,  0.        ,  0.        ], dtype=float32)"
      ]
     },
     "execution_count": 8,
     "metadata": {},
     "output_type": "execute_result"
    }
   ],
   "source": [
    "Xtrain[0]"
   ]
  },
  {
   "cell_type": "code",
   "execution_count": 13,
   "metadata": {},
   "outputs": [],
   "source": [
    "N, D = Xtrain.shape\n",
    "M = 300 \n",
    "K = 10"
   ]
  },
  {
   "cell_type": "code",
   "execution_count": 14,
   "metadata": {},
   "outputs": [],
   "source": [
    "W1 = np.random.randn(D, M)\n",
    "b1 = np.random.randn(M)\n",
    "W2 = np.random.randn(M, K)\n",
    "b2 = np.random.randn(K)"
   ]
  },
  {
   "cell_type": "code",
   "execution_count": 15,
   "metadata": {},
   "outputs": [],
   "source": [
    "X = Xtrain\n",
    "T = Ytrain_ind\n",
    "Y = Ytrain"
   ]
  },
  {
   "cell_type": "code",
   "execution_count": 16,
   "metadata": {},
   "outputs": [
    {
     "name": "stdout",
     "output_type": "stream",
     "text": [
      "cost: 154737.038 , error_rate: 0.895\n",
      "cost: 20549.334 , error_rate: 0.056\n",
      "cost: 10099.825 , error_rate: 0.036\n",
      "cost: 5956.124 , error_rate: 0.020\n",
      "cost: 4099.672 , error_rate: 0.015\n",
      "cost: 5335.041 , error_rate: 0.026\n",
      "cost: 2693.961 , error_rate: 0.011\n",
      "cost: 2005.748 , error_rate: 0.008\n",
      "cost: 1542.976 , error_rate: 0.006\n",
      "cost: 1226.011 , error_rate: 0.005\n"
     ]
    },
    {
     "data": {
      "image/png": "[encoded data removed]",
      "text/plain": [
       "<Figure size 432x288 with 1 Axes>"
      ]
     },
     "metadata": {
      "needs_background": "light"
     },
     "output_type": "display_data"
    }
   ],
   "source": [
    "learning_rate = 1e-3\n",
    "\n",
    "costs_sig = []\n",
    "for epoch in range(500):\n",
    "    output, hidden = forward(X, W1, b1, W2, b2)\n",
    "    if epoch % 50 == 0:\n",
    "        c = cost(T, output)\n",
    "        P = np.argmax(output, axis=1)\n",
    "        r = error_rate(Y, P)\n",
    "        print(\"cost: %.3f , error_rate: %.3f\" % (c, r))\n",
    "        costs_sig.append(c)\n",
    "\n",
    "    W2 -= learning_rate * derivative_w2(hidden, T, output)\n",
    "    b2 -= learning_rate * derivative_b2(T, output)\n",
    "    W1 -= learning_rate * derivative_w1_sig(X, hidden, T, output, W2)\n",
    "    b1 -= learning_rate * derivative_b1_sig(T, output, W2, hidden)\n",
    "    \n",
    "plt.plot(costs_sig)\n",
    "plt.show()"
   ]
  },
  {
   "cell_type": "code",
   "execution_count": 17,
   "metadata": {},
   "outputs": [
    {
     "name": "stdout",
     "output_type": "stream",
     "text": [
      "1528.0818083777879 0.092\n"
     ]
    }
   ],
   "source": [
    "X = Xtest\n",
    "T = Ytest_ind\n",
    "Y = Ytest\n",
    "\n",
    "output, hidden = forward(X, W1, b1, W2, b2)\n",
    "c = cost(T, output)\n",
    "P = np.argmax(output, axis=1)\n",
    "r = error_rate(Y, P)\n",
    "\n",
    "print(c, r)"
   ]
  },
  {
   "cell_type": "code",
   "execution_count": null,
   "metadata": {},
   "outputs": [],
   "source": []
  }
 ],
 "metadata": {
  "kernelspec": {
   "display_name": "Python 3",
   "language": "python",
   "name": "python3"
  },
  "language_info": {
   "codemirror_mode": {
    "name": "ipython",
    "version": 3
   },
   "file_extension": ".py",
   "mimetype": "text/x-python",
   "name": "python",
   "nbconvert_exporter": "python",
   "pygments_lexer": "ipython3",
   "version": "3.7.0"
  }
 },
 "nbformat": 4,
 "nbformat_minor": 2
}

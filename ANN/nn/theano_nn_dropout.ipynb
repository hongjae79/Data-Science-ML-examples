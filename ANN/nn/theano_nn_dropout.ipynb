{
 "cells": [
  {
   "cell_type": "code",
   "execution_count": 2,
   "metadata": {},
   "outputs": [],
   "source": [
    "import numpy as np\n",
    "import theano\n",
    "import theano.tensor as T\n",
    "import matplotlib.pyplot as plt\n",
    "import pandas as pd\n",
    "\n",
    "from theano.tensor.shared_randomstreams import RandomStreams"
   ]
  },
  {
   "cell_type": "code",
   "execution_count": 3,
   "metadata": {},
   "outputs": [],
   "source": [
    "df = pd.read_csv('./train.csv')"
   ]
  },
  {
   "cell_type": "code",
   "execution_count": 4,
   "metadata": {},
   "outputs": [],
   "source": [
    "# Load data\n",
    "\n",
    "data = df.values.astype(np.float32)\n",
    "np.random.shuffle(data)\n",
    "X = data[:, 1:]\n",
    "Y = data[:, 0]\n",
    "\n",
    "Xtrain = X[:-1000]\n",
    "Ytrain = Y[:-1000]\n",
    "Xtest  = X[-1000:]\n",
    "Ytest  = Y[-1000:]"
   ]
  },
  {
   "cell_type": "code",
   "execution_count": 5,
   "metadata": {},
   "outputs": [
    {
     "data": {
      "image/png": "[encoded data removed]",
      "text/plain": [
       "<Figure size 432x288 with 1 Axes>"
      ]
     },
     "metadata": {
      "needs_background": "light"
     },
     "output_type": "display_data"
    }
   ],
   "source": [
    "s = np.reshape(Xtrain[0], (28, 28))\n",
    "plt.imshow(s)\n",
    "plt.show()"
   ]
  },
  {
   "cell_type": "code",
   "execution_count": 6,
   "metadata": {},
   "outputs": [],
   "source": [
    "# normalizie the data\n",
    "\n",
    "mu = Xtrain.mean(axis=0)\n",
    "std = Xtrain.std(axis=0)\n",
    "\n",
    "np.place(std, std == 0, 1)\n",
    "\n",
    "Xtrain = (Xtrain - mu) / std\n",
    "Xtest = (Xtest - mu) / std"
   ]
  },
  {
   "cell_type": "code",
   "execution_count": 7,
   "metadata": {},
   "outputs": [],
   "source": [
    "# change y to hot encoder\n",
    "\n",
    "def y2indicator(y):\n",
    "\n",
    "    y = y.astype(np.int32)\n",
    "    ind = np.zeros((len(y), 10))\n",
    "\n",
    "    for i in range(len(y)):\n",
    "        ind[i, y[i]] = 1\n",
    "        \n",
    "    return ind "
   ]
  },
  {
   "cell_type": "code",
   "execution_count": 8,
   "metadata": {},
   "outputs": [],
   "source": [
    "def error_rate(p, t):\n",
    "    return np.mean(p != t)"
   ]
  },
  {
   "cell_type": "code",
   "execution_count": 15,
   "metadata": {},
   "outputs": [],
   "source": [
    "def relu(a):\n",
    "    return a * (a > 0)"
   ]
  },
  {
   "cell_type": "code",
   "execution_count": 9,
   "metadata": {},
   "outputs": [],
   "source": [
    "Ytrain_ind = y2indicator(Ytrain)\n",
    "Ytest_ind = y2indicator(Ytest)"
   ]
  },
  {
   "cell_type": "code",
   "execution_count": 10,
   "metadata": {},
   "outputs": [],
   "source": [
    "# data is ready\n",
    "\n",
    "Xtrain = Xtrain.astype(np.float32)\n",
    "Xtest = Xtest.astype(np.float32)\n",
    "Ytrain = Ytrain.astype(np.float32)\n",
    "Ytest = Ytest.astype(np.float32)\n",
    "Ytrain_ind = Ytrain_ind.astype(np.float32)\n",
    "Ytest_ind = Ytest_ind.astype(np.float32)"
   ]
  },
  {
   "cell_type": "code",
   "execution_count": 11,
   "metadata": {},
   "outputs": [],
   "source": [
    "# initial values\n",
    "\n",
    "max_iter = 15\n",
    "print_period = 100\n",
    "\n",
    "lr = 0.0004\n",
    "reg = 0.01\n",
    "\n",
    "N, D = Xtrain.shape\n",
    "batch_sz = 500\n",
    "n_batches = N // batch_sz\n",
    "\n",
    "M = 300\n",
    "K = 10"
   ]
  },
  {
   "cell_type": "code",
   "execution_count": 12,
   "metadata": {},
   "outputs": [],
   "source": [
    "W1_init = np.random.randn(D, M) / 28\n",
    "b1_init = np.zeros(M)\n",
    "W2_init = np.random.randn(M, K) / np.sqrt(M)\n",
    "b2_init = np.zeros(K)"
   ]
  },
  {
   "cell_type": "code",
   "execution_count": 13,
   "metadata": {},
   "outputs": [],
   "source": [
    "# step 2: define theano variables and expressions\n",
    "thX = T.matrix('X')\n",
    "thT = T.matrix('T')\n",
    "W1 = theano.shared(W1_init, 'W1')\n",
    "b1 = theano.shared(b1_init, 'b1')\n",
    "W2 = theano.shared(W2_init, 'W2')\n",
    "b2 = theano.shared(b2_init, 'b2')"
   ]
  },
  {
   "cell_type": "code",
   "execution_count": null,
   "metadata": {},
   "outputs": [],
   "source": [
    "# no dropout\n",
    "\"\"\"\n",
    "thZ = relu( thX.dot(W1) + b1 )  \n",
    "thY = T.nnet.softmax( thZ.dot(W2) + b2 )\n",
    "\"\"\""
   ]
  },
  {
   "cell_type": "code",
   "execution_count": 16,
   "metadata": {},
   "outputs": [],
   "source": [
    "# dropout \n",
    "\n",
    "rng = RandomStreams()\n",
    "\n",
    "mask1_thX = rng.binomial(n=1, p = 0.8, size = thX.shape)\n",
    "thX = thX * mask1_thX\n",
    "\n",
    "\n",
    "thZ = relu( thX.dot(W1) + b1 )  \n",
    "\n",
    "mask1_thZ = rng.binomial(n=1, p = 0.5, size = thZ.shape)\n",
    "thZ = thZ * mask1_thZ\n",
    "\n",
    "thY = T.nnet.softmax( thZ.dot(W2) + b2 )"
   ]
  },
  {
   "cell_type": "code",
   "execution_count": 17,
   "metadata": {},
   "outputs": [],
   "source": [
    "# define the cost function and prediction\n",
    "cost = -(thT * T.log(thY)).sum()\n",
    "prediction = T.argmax(thY, axis=1)"
   ]
  },
  {
   "cell_type": "code",
   "execution_count": 18,
   "metadata": {},
   "outputs": [],
   "source": [
    "# step 3: training expressions and functions\n",
    "# we can just include regularization as part of the cost because it is also automatically differentiated!\n",
    "update_W1 = W1 - lr*T.grad(cost, W1)\n",
    "update_b1 = b1 - lr*T.grad(cost, b1)\n",
    "update_W2 = W2 - lr*T.grad(cost, W2)\n",
    "update_b2 = b2 - lr*T.grad(cost, b2)"
   ]
  },
  {
   "cell_type": "code",
   "execution_count": 19,
   "metadata": {},
   "outputs": [],
   "source": [
    "train = theano.function(\n",
    "    inputs=[thX, thT],\n",
    "    updates=[(W1, update_W1), (b1, update_b1), (W2, update_W2), (b2, update_b2)],\n",
    ")"
   ]
  },
  {
   "cell_type": "code",
   "execution_count": 20,
   "metadata": {},
   "outputs": [],
   "source": [
    "# create another function for this because we want it over the whole dataset\n",
    "get_prediction = theano.function(\n",
    "    inputs=[thX, thT],\n",
    "    outputs=[cost, prediction],\n",
    ")"
   ]
  },
  {
   "cell_type": "code",
   "execution_count": 21,
   "metadata": {},
   "outputs": [
    {
     "name": "stdout",
     "output_type": "stream",
     "text": [
      "Cost / err at iteration i=0, j=0, cost_value: 2327.607, error: 0.792\n",
      "Cost / err at iteration i=1, j=0, cost_value: 421.048, error: 0.129\n",
      "Cost / err at iteration i=2, j=0, cost_value: 590.710, error: 0.116\n",
      "Cost / err at iteration i=3, j=0, cost_value: 536.106, error: 0.098\n",
      "Cost / err at iteration i=4, j=0, cost_value: 631.245, error: 0.090\n",
      "Cost / err at iteration i=5, j=0, cost_value: 557.158, error: 0.085\n",
      "Cost / err at iteration i=6, j=0, cost_value: 507.064, error: 0.076\n",
      "Cost / err at iteration i=7, j=0, cost_value: 678.187, error: 0.078\n",
      "Cost / err at iteration i=8, j=0, cost_value: 433.290, error: 0.070\n",
      "Cost / err at iteration i=9, j=0, cost_value: 555.097, error: 0.079\n",
      "Cost / err at iteration i=10, j=0, cost_value: 580.474, error: 0.069\n",
      "Cost / err at iteration i=11, j=0, cost_value: 358.137, error: 0.069\n",
      "Cost / err at iteration i=12, j=0, cost_value: 541.960, error: 0.056\n",
      "Cost / err at iteration i=13, j=0, cost_value: 640.802, error: 0.068\n",
      "Cost / err at iteration i=14, j=0, cost_value: 458.141, error: 0.056\n"
     ]
    },
    {
     "data": {
      "image/png": "[encoded data removed]",
      "text/plain": [
       "<Figure size 432x288 with 1 Axes>"
      ]
     },
     "metadata": {
      "needs_background": "light"
     },
     "output_type": "display_data"
    }
   ],
   "source": [
    "costs = []\n",
    "for i in range(max_iter):\n",
    "    for j in range(n_batches):\n",
    "        Xbatch = Xtrain[j*batch_sz:(j*batch_sz + batch_sz),]\n",
    "        Ybatch = Ytrain_ind[j*batch_sz:(j*batch_sz + batch_sz),]\n",
    "\n",
    "        train(Xbatch, Ybatch)\n",
    "        if j % print_period == 0:\n",
    "            cost_val, prediction_val = get_prediction(Xtest, Ytest_ind)\n",
    "            err = error_rate(prediction_val, Ytest)\n",
    "            print(\"Cost / err at iteration i=%d, j=%d, cost_value: %.3f, error: %.3f\" % (i, j, cost_val, err))\n",
    "            costs.append(cost_val)\n",
    "\n",
    "plt.plot(costs)\n",
    "plt.show()"
   ]
  },
  {
   "cell_type": "code",
   "execution_count": null,
   "metadata": {},
   "outputs": [],
   "source": []
  }
 ],
 "metadata": {
  "kernelspec": {
   "display_name": "Python 2",
   "language": "python",
   "name": "python2"
  },
  "language_info": {
   "codemirror_mode": {
    "name": "ipython",
    "version": 2
   },
   "file_extension": ".py",
   "mimetype": "text/x-python",
   "name": "python",
   "nbconvert_exporter": "python",
   "pygments_lexer": "ipython2",
   "version": "2.7.15"
  }
 },
 "nbformat": 4,
 "nbformat_minor": 2
}

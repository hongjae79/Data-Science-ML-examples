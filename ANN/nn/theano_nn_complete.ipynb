{
 "cells": [
  {
   "cell_type": "code",
   "execution_count": 1,
   "metadata": {},
   "outputs": [],
   "source": [
    "import numpy as np\n",
    "import theano\n",
    "import theano.tensor as T\n",
    "import pandas as pd\n",
    "\n",
    "from theano.tensor.shared_randomstreams import RandomStreams\n",
    "from theano.tensor.nnet.bn import batch_normalization_train, batch_normalization_test\n",
    "import matplotlib.pyplot as plt\n"
   ]
  },
  {
   "cell_type": "code",
   "execution_count": 2,
   "metadata": {},
   "outputs": [],
   "source": [
    "df = pd.read_csv('./train.csv')"
   ]
  },
  {
   "cell_type": "code",
   "execution_count": 3,
   "metadata": {},
   "outputs": [],
   "source": [
    "# Load data\n",
    "\n",
    "data = df.values.astype(np.float32)\n",
    "np.random.shuffle(data)\n",
    "X = data[:, 1:]\n",
    "Y = data[:, 0]\n",
    "\n",
    "Xtrain = X[:-1000]\n",
    "Ytrain = Y[:-1000]\n",
    "Xtest  = X[-1000:]\n",
    "Ytest  = Y[-1000:]"
   ]
  },
  {
   "cell_type": "code",
   "execution_count": 4,
   "metadata": {},
   "outputs": [
    {
     "data": {
      "image/png": "[encoded data removed]",
      "text/plain": [
       "<Figure size 432x288 with 1 Axes>"
      ]
     },
     "metadata": {
      "needs_background": "light"
     },
     "output_type": "display_data"
    }
   ],
   "source": [
    "s = np.reshape(Xtrain[0], (28, 28))\n",
    "plt.imshow(s)\n",
    "plt.show()"
   ]
  },
  {
   "cell_type": "code",
   "execution_count": 5,
   "metadata": {},
   "outputs": [],
   "source": [
    "# normalizie the data\n",
    "\n",
    "mu = Xtrain.mean(axis=0)\n",
    "std = Xtrain.std(axis=0)\n",
    "\n",
    "np.place(std, std == 0, 1)\n",
    "\n",
    "Xtrain = (Xtrain - mu) / std\n",
    "Xtest = (Xtest - mu) / std"
   ]
  },
  {
   "cell_type": "code",
   "execution_count": 6,
   "metadata": {},
   "outputs": [],
   "source": [
    "# change y to hot encoder\n",
    "\n",
    "def y2indicator(y):\n",
    "\n",
    "    y = y.astype(np.int32)\n",
    "    ind = np.zeros((len(y), 10))\n",
    "\n",
    "    for i in range(len(y)):\n",
    "        ind[i, y[i]] = 1\n",
    "        \n",
    "    return ind "
   ]
  },
  {
   "cell_type": "code",
   "execution_count": 7,
   "metadata": {},
   "outputs": [],
   "source": [
    "def error_rate(p, t):\n",
    "    return np.mean(p != t)"
   ]
  },
  {
   "cell_type": "code",
   "execution_count": 8,
   "metadata": {},
   "outputs": [],
   "source": [
    "def relu(a):\n",
    "    return a * (a > 0)"
   ]
  },
  {
   "cell_type": "code",
   "execution_count": 9,
   "metadata": {},
   "outputs": [],
   "source": [
    "Ytrain_ind = y2indicator(Ytrain)\n",
    "Ytest_ind = y2indicator(Ytest)"
   ]
  },
  {
   "cell_type": "code",
   "execution_count": 10,
   "metadata": {},
   "outputs": [],
   "source": [
    "# data is ready\n",
    "\n",
    "Xtrain = Xtrain.astype(np.float32)\n",
    "Xtest = Xtest.astype(np.float32)\n",
    "Ytrain = Ytrain.astype(np.float32)\n",
    "Ytest = Ytest.astype(np.float32)\n",
    "Ytrain_ind = Ytrain_ind.astype(np.float32)\n",
    "Ytest_ind = Ytest_ind.astype(np.float32)"
   ]
  },
  {
   "cell_type": "code",
   "execution_count": 11,
   "metadata": {},
   "outputs": [],
   "source": [
    "# initial values\n",
    "\n",
    "max_iter = 15\n",
    "print_period = 100\n",
    "\n",
    "lr = 0.0004\n",
    "reg = 0.01 #smooth parameter\n",
    "\n",
    "N, D = Xtrain.shape\n",
    "batch_sz = 500\n",
    "n_batches = N // batch_sz\n",
    "\n",
    "M = 300\n",
    "K = 10"
   ]
  },
  {
   "cell_type": "code",
   "execution_count": 12,
   "metadata": {},
   "outputs": [],
   "source": [
    "W1_init = np.random.randn(D, M) / 28\n",
    "b1_init = np.zeros(M)\n",
    "W2_init = np.random.randn(M, K) / np.sqrt(M)\n",
    "b2_init = np.zeros(K)"
   ]
  },
  {
   "cell_type": "code",
   "execution_count": 31,
   "metadata": {},
   "outputs": [],
   "source": [
    "# step 2: define theano variables and expressions\n",
    "thX = T.matrix('X')\n",
    "thT = T.matrix('T')\n",
    "W1 = theano.shared(W1_init, 'W1')\n",
    "b1 = theano.shared(b1_init, 'b1')\n",
    "W2 = theano.shared(W2_init, 'W2')\n",
    "b2 = theano.shared(b2_init, 'b2')"
   ]
  },
  {
   "cell_type": "code",
   "execution_count": 32,
   "metadata": {},
   "outputs": [],
   "source": [
    "# we can use the built-in theano functions to do relu and softmax\n",
    "\n",
    "thZ = relu( thX.dot(W1) + b1 )  \n",
    "thY = T.nnet.softmax( thZ.dot(W2) + b2 )\n"
   ]
  },
  {
   "cell_type": "markdown",
   "metadata": {},
   "source": [
    "Dropout"
   ]
  },
  {
   "cell_type": "code",
   "execution_count": 33,
   "metadata": {},
   "outputs": [
    {
     "data": {
      "text/plain": [
       "'\\nrng = RandomStreams()\\n\\nmask1_thX = rng.binomial(n=1, p = 0.8, size = thX.shape)\\nthX = thX * mask1_thX\\n\\n\\nthZ = relu( thX.dot(W1) + b1 )  \\n\\nmask1_thZ = rng.binomial(n=1, p = 0.5, size = thZ.shape)\\nthZ = thZ * mask1_thZ\\n\\nthY = T.nnet.softmax( thZ.dot(W2) + b2 )\\n'"
      ]
     },
     "execution_count": 33,
     "metadata": {},
     "output_type": "execute_result"
    }
   ],
   "source": [
    "# dropout \n",
    "\"\"\"\n",
    "rng = RandomStreams()\n",
    "\n",
    "mask1_thX = rng.binomial(n=1, p = 0.8, size = thX.shape)\n",
    "thX = thX * mask1_thX\n",
    "\n",
    "\n",
    "thZ = relu( thX.dot(W1) + b1 )  \n",
    "\n",
    "mask1_thZ = rng.binomial(n=1, p = 0.5, size = thZ.shape)\n",
    "thZ = thZ * mask1_thZ\n",
    "\n",
    "thY = T.nnet.softmax( thZ.dot(W2) + b2 )\n",
    "\"\"\""
   ]
  },
  {
   "cell_type": "markdown",
   "metadata": {},
   "source": [
    "Regularization"
   ]
  },
  {
   "cell_type": "code",
   "execution_count": 34,
   "metadata": {},
   "outputs": [],
   "source": [
    "# define the cost function and prediction\n",
    "cost = -(thT * T.log(thY)).sum()\n",
    "\n",
    "#L1 regularization\n",
    "#cost = -(thT * T.log(thY)).sum() + reg*((W1*W1).sum() + (b1*b1).sum() + (W2*W2).sum() + (b2*b2).sum())\n",
    "\n",
    "#L2 regularization\n",
    "#cost = -(thT * T.log(thY)).sum() + reg*(np.abs(W1).sum() + np.abs(b1).sum() + np.abs(W2).sum() + np.abs(b2).sum())\n",
    "\n",
    "prediction = T.argmax(thY, axis=1)"
   ]
  },
  {
   "cell_type": "markdown",
   "metadata": {},
   "source": [
    "Momentum"
   ]
  },
  {
   "cell_type": "code",
   "execution_count": 41,
   "metadata": {},
   "outputs": [
    {
     "data": {
      "text/plain": [
       "'\\nmu = 0.9\\nparams = [W1, b1, W2, b2]\\nvparams = [theano.shared(np.zeros_like(p.get_value())) for p in params]\\n\\nupdates = []\\n\\nfor p, vp in zip(params, vparams):\\n    update_vp = mu * vp - lr * T.grad(cost, p)\\n    update_p = p + mu * update_vp - lr * T.grad(cost, p)\\n    updates.append((vp, update_vp))\\n    updates.append((p, update_p))\\n    \\n'"
      ]
     },
     "execution_count": 41,
     "metadata": {},
     "output_type": "execute_result"
    }
   ],
   "source": [
    "\"\"\" \n",
    "\n",
    "mu = 0.9\n",
    "\"\"\" \n",
    "#without momentum \n",
    "\n",
    "\n",
    "\n",
    "update_W1 = W1 - lr*T.grad(cost, W1)\n",
    "update_b1 = b1 - lr*T.grad(cost, b1)\n",
    "update_W2 = W2 - lr*T.grad(cost, W2)\n",
    "update_b2 = b2 - lr*T.grad(cost, b2)\n",
    "\n",
    "updates = [(W1, update_W1), (b1, update_b1), (W2, update_W2), (b2, update_b2)]\n",
    "\n",
    "\n",
    "\n",
    "# this is equivalent to the line above\n",
    "\"\"\"\n",
    "params = [W1, b1, W2, b2]\n",
    "updates = [(p, p-lr*T.grad(cost, p)) for p in params]\n",
    "\"\"\"\n",
    "\n",
    "# using for loop \n",
    "\"\"\"\n",
    "params = [W1, b1, W2, b2]\n",
    "updates = []\n",
    "for p in params:\n",
    "    update_p = p - lr * T.grad(cost, p)\n",
    "    updates.append((p, update_p))\n",
    "\n",
    "#With momentum\n",
    "\"\"\"\n",
    "\"\"\"\n",
    "\n",
    "vW1_init = np.zeros((D,M))\n",
    "vb1_init = np.zeros(M)\n",
    "vW2_init = np.zeros((M,K))\n",
    "vb2_init = np.zeros(K)\n",
    "\n",
    "vW1 = theano.shared(vW1_init, 'dW1')\n",
    "vb1 = theano.shared(vb1_init, 'db1')\n",
    "vW2 = theano.shared(vW2_init, 'dW2')\n",
    "vb2 = theano.shared(vb2_init, 'db2')\n",
    "\n",
    "update_vW1 = mu * vW1 - lr * T.grad(cost, W1)\n",
    "update_vb1 = mu * vb1 - lr * T.grad(cost, b1)\n",
    "update_vW2 = mu * vW2 - lr * T.grad(cost, W2)\n",
    "update_vb2 = mu * vb2 - lr * T.grad(cost, b2)\n",
    "\n",
    "update_W1 = W1 + update_vW1\n",
    "update_b1 = b1 + update_vb1\n",
    "update_W2 = W2 + update_vW2\n",
    "update_b2 = b2 + update_vb2\n",
    "\n",
    "updates = [(W1, update_W1), (b1, update_b1), (W2, update_W2), (b2, update_b2)] + [(vW1, update_vW1), (vb1, update_vb1), (vW2, update_vW2), (vb2, update_vb2)]\n",
    "\n",
    "\n",
    "# this is equivalent to the line above\n",
    "\n",
    "params = [W1, b1, W2, b2]\n",
    "vparams = [theano.shared(np.zeros_like(p.get_value())) for p in params]\n",
    "\n",
    "updates = [(p, p + mu * vp -lr * T.grad(cost, p)) for p, vp in zip(params, vparams)] + [(vp, mu * vp - lr * T.grad(cost, p)) for p, vp in zip(params, vparams)]\n",
    "\n",
    "\n",
    "#using for loops\n",
    "mu = 0.9\n",
    "\n",
    "\n",
    "params = [W1, b1, W2, b2]\n",
    "vparams = [theano.shared(np.zeros_like(p.get_value())) for p in params]\n",
    "\n",
    "updates = []\n",
    "for p, vp in zip(params, vparams):\n",
    "    update_vp = mu * vp - lr * T.grad(cost, p)\n",
    "    update_p = p + update_vp\n",
    "    updates.append((vp, update_vp))\n",
    "    updates.append((p, update_p))\n",
    "\n",
    "\n",
    "\n",
    "\n",
    "\n",
    "#with nesterov momentum\n",
    "\n",
    "vW1_init = np.zeros((D,M))\n",
    "vb1_init = np.zeros(M)\n",
    "vW2_init = np.zeros((M,K))\n",
    "vb2_init = np.zeros(K)\n",
    "\n",
    "vW1 = theano.shared(vW1_init, 'dW1')\n",
    "vb1 = theano.shared(vb1_init, 'db1')\n",
    "vW2 = theano.shared(vW2_init, 'dW2')\n",
    "vb2 = theano.shared(vb2_init, 'db2')\n",
    "\n",
    "update_vW1 = mu * vW1 - lr * T.grad(cost, W1)\n",
    "update_vb1 = mu * vb1 - lr * T.grad(cost, b1)\n",
    "update_vW2 = mu * vW2 - lr * T.grad(cost, W2)\n",
    "update_vb2 = mu * vb2 - lr * T.grad(cost, b2)\n",
    "\n",
    "update_W1 = W1 + mu * update_vW1 - lr * T.grad(cost, W1)\n",
    "update_b1 = b1 + mu * update_vb1 - lr * T.grad(cost, b1)\n",
    "update_W2 = W2 + mu * update_vW2 - lr * T.grad(cost, W2)\n",
    "update_b2 = b2 + mu * update_vb2 - lr * T.grad(cost, b2)\n",
    "\n",
    "updates = [(W1, update_W1), (b1, update_b1), (W2, update_W2), (b2, update_b2)] + [(vW1, update_vW1), (vb1, update_vb1), (vW2, update_vW2), (vb2, update_vb2)]\n",
    "\"\"\"\n",
    "\n",
    "#This line is equivalent to the line above\n",
    "\"\"\"\n",
    "params = [W1, b1, W2, b2]\n",
    "vparams = [theano.shared(np.zeros_like(p.get_value())) for p in params]\n",
    "\n",
    "updates = [(p, p + mu * (mu * vp - lr * T.grad(cost, p)) - lr * T.grad(cost, p)) for p, vp in zip(params, vparams)] + [(vp, mu * vp - lr * T.grad(cost, p)) for p, vp in zip(params, vparams)]\n",
    "\"\"\"\n",
    "\n",
    "#using for loops\n",
    "\"\"\"\n",
    "mu = 0.9\n",
    "params = [W1, b1, W2, b2]\n",
    "vparams = [theano.shared(np.zeros_like(p.get_value())) for p in params]\n",
    "\n",
    "updates = []\n",
    "\n",
    "for p, vp in zip(params, vparams):\n",
    "    update_vp = mu * vp - lr * T.grad(cost, p)\n",
    "    update_p = p + mu * update_vp - lr * T.grad(cost, p)\n",
    "    updates.append((vp, update_vp))\n",
    "    updates.append((p, update_p))\n",
    "    \n",
    "\"\"\""
   ]
  },
  {
   "cell_type": "markdown",
   "metadata": {},
   "source": [
    "Learning Rate"
   ]
  },
  {
   "cell_type": "code",
   "execution_count": 42,
   "metadata": {},
   "outputs": [
    {
     "data": {
      "text/plain": [
       "'\\nepsilon = 1e-8\\n\\nparams = [W1, b1, W2, b2]\\ncparams = [theano.shared(np.zeros_like(p.get_value())) for p in params]\\nupdates = []\\n\\nfor p, cp in zip(params, cparams):\\n    update_cp = cp + T.grad(cost, p) * T.grad(cost, p)\\n    update_p = p - lr * T.grad(cost, p)/(T.sqrt(update_cp) + epsilon)\\n    updates.append((cp, update_cp))\\n    updates.append((p, update_p))\\n'"
      ]
     },
     "execution_count": 42,
     "metadata": {},
     "output_type": "execute_result"
    }
   ],
   "source": [
    "#AdaGrad\n",
    "\"\"\"\n",
    "lr = 0.0004\n",
    "epsilon = 0.0000001\n",
    "\n",
    "\n",
    "cW1_init = np.zeros((D,M))\n",
    "cb1_init = np.zeros(M)\n",
    "cW2_init = np.zeros((M,K))\n",
    "cb2_init = np.zeros(K)\n",
    "\n",
    "cW1 = theano.shared(cW1_init, 'cW1')\n",
    "cb1 = theano.shared(cb1_init, 'cb1')\n",
    "cW2 = theano.shared(cW2_init, 'cW2')\n",
    "cb2 = theano.shared(cb2_init, 'cb2')\n",
    "\n",
    "update_cW1 = cW1 + T.grad(cost, W1) * T.grad(cost, W1)\n",
    "update_cb1 = cb1 + T.grad(cost, b1) * T.grad(cost, b1)\n",
    "update_cW2 = cW2 + T.grad(cost, W2) * T.grad(cost, W2)\n",
    "update_cb2 = cb2 + T.grad(cost, b2) * T.grad(cost, b2)\n",
    "\n",
    "update_W1 = W1 - lr * T.grad(cost, W1)/(T.sqrt(update_cW1) + epsilon)\n",
    "update_b1 = b1 - lr * T.grad(cost, b1)/(T.sqrt(update_cb1) + epsilon)\n",
    "update_W2 = W2 - lr * T.grad(cost, W2)/(T.sqrt(update_cW2) + epsilon)\n",
    "update_b2 = b2 - lr * T.grad(cost, b2)/(T.sqrt(update_cb2) + epsilon)\n",
    "\n",
    "updates = [(W1, update_W1), (b1, update_b1), (W2, update_W2), (b2, update_b2)] + [(cW1, update_cW1), (cb1, update_cb1), (cW2, update_cW2), (cb2, update_cb2)]\n",
    "\"\"\"\n",
    "# this code is same as above lines\n",
    "\"\"\"\n",
    "params = [W1, b1, W2, b2]\n",
    "cparams = [theano.shared(np.zeros_like(p.get_value())) for p in params]\n",
    "\n",
    "updates = [ (p, p - lr * T.grad(cost, p)/(T.sqrt(cp + T.grad(cost, p) * T.grad(cost, p)) + epsilon)) for p, cp in zip(params, cparams)] + [(cp, cp + T.grad(cost, p) * T.grad(cost, p)) for p, cp in zip(params, cparams)]\n",
    "\"\"\"\n",
    "\n",
    "# using for loops\n",
    "\"\"\"\n",
    "epsilon = 1e-8\n",
    "\n",
    "params = [W1, b1, W2, b2]\n",
    "cparams = [theano.shared(np.zeros_like(p.get_value())) for p in params]\n",
    "updates = []\n",
    "\n",
    "for p, cp in zip(params, cparams):\n",
    "    update_cp = cp + T.grad(cost, p) * T.grad(cost, p)\n",
    "    update_p = p - lr * T.grad(cost, p)/(T.sqrt(update_cp) + epsilon)\n",
    "    updates.append((cp, update_cp))\n",
    "    updates.append((p, update_p))\n",
    "\"\"\"\n"
   ]
  },
  {
   "cell_type": "code",
   "execution_count": 43,
   "metadata": {},
   "outputs": [
    {
     "data": {
      "text/plain": [
       "'\\nlr = 0.0004\\nepsilon = 0.0000001\\ndecay = 0.999\\n\\nparams = [W1, b1, W2, b2]\\ncparams = [theano.shared(np.zeros_like(p.get_value())) for p in params]\\nupdates = []\\n\\nfor p, cp in zip(params, cparams):\\n    update_cp = decay * cp + (1-decay) * T.grad(cost, p) * T.grad(cost, p)\\n    update_p = p - lr * T.grad(cost, p)/(T.sqrt(update_cp)+epsilon)\\n    updates.append((cp, update_cp))\\n    updates.append((p, update_p))\\n    \\n'"
      ]
     },
     "execution_count": 43,
     "metadata": {},
     "output_type": "execute_result"
    }
   ],
   "source": [
    "#RMS\n",
    "\"\"\"\n",
    "lr = 0.0004\n",
    "epsilon = 0.0000001\n",
    "decay = 0.999\n",
    "\n",
    "cW1_init = np.zeros((D,M))\n",
    "cb1_init = np.zeros(M)\n",
    "cW2_init = np.zeros((M,K))\n",
    "cb2_init = np.zeros(K)\n",
    "\n",
    "cW1 = theano.shared(cW1_init, 'cW1')\n",
    "cb1 = theano.shared(cb1_init, 'cb1')\n",
    "cW2 = theano.shared(cW2_init, 'cW2')\n",
    "cb2 = theano.shared(cb2_init, 'cb2')\n",
    "\n",
    "update_cW1 = decay * cW1 + (1 - decay) * T.grad(cost, W1) * T.grad(cost, W1)\n",
    "update_cb1 = decay * cb1 + (1 - decay) * T.grad(cost, b1) * T.grad(cost, b1)\n",
    "update_cW2 = decay * cW2 + (1 - decay) * T.grad(cost, W2) * T.grad(cost, W2)\n",
    "update_cb2 = decay * cb2 + (1 - decay) * T.grad(cost, b2) * T.grad(cost, b2)\n",
    "\n",
    "update_W1 = W1 - lr * T.grad(cost, W1)/(T.sqrt(update_cW1) + epsilon)\n",
    "update_b1 = b1 - lr * T.grad(cost, b1)/(T.sqrt(update_cb1) + epsilon)\n",
    "update_W2 = W2 - lr * T.grad(cost, W2)/(T.sqrt(update_cW2) + epsilon)\n",
    "update_b2 = b2 - lr * T.grad(cost, b2)/(T.sqrt(update_cb2) + epsilon)\n",
    "\n",
    "updates = [(W1, update_W1), (b1, update_b1), (W2, update_W2), (b2, update_b2)] + [(cW1, update_cW1), (cb1, update_cb1), (cW2, update_cW2), (cb2, update_cb2)]\n",
    "\"\"\"\n",
    "#This line is same as above lines\n",
    "\"\"\"\n",
    "params = [W1, b1, W2, b2]\n",
    "cparams = [theano.shared(np.zeros_like(p.get_value())) for p in params]\n",
    "\n",
    "updates = [(p, p - lr * T.grad(cost, p)/(T.sqrt(decay * cp + (1 - decay) * T.grad(cost, p) * T.grad(cost, p)) + epsilon)) for p, cp in zip(params, cparams)] + [ (cp, decay * cp + (1 - decay) * T.grad(cost, p) * T.grad(cost, p)) for p, cp in zip(params, cparams)]\n",
    "\"\"\"\n",
    "\n",
    "# using for loops\n",
    "\"\"\"\n",
    "lr = 0.0004\n",
    "epsilon = 0.0000001\n",
    "decay = 0.999\n",
    "\n",
    "params = [W1, b1, W2, b2]\n",
    "cparams = [theano.shared(np.zeros_like(p.get_value())) for p in params]\n",
    "updates = []\n",
    "\n",
    "for p, cp in zip(params, cparams):\n",
    "    update_cp = decay * cp + (1-decay) * T.grad(cost, p) * T.grad(cost, p)\n",
    "    update_p = p - lr * T.grad(cost, p)/(T.sqrt(update_cp)+epsilon)\n",
    "    updates.append((cp, update_cp))\n",
    "    updates.append((p, update_p))\n",
    "    \n",
    "\"\"\""
   ]
  },
  {
   "cell_type": "markdown",
   "metadata": {},
   "source": [
    "RMS with momentum and ADAM "
   ]
  },
  {
   "cell_type": "code",
   "execution_count": 44,
   "metadata": {},
   "outputs": [
    {
     "data": {
      "text/plain": [
       "'\\nlr = 0.0004\\nepsilon = 0.0000001\\ndecay = 0.999\\nmu = 0.9\\n\\n#using for loops\\nparams = [W1, b1, W2, b2]\\nvparams = [theano.shared(np.zeros_like(p.get_value())) for p in params]\\ncparams = [theano.shared(np.zeros_like(p.get_value())) for p in params]\\nupdates = []\\n\\nfor p, vp, cp in zip(params, vparams, cparams):\\n    update_vp = mu * vp - lr * T.grad(cost, p)\\n    update_cp = decay * cp + (1 - decay) * T.grad(cost, p) * T.grad(cost, p)  \\n    update_p = p + update_vp/(T.sqrt(update_cp) + epsilon)\\n    \\n    updates.append((vp, update_vp))\\n    updates.append((cp, update_cp))\\n    updates.append((p, update_p))\\n'"
      ]
     },
     "execution_count": 44,
     "metadata": {},
     "output_type": "execute_result"
    }
   ],
   "source": [
    "# RMS with momentum  \n",
    "\"\"\"\n",
    "\n",
    "lr = 0.0004\n",
    "epsilon = 0.0000001\n",
    "decay = 0.999\n",
    "mu = 0.9\n",
    "\n",
    "\"\"\"\n",
    "\"\"\"\n",
    "vW1_init = np.zeros((D,M))\n",
    "vb1_init = np.zeros(M)\n",
    "vW2_init = np.zeros((M,K))\n",
    "vb2_init = np.zeros(K)\n",
    "\n",
    "vW1 = theano.shared(vW1_init, 'dW1')\n",
    "vb1 = theano.shared(vb1_init, 'db1')\n",
    "vW2 = theano.shared(vW2_init, 'dW2')\n",
    "vb2 = theano.shared(vb2_init, 'db2')\n",
    "\n",
    "cW1_init = np.zeros((D,M))\n",
    "cb1_init = np.zeros(M)\n",
    "cW2_init = np.zeros((M,K))\n",
    "cb2_init = np.zeros(K)\n",
    "\n",
    "cW1 = theano.shared(cW1_init, 'cW1')\n",
    "cb1 = theano.shared(cb1_init, 'cb1')\n",
    "cW2 = theano.shared(cW2_init, 'cW2')\n",
    "cb2 = theano.shared(cb2_init, 'cb2')\n",
    "\n",
    "update_vW1 = mu * vW1 - lr * T.grad(cost, W1)\n",
    "update_vb1 = mu * vb1 - lr * T.grad(cost, b1)\n",
    "update_vW2 = mu * vW2 - lr * T.grad(cost, W2)\n",
    "update_vb2 = mu * vb2 - lr * T.grad(cost, b2)\n",
    "\n",
    "update_cW1 = decay * cW1 + (1 - decay) * T.grad(cost, W1) * T.grad(cost, W1)\n",
    "update_cb1 = decay * cb1 + (1 - decay) * T.grad(cost, b1) * T.grad(cost, b1)\n",
    "update_cW2 = decay * cW2 + (1 - decay) * T.grad(cost, W2) * T.grad(cost, W2)\n",
    "update_cb2 = decay * cb2 + (1 - decay) * T.grad(cost, b2) * T.grad(cost, b2)\n",
    "\n",
    "update_W1 = W1 + update_vW1/(T.sqrt(update_cW1) + epsilon)\n",
    "update_b1 = b1 + update_vb1/(T.sqrt(update_cb1) + epsilon)\n",
    "update_W2 = W2 + update_vW2/(T.sqrt(update_cW2) + epsilon)\n",
    "update_b2 = b2 + update_vb2/(T.sqrt(update_cb2) + epsilon)\n",
    "\n",
    "updates = [(W1, update_W1), (b1, update_b1), (W2, update_W2), (b2, update_b2)] + [(vW1, update_vW1), (vb1, update_vb1), (vW2, update_vW2), (vb2, update_vb2)] + [(cW1, update_cW1), (cb1, update_cb1), (cW2, update_cW2), (cb2, update_cb2)]\n",
    "\"\"\"\n",
    "# the follwing code is same as above \n",
    "\"\"\"\n",
    "params = [W1, b1, W2, b2]\n",
    "vparams = [theano.shared(np.zeros_like(p.get_value())) for p in params]\n",
    "cparams = [theano.shared(np.zeros_like(p.get_value())) for p in params]\n",
    "\n",
    "update_tensor = [(p, p + mu * vp - lr * T.grad(cost, p)/(T.sqrt(decay * cp + (1 - decay) * T.grad(cost, p) * T.grad(cost, p)) + epsilon) ) for p, vp, cp in zip(params, vparams, cparams)]\n",
    "update_c = [(cp, decay * cp + (1 - decay) * T.grad(cost, p) * T.grad(cost, p) ) for p, cp in zip(params, cparams)]\n",
    "update_v = [(vp, mu * vp - lr * T.grad(cost, p)) for p, vp in zip(params, vparams)]\n",
    "\n",
    "updates = update_tensor + update_c + update_v\n",
    "\n",
    "\"\"\"\n",
    "\n",
    "#using for loops\n",
    "\"\"\"\n",
    "lr = 0.0004\n",
    "epsilon = 0.0000001\n",
    "decay = 0.999\n",
    "mu = 0.9\n",
    "\n",
    "#using for loops\n",
    "params = [W1, b1, W2, b2]\n",
    "vparams = [theano.shared(np.zeros_like(p.get_value())) for p in params]\n",
    "cparams = [theano.shared(np.zeros_like(p.get_value())) for p in params]\n",
    "updates = []\n",
    "\n",
    "for p, vp, cp in zip(params, vparams, cparams):\n",
    "    update_vp = mu * vp - lr * T.grad(cost, p)\n",
    "    update_cp = decay * cp + (1 - decay) * T.grad(cost, p) * T.grad(cost, p)  \n",
    "    update_p = p + update_vp/(T.sqrt(update_cp) + epsilon)\n",
    "    \n",
    "    updates.append((vp, update_vp))\n",
    "    updates.append((cp, update_cp))\n",
    "    updates.append((p, update_p))\n",
    "\"\"\""
   ]
  },
  {
   "cell_type": "code",
   "execution_count": 45,
   "metadata": {},
   "outputs": [
    {
     "data": {
      "text/plain": [
       "\"\\nlr = 1e-3\\nbeta_1 = 0.9\\nbeta_2 = 0.999\\neps = 1e-8\\n\\n\\nvW1_init = np.zeros((D,M))\\nvb1_init = np.zeros(M)\\nvW2_init = np.zeros((M,K))\\nvb2_init = np.zeros(K)\\n\\nvW1 = theano.shared(vW1_init, 'dW1')\\nvb1 = theano.shared(vb1_init, 'db1')\\nvW2 = theano.shared(vW2_init, 'dW2')\\nvb2 = theano.shared(vb2_init, 'db2')\\n\\nmW1_init = np.zeros((D,M))\\nmb1_init = np.zeros(M)\\nmW2_init = np.zeros((M,K))\\nmb2_init = np.zeros(K)\\n\\nmW1 = theano.shared(mW1_init, 'cW1')\\nmb1 = theano.shared(mb1_init, 'cb1')\\nmW2 = theano.shared(mW2_init, 'cW2')\\nmb2 = theano.shared(mb2_init, 'cb2')\\n\\nt = theano.shared(float(0.))\\n\\nupdate_t = t + 1 \\n\\n\\n\\nupdate_mW1 = beta_1 * mW1 + (1-beta_1) * T.grad(cost, W1)\\nupdate_mb1 = beta_1 * mb1 + (1-beta_1) * T.grad(cost, b1)\\nupdate_mW2 = beta_1 * mW2 + (1-beta_1) * T.grad(cost, W2)\\nupdate_mb2 = beta_1 * mb2 + (1-beta_1) * T.grad(cost, b2)\\n\\nupdate_vW1 = beta_2 * vW1 + (1-beta_2) * T.grad(cost, W1) * T.grad(cost, W1)\\nupdate_vb1 = beta_2 * vb1 + (1-beta_2) * T.grad(cost, b1) * T.grad(cost, b1)\\nupdate_vW2 = beta_2 * vW2 + (1-beta_2) * T.grad(cost, W2) * T.grad(cost, W2)\\nupdate_vb2 = beta_2 * vb2 + (1-beta_2) * T.grad(cost, b2) * T.grad(cost, b2)\\n\\n\\nhat_mW2 = update_mW2/(1-beta_1**update_t)\\nhat_mb2 = update_mb2/(1-beta_1**update_t)\\nhat_mW1 = update_mW1/(1-beta_1**update_t)\\nhat_mb1 = update_mb1/(1-beta_1**update_t)\\n\\nhat_vW2 = update_vW2/(1-beta_2**update_t)\\nhat_vb2 = update_vb2/(1-beta_2**update_t)\\nhat_vW1 = update_vW1/(1-beta_2**update_t)\\nhat_vb1 = update_vb1/(1-beta_2**update_t)\\n    \\n    \\nupdate_W2 = W2 - lr * hat_mW2/T.sqrt(hat_vW2 + eps)\\nupdate_b2 = b2 - lr * hat_mb2/T.sqrt(hat_vb2 + eps)\\nupdate_W1 = W1 - lr * hat_mW1/T.sqrt(hat_vW1 + eps)\\nupdate_b1 = b1 - lr * hat_mb1/T.sqrt(hat_vb1 + eps)\\n\\nupdates = [(W1, update_W1), (b1, update_b1), (W2, update_W2), (b2, update_b2)] + [(vW1, update_vW1), (vb1, update_vb1), (vW2, update_vW2), (vb2, update_vb2)] + [(mW1, update_mW1), (mb1, update_mb1), (mW2, update_mW2), (mb2, update_mb2)] + [(t, update_t)]\\n\\n# the code is correct.\\n\\n\\nupdates = []\\nparams = [W1, b1, W2, b2]\\nvparams = [theano.shared(np.zeros_like(p.get_value())) for p in params]\\nmparams = [theano.shared(np.zeros_like(p.get_value())) for p in params]\\n\\nt = theano.shared(float(0.))\\nupdate_t = t + 1 \\n\\nfor p, vp, mp in zip(params, vparams, mparams):\\n    update_mp = beta_1 * mp + (1-beta_1) * T.grad(cost, p)\\n    update_vp = beta_2 * vp + (1-beta_2) * T.grad(cost, p) * T.grad(cost, p)\\n    hat_mp = update_mp/(1-beta_1**update_t)\\n    hat_vp = update_vp/(1-beta_2**update_t)\\n    update_p = p - lr * hat_mp/T.sqrt(hat_vp + eps)\\n    \\n    updates.append((p, update_p))\\n    updates.append((mp, update_mp))\\n    updates.append((vp, update_vp))\\n    \\nupdates.append((t, update_t))\\n    \\n\\n\""
      ]
     },
     "execution_count": 45,
     "metadata": {},
     "output_type": "execute_result"
    }
   ],
   "source": [
    "#ADAM Optimizer\n",
    "\n",
    "\"\"\"\n",
    "lr = 1e-3\n",
    "beta_1 = 0.9\n",
    "beta_2 = 0.999\n",
    "eps = 1e-8\n",
    "\n",
    "\n",
    "vW1_init = np.zeros((D,M))\n",
    "vb1_init = np.zeros(M)\n",
    "vW2_init = np.zeros((M,K))\n",
    "vb2_init = np.zeros(K)\n",
    "\n",
    "vW1 = theano.shared(vW1_init, 'dW1')\n",
    "vb1 = theano.shared(vb1_init, 'db1')\n",
    "vW2 = theano.shared(vW2_init, 'dW2')\n",
    "vb2 = theano.shared(vb2_init, 'db2')\n",
    "\n",
    "mW1_init = np.zeros((D,M))\n",
    "mb1_init = np.zeros(M)\n",
    "mW2_init = np.zeros((M,K))\n",
    "mb2_init = np.zeros(K)\n",
    "\n",
    "mW1 = theano.shared(mW1_init, 'cW1')\n",
    "mb1 = theano.shared(mb1_init, 'cb1')\n",
    "mW2 = theano.shared(mW2_init, 'cW2')\n",
    "mb2 = theano.shared(mb2_init, 'cb2')\n",
    "\n",
    "t = theano.shared(float(0.))\n",
    "\n",
    "update_t = t + 1 \n",
    "\n",
    "\n",
    "\n",
    "update_mW1 = beta_1 * mW1 + (1-beta_1) * T.grad(cost, W1)\n",
    "update_mb1 = beta_1 * mb1 + (1-beta_1) * T.grad(cost, b1)\n",
    "update_mW2 = beta_1 * mW2 + (1-beta_1) * T.grad(cost, W2)\n",
    "update_mb2 = beta_1 * mb2 + (1-beta_1) * T.grad(cost, b2)\n",
    "\n",
    "update_vW1 = beta_2 * vW1 + (1-beta_2) * T.grad(cost, W1) * T.grad(cost, W1)\n",
    "update_vb1 = beta_2 * vb1 + (1-beta_2) * T.grad(cost, b1) * T.grad(cost, b1)\n",
    "update_vW2 = beta_2 * vW2 + (1-beta_2) * T.grad(cost, W2) * T.grad(cost, W2)\n",
    "update_vb2 = beta_2 * vb2 + (1-beta_2) * T.grad(cost, b2) * T.grad(cost, b2)\n",
    "\n",
    "\n",
    "hat_mW2 = update_mW2/(1-beta_1**update_t)\n",
    "hat_mb2 = update_mb2/(1-beta_1**update_t)\n",
    "hat_mW1 = update_mW1/(1-beta_1**update_t)\n",
    "hat_mb1 = update_mb1/(1-beta_1**update_t)\n",
    "\n",
    "hat_vW2 = update_vW2/(1-beta_2**update_t)\n",
    "hat_vb2 = update_vb2/(1-beta_2**update_t)\n",
    "hat_vW1 = update_vW1/(1-beta_2**update_t)\n",
    "hat_vb1 = update_vb1/(1-beta_2**update_t)\n",
    "    \n",
    "    \n",
    "update_W2 = W2 - lr * hat_mW2/T.sqrt(hat_vW2 + eps)\n",
    "update_b2 = b2 - lr * hat_mb2/T.sqrt(hat_vb2 + eps)\n",
    "update_W1 = W1 - lr * hat_mW1/T.sqrt(hat_vW1 + eps)\n",
    "update_b1 = b1 - lr * hat_mb1/T.sqrt(hat_vb1 + eps)\n",
    "\n",
    "updates = [(W1, update_W1), (b1, update_b1), (W2, update_W2), (b2, update_b2)] + [(vW1, update_vW1), (vb1, update_vb1), (vW2, update_vW2), (vb2, update_vb2)] + [(mW1, update_mW1), (mb1, update_mb1), (mW2, update_mW2), (mb2, update_mb2)] + [(t, update_t)]\n",
    "\n",
    "# the code is correct.\n",
    "\n",
    "\n",
    "updates = []\n",
    "params = [W1, b1, W2, b2]\n",
    "vparams = [theano.shared(np.zeros_like(p.get_value())) for p in params]\n",
    "mparams = [theano.shared(np.zeros_like(p.get_value())) for p in params]\n",
    "\n",
    "t = theano.shared(float(0.))\n",
    "update_t = t + 1 \n",
    "\n",
    "for p, vp, mp in zip(params, vparams, mparams):\n",
    "    update_mp = beta_1 * mp + (1-beta_1) * T.grad(cost, p)\n",
    "    update_vp = beta_2 * vp + (1-beta_2) * T.grad(cost, p) * T.grad(cost, p)\n",
    "    hat_mp = update_mp/(1-beta_1**update_t)\n",
    "    hat_vp = update_vp/(1-beta_2**update_t)\n",
    "    update_p = p - lr * hat_mp/T.sqrt(hat_vp + eps)\n",
    "    \n",
    "    updates.append((p, update_p))\n",
    "    updates.append((mp, update_mp))\n",
    "    updates.append((vp, update_vp))\n",
    "    \n",
    "updates.append((t, update_t))\n",
    "    \n",
    "\n",
    "\"\"\""
   ]
  },
  {
   "cell_type": "code",
   "execution_count": 46,
   "metadata": {},
   "outputs": [],
   "source": [
    "train = theano.function(\n",
    "    inputs=[thX, thT],\n",
    "    updates = updates\n",
    ")"
   ]
  },
  {
   "cell_type": "code",
   "execution_count": 47,
   "metadata": {},
   "outputs": [],
   "source": [
    "# create another function for this because we want it over the whole dataset\n",
    "get_prediction = theano.function(\n",
    "    inputs=[thX, thT],\n",
    "    outputs=[cost, prediction],\n",
    ")"
   ]
  },
  {
   "cell_type": "code",
   "execution_count": 48,
   "metadata": {},
   "outputs": [
    {
     "name": "stdout",
     "output_type": "stream",
     "text": [
      "Cost / err at iteration i=0, j=0, cost_value: 1768.204, error: 0.524\n",
      "Cost / err at iteration i=1, j=0, cost_value: 264.826, error: 0.073\n",
      "Cost / err at iteration i=2, j=0, cost_value: 209.089, error: 0.057\n",
      "Cost / err at iteration i=3, j=0, cost_value: 181.083, error: 0.051\n",
      "Cost / err at iteration i=4, j=0, cost_value: 162.486, error: 0.042\n",
      "Cost / err at iteration i=5, j=0, cost_value: 152.728, error: 0.040\n",
      "Cost / err at iteration i=6, j=0, cost_value: 143.758, error: 0.036\n",
      "Cost / err at iteration i=7, j=0, cost_value: 136.988, error: 0.036\n",
      "Cost / err at iteration i=8, j=0, cost_value: 135.784, error: 0.036\n",
      "Cost / err at iteration i=9, j=0, cost_value: 127.161, error: 0.035\n",
      "Cost / err at iteration i=10, j=0, cost_value: 133.409, error: 0.035\n",
      "Cost / err at iteration i=11, j=0, cost_value: 121.087, error: 0.031\n",
      "Cost / err at iteration i=12, j=0, cost_value: 127.101, error: 0.032\n",
      "Cost / err at iteration i=13, j=0, cost_value: 128.664, error: 0.033\n",
      "Cost / err at iteration i=14, j=0, cost_value: 126.782, error: 0.033\n"
     ]
    },
    {
     "data": {
      "image/png": "[encoded data removed]",
      "text/plain": [
       "<Figure size 432x288 with 1 Axes>"
      ]
     },
     "metadata": {
      "needs_background": "light"
     },
     "output_type": "display_data"
    }
   ],
   "source": [
    "costs = []\n",
    "for i in range(max_iter):\n",
    "    for j in range(n_batches):\n",
    "        Xbatch = Xtrain[j*batch_sz:(j*batch_sz + batch_sz),]\n",
    "        Ybatch = Ytrain_ind[j*batch_sz:(j*batch_sz + batch_sz),]\n",
    "\n",
    "        train(Xbatch, Ybatch)\n",
    "        if j % print_period == 0:\n",
    "            cost_val, prediction_val = get_prediction(Xtest, Ytest_ind)\n",
    "            err = error_rate(prediction_val, Ytest)\n",
    "            print(\"Cost / err at iteration i=%d, j=%d, cost_value: %.3f, error: %.3f\" % (i, j, cost_val, err))\n",
    "            costs.append(cost_val)\n",
    "\n",
    "plt.plot(costs)\n",
    "plt.show()"
   ]
  },
  {
   "cell_type": "code",
   "execution_count": null,
   "metadata": {},
   "outputs": [],
   "source": []
  }
 ],
 "metadata": {
  "kernelspec": {
   "display_name": "Python 2",
   "language": "python",
   "name": "python2"
  },
  "language_info": {
   "codemirror_mode": {
    "name": "ipython",
    "version": 2
   },
   "file_extension": ".py",
   "mimetype": "text/x-python",
   "name": "python",
   "nbconvert_exporter": "python",
   "pygments_lexer": "ipython2",
   "version": "2.7.15"
  }
 },
 "nbformat": 4,
 "nbformat_minor": 2
}

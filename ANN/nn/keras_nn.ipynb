{
 "cells": [
  {
   "cell_type": "code",
   "execution_count": 90,
   "metadata": {},
   "outputs": [],
   "source": [
    "from __future__ import division\n",
    "\n",
    "from keras.models import Sequential\n",
    "from keras.layers import Dense, Dropout, Activation\n",
    "from keras.layers import Conv2D, MaxPooling2D, BatchNormalization\n",
    "from keras.utils import to_categorical # this is for changing label to categorical\n",
    "import matplotlib.pyplot as plt\n",
    "import pandas as pd\n",
    "import numpy as np\n",
    "import keras as kr"
   ]
  },
  {
   "cell_type": "code",
   "execution_count": 8,
   "metadata": {},
   "outputs": [],
   "source": [
    "df = pd.read_csv('./train.csv')"
   ]
  },
  {
   "cell_type": "code",
   "execution_count": 11,
   "metadata": {},
   "outputs": [],
   "source": [
    "# Load data\n",
    "\n",
    "data = df.values.astype(np.float32)\n",
    "np.random.shuffle(data)\n",
    "X = data[:, 1:]\n",
    "Y = data[:, 0]\n",
    "\n",
    "Xtrain = X[:-1000]\n",
    "Ytrain = Y[:-1000]\n",
    "Xtest  = X[-1000:]\n",
    "Ytest  = Y[-1000:]"
   ]
  },
  {
   "cell_type": "code",
   "execution_count": 12,
   "metadata": {},
   "outputs": [
    {
     "data": {
      "image/png": "[encoded data removed]",
      "text/plain": [
       "<Figure size 432x288 with 1 Axes>"
      ]
     },
     "metadata": {
      "needs_background": "light"
     },
     "output_type": "display_data"
    }
   ],
   "source": [
    "s = np.reshape(Xtrain[0], (28, 28))\n",
    "plt.imshow(s)\n",
    "plt.show()"
   ]
  },
  {
   "cell_type": "code",
   "execution_count": 13,
   "metadata": {},
   "outputs": [],
   "source": [
    "# normalizie the data\n",
    "\n",
    "mu = Xtrain.mean(axis=0)\n",
    "std = Xtrain.std(axis=0)\n",
    "\n",
    "np.place(std, std == 0, 1)\n",
    "\n",
    "Xtrain = (Xtrain - mu) / std\n",
    "Xtest = (Xtest - mu) / std"
   ]
  },
  {
   "cell_type": "code",
   "execution_count": 17,
   "metadata": {},
   "outputs": [],
   "source": [
    "Ytrain_ind = to_categorical(Ytrain, num_classes=10)\n",
    "Ytest_ind = to_categorical(Ytest, num_classes=10)"
   ]
  },
  {
   "cell_type": "code",
   "execution_count": 20,
   "metadata": {},
   "outputs": [],
   "source": [
    "# data is ready\n",
    "\n",
    "Xtrain = Xtrain.astype(np.float32)\n",
    "Xtest = Xtest.astype(np.float32)\n",
    "Ytrain = Ytrain.astype(np.float32)\n",
    "Ytest = Ytest.astype(np.float32)\n",
    "Ytrain_ind = Ytrain_ind.astype(np.float32)\n",
    "Ytest_ind = Ytest_ind.astype(np.float32)"
   ]
  },
  {
   "cell_type": "markdown",
   "metadata": {},
   "source": [
    "Neural Network"
   ]
  },
  {
   "cell_type": "code",
   "execution_count": 107,
   "metadata": {},
   "outputs": [],
   "source": [
    "N, D = Xtrain.shape\n",
    "M1 = 500\n",
    "M2 = 300\n",
    "K = 10"
   ]
  },
  {
   "cell_type": "code",
   "execution_count": 108,
   "metadata": {},
   "outputs": [],
   "source": [
    "model = Sequential()"
   ]
  },
  {
   "cell_type": "code",
   "execution_count": 109,
   "metadata": {},
   "outputs": [],
   "source": [
    "#ANN [784] -> [300] -> [100] -> [10]\n",
    "\n",
    "\n",
    "#model.add(Dense(units = M1, input_dim = D, kernel_regularizer=kr.regularizers.l2(0.01), activity_regularizer=kr.regularizers.l1(0.01)))\n",
    "#keras.regularizers.l1(0.)\n",
    "#keras.regularizers.l2(0.)\n",
    "#keras.regularizers.l1_l2(l1=0.01, l2=0.01)\n",
    "\n",
    "model.add(Dense(units = M1, input_dim = D))\n",
    "model.add(BatchNormalization()) #Batch Normalization.  You can just add one line!!\n",
    "model.add(Activation('relu'))\n",
    "#model.add(Dropout(0.2)) #rate: float between 0 and 1. Fraction of the input units to drop.\n",
    "model.add(Dense(units = M2)) #no input_dim required\n",
    "model.add(BatchNormalization())\n",
    "model.add(Activation('relu'))\n",
    "#model.add(Dropout(0.5))\n",
    "model.add(Dense(units = K))\n",
    "model.add(Activation('softmax'))"
   ]
  },
  {
   "cell_type": "code",
   "execution_count": 110,
   "metadata": {},
   "outputs": [],
   "source": [
    "#List of losses: https://keras.io/losses/\n",
    "#List of optimizer: https://keras.io/optimizers/\n",
    "#List of metrics: https://keras.io/metrics/\n",
    "\n",
    "#model.compile(loss = 'categorical_crossentropy', optimizer = 'adam', metrics = ['accuracy'])\n",
    "\n",
    "#----------------------------------------------------------------\n",
    "#optimizer = kr.optimizers.SGD(lr=0.01, momentum=0.0, decay=0.0, nesterov=False)  SGD equips with momentum. \n",
    "#optimizer = kr.optimizers.RMSprop(lr=0.001, rho=0.9, epsilon=None, decay=0.0)\n",
    "#optimizer = kr.optimizers.Adagrad(lr=0.01, epsilon=None, decay=0.0)\n",
    "#optimizer = kr.optimizers.Adadelta(lr=1.0, rho=0.95, epsilon=None, decay=0.0)\n",
    "#optimizer = kr.optimizers.Adam(lr=0.001, beta_1=0.9, beta_2=0.999, epsilon=None, decay=0.0, amsgrad=False)\n",
    "#optimizer = kr.optimizers.Adamax(lr=0.002, beta_1=0.9, beta_2=0.999, epsilon=None, decay=0.0)\n",
    "#optimizer = kr.optimizers.Nadam(lr=0.002, beta_1=0.9, beta_2=0.999, epsilon=None, schedule_decay=0.004)\n",
    "#-----------------------------------------------------------------\n",
    "\n",
    "optimizer = kr.optimizers.Adam(lr=0.001, beta_1=0.9, beta_2=0.999 )\n",
    "\n",
    "model.compile(loss = 'categorical_crossentropy', \n",
    "            optimizer = optimizer, metrics= ['accuracy'])"
   ]
  },
  {
   "cell_type": "code",
   "execution_count": 111,
   "metadata": {},
   "outputs": [
    {
     "name": "stdout",
     "output_type": "stream",
     "text": [
      "Train on 36900 samples, validate on 4100 samples\n",
      "Epoch 1/15\n",
      "36900/36900 [==============================] - 4s 108us/step - loss: 0.3487 - acc: 0.8976 - val_loss: 0.2415 - val_acc: 0.9288\n",
      "Epoch 2/15\n",
      "36900/36900 [==============================] - 4s 103us/step - loss: 0.1149 - acc: 0.9676 - val_loss: 0.1617 - val_acc: 0.9551\n",
      "Epoch 3/15\n",
      "36900/36900 [==============================] - 4s 106us/step - loss: 0.0704 - acc: 0.9812 - val_loss: 0.1425 - val_acc: 0.9585\n",
      "Epoch 4/15\n",
      "36900/36900 [==============================] - 4s 103us/step - loss: 0.0436 - acc: 0.9898 - val_loss: 0.1344 - val_acc: 0.9622\n",
      "Epoch 5/15\n",
      "36900/36900 [==============================] - 4s 108us/step - loss: 0.0280 - acc: 0.9948 - val_loss: 0.1235 - val_acc: 0.9668\n",
      "Epoch 6/15\n",
      "36900/36900 [==============================] - 4s 103us/step - loss: 0.0168 - acc: 0.9974 - val_loss: 0.1124 - val_acc: 0.9702 1s - loss\n",
      "Epoch 7/15\n",
      "36900/36900 [==============================] - 4s 106us/step - loss: 0.0130 - acc: 0.9983 - val_loss: 0.1188 - val_acc: 0.9698\n",
      "Epoch 8/15\n",
      "36900/36900 [==============================] - 4s 103us/step - loss: 0.0100 - acc: 0.9987 - val_loss: 0.1116 - val_acc: 0.9720\n",
      "Epoch 9/15\n",
      "36900/36900 [==============================] - 4s 109us/step - loss: 0.0064 - acc: 0.9994 - val_loss: 0.1104 - val_acc: 0.9744\n",
      "Epoch 10/15\n",
      "36900/36900 [==============================] - 4s 104us/step - loss: 0.0048 - acc: 0.9997 - val_loss: 0.1085 - val_acc: 0.9744\n",
      "Epoch 11/15\n",
      "36900/36900 [==============================] - 4s 105us/step - loss: 0.0035 - acc: 0.9999 - val_loss: 0.1086 - val_acc: 0.9761\n",
      "Epoch 12/15\n",
      "36900/36900 [==============================] - 4s 107us/step - loss: 0.0020 - acc: 1.0000 - val_loss: 0.1094 - val_acc: 0.9761\n",
      "Epoch 13/15\n",
      "36900/36900 [==============================] - 4s 107us/step - loss: 0.0016 - acc: 1.0000 - val_loss: 0.1094 - val_acc: 0.9763\n",
      "Epoch 14/15\n",
      "36900/36900 [==============================] - 4s 105us/step - loss: 0.0014 - acc: 1.0000 - val_loss: 0.1117 - val_acc: 0.9763\n",
      "Epoch 15/15\n",
      "36900/36900 [==============================] - 4s 104us/step - loss: 0.0012 - acc: 1.0000 - val_loss: 0.1121 - val_acc: 0.9771\n",
      "['acc', 'loss', 'val_acc', 'val_loss']\n"
     ]
    }
   ],
   "source": [
    "r = model.fit(Xtrain, Ytrain_ind, batch_size = 500, validation_split = 0.1, epochs = 15)\n",
    "#print(r)\n",
    "print(r.history.keys())\n",
    "#dict_keys(['val_loss', 'acc', 'loss', 'val_acc'])"
   ]
  },
  {
   "cell_type": "code",
   "execution_count": 112,
   "metadata": {},
   "outputs": [
    {
     "name": "stdout",
     "output_type": "stream",
     "text": [
      "_________________________________________________________________\n",
      "Layer (type)                 Output Shape              Param #   \n",
      "=================================================================\n",
      "dense_20 (Dense)             (None, 500)               392500    \n",
      "_________________________________________________________________\n",
      "batch_normalization_10 (Batc (None, 500)               2000      \n",
      "_________________________________________________________________\n",
      "activation_19 (Activation)   (None, 500)               0         \n",
      "_________________________________________________________________\n",
      "dense_21 (Dense)             (None, 300)               150300    \n",
      "_________________________________________________________________\n",
      "batch_normalization_11 (Batc (None, 300)               1200      \n",
      "_________________________________________________________________\n",
      "activation_20 (Activation)   (None, 300)               0         \n",
      "_________________________________________________________________\n",
      "dense_22 (Dense)             (None, 10)                3010      \n",
      "_________________________________________________________________\n",
      "activation_21 (Activation)   (None, 10)                0         \n",
      "=================================================================\n",
      "Total params: 549,010\n",
      "Trainable params: 547,410\n",
      "Non-trainable params: 1,600\n",
      "_________________________________________________________________\n"
     ]
    }
   ],
   "source": [
    "model.summary()"
   ]
  },
  {
   "cell_type": "code",
   "execution_count": 113,
   "metadata": {},
   "outputs": [
    {
     "data": {
      "image/png": "[encoded data removed]",
      "text/plain": [
       "<Figure size 432x288 with 1 Axes>"
      ]
     },
     "metadata": {
      "needs_background": "light"
     },
     "output_type": "display_data"
    }
   ],
   "source": [
    "plt.plot(r.history['loss'], label = 'loss')\n",
    "plt.plot(r.history['val_loss'], label= 'val_loss')\n",
    "plt.legend()\n",
    "plt.show()"
   ]
  },
  {
   "cell_type": "code",
   "execution_count": 114,
   "metadata": {},
   "outputs": [
    {
     "data": {
      "image/png": "[encoded data removed]",
      "text/plain": [
       "<Figure size 432x288 with 1 Axes>"
      ]
     },
     "metadata": {
      "needs_background": "light"
     },
     "output_type": "display_data"
    }
   ],
   "source": [
    "plt.plot(r.history['acc'], label = 'acc')\n",
    "plt.plot(r.history['val_acc'], label= 'val_acc')\n",
    "plt.legend()\n",
    "plt.show()"
   ]
  },
  {
   "cell_type": "code",
   "execution_count": 115,
   "metadata": {},
   "outputs": [
    {
     "name": "stdout",
     "output_type": "stream",
     "text": [
      "1000/1000 [==============================] - 0s 63us/step\n"
     ]
    },
    {
     "data": {
      "text/plain": [
       "[0.1207769948411733, 0.97]"
      ]
     },
     "execution_count": 115,
     "metadata": {},
     "output_type": "execute_result"
    }
   ],
   "source": [
    "model.evaluate(Xtest, Ytest_ind)"
   ]
  },
  {
   "cell_type": "code",
   "execution_count": 116,
   "metadata": {},
   "outputs": [
    {
     "name": "stdout",
     "output_type": "stream",
     "text": [
      "0.97\n"
     ]
    }
   ],
   "source": [
    "pred = np.argmax(model.predict(Xtest), axis = 1)\n",
    "c = 0\n",
    "\n",
    "for i in range(len(Ytest_ind)):\n",
    "    if Ytest[i] == pred[i]:\n",
    "        c += 1\n",
    "    \n",
    "print(c/len(Ytest))"
   ]
  },
  {
   "cell_type": "code",
   "execution_count": null,
   "metadata": {},
   "outputs": [],
   "source": []
  }
 ],
 "metadata": {
  "kernelspec": {
   "display_name": "Python 2",
   "language": "python",
   "name": "python2"
  },
  "language_info": {
   "codemirror_mode": {
    "name": "ipython",
    "version": 2
   },
   "file_extension": ".py",
   "mimetype": "text/x-python",
   "name": "python",
   "nbconvert_exporter": "python",
   "pygments_lexer": "ipython2",
   "version": "2.7.15"
  }
 },
 "nbformat": 4,
 "nbformat_minor": 2
}

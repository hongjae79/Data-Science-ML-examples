{
 "cells": [
  {
   "cell_type": "code",
   "execution_count": 1,
   "metadata": {},
   "outputs": [],
   "source": [
    "import numpy as np\n",
    "import tensorflow as tf\n",
    "\n",
    "import matplotlib.pyplot as plt\n",
    "import os\n",
    "import pandas as pd"
   ]
  },
  {
   "cell_type": "code",
   "execution_count": 2,
   "metadata": {},
   "outputs": [],
   "source": [
    "df = pd.read_csv('./train.csv')"
   ]
  },
  {
   "cell_type": "code",
   "execution_count": 3,
   "metadata": {},
   "outputs": [],
   "source": [
    "# Load data\n",
    "\n",
    "data = df.values.astype(np.float32)\n",
    "np.random.shuffle(data)\n",
    "X = data[:, 1:]\n",
    "Y = data[:, 0]\n",
    "\n",
    "Xtrain = X[:-1000]\n",
    "Ytrain = Y[:-1000]\n",
    "Xtest  = X[-1000:]\n",
    "Ytest  = Y[-1000:]"
   ]
  },
  {
   "cell_type": "code",
   "execution_count": 4,
   "metadata": {},
   "outputs": [
    {
     "data": {
      "image/png": "[encoded data removed]",
      "text/plain": [
       "<Figure size 432x288 with 1 Axes>"
      ]
     },
     "metadata": {
      "needs_background": "light"
     },
     "output_type": "display_data"
    }
   ],
   "source": [
    "s = np.reshape(Xtrain[0], (28, 28))\n",
    "plt.imshow(s)\n",
    "plt.show()"
   ]
  },
  {
   "cell_type": "code",
   "execution_count": 5,
   "metadata": {},
   "outputs": [],
   "source": [
    "# normalizie the data\n",
    "\n",
    "mu = Xtrain.mean(axis=0)\n",
    "std = Xtrain.std(axis=0)\n",
    "\n",
    "np.place(std, std == 0, 1)\n",
    "\n",
    "Xtrain = (Xtrain - mu) / std\n",
    "Xtest = (Xtest - mu) / std"
   ]
  },
  {
   "cell_type": "code",
   "execution_count": 6,
   "metadata": {},
   "outputs": [],
   "source": [
    "# change y to hot encoder\n",
    "\n",
    "def y2indicator(y):\n",
    "\n",
    "    y = y.astype(np.int32)\n",
    "    ind = np.zeros((len(y), 10))\n",
    "\n",
    "    for i in range(len(y)):\n",
    "        ind[i, y[i]] = 1\n",
    "        \n",
    "    return ind "
   ]
  },
  {
   "cell_type": "code",
   "execution_count": 7,
   "metadata": {},
   "outputs": [],
   "source": [
    "Ytrain_ind = y2indicator(Ytrain)\n",
    "Ytest_ind = y2indicator(Ytest)"
   ]
  },
  {
   "cell_type": "code",
   "execution_count": 8,
   "metadata": {},
   "outputs": [],
   "source": [
    "# data is ready\n",
    "\n",
    "Xtrain = Xtrain.astype(np.float32)\n",
    "Xtest = Xtest.astype(np.float32)\n",
    "Ytrain = Ytrain.astype(np.float32)\n",
    "Ytest = Ytest.astype(np.float32)\n",
    "Ytrain_ind = Ytrain_ind.astype(np.float32)\n",
    "Ytest_ind = Ytest_ind.astype(np.float32)"
   ]
  },
  {
   "cell_type": "code",
   "execution_count": 9,
   "metadata": {},
   "outputs": [],
   "source": [
    "max_iter = 15\n",
    "print_period = 100\n",
    "\n",
    "lr = 0.00004\n",
    "reg = 0.01\n",
    "\n",
    "N, D = Xtrain.shape\n",
    "batch_sz = 500\n",
    "n_batches = N // batch_sz\n",
    "\n",
    "# add an extra layer just for fun\n",
    "M1 = 300\n",
    "M2 = 100\n",
    "K = 10"
   ]
  },
  {
   "cell_type": "code",
   "execution_count": 10,
   "metadata": {},
   "outputs": [],
   "source": [
    "W1_init = np.random.randn(D, M1) / 28\n",
    "b1_init = np.zeros(M1)\n",
    "W2_init = np.random.randn(M1, M2) / np.sqrt(M1)\n",
    "b2_init = np.zeros(M2)\n",
    "W3_init = np.random.randn(M2, K) / np.sqrt(M2)\n",
    "b3_init = np.zeros(K)"
   ]
  },
  {
   "cell_type": "code",
   "execution_count": 11,
   "metadata": {},
   "outputs": [],
   "source": [
    "# define variables and expressions\n",
    "X = tf.placeholder(tf.float32, shape=(None, D), name='X')\n",
    "T = tf.placeholder(tf.float32, shape=(None, K), name='T')\n",
    "W1 = tf.Variable(W1_init.astype(np.float32))\n",
    "b1 = tf.Variable(b1_init.astype(np.float32))\n",
    "W2 = tf.Variable(W2_init.astype(np.float32))\n",
    "b2 = tf.Variable(b2_init.astype(np.float32))\n",
    "W3 = tf.Variable(W3_init.astype(np.float32))\n",
    "b3 = tf.Variable(b3_init.astype(np.float32))"
   ]
  },
  {
   "cell_type": "code",
   "execution_count": 13,
   "metadata": {},
   "outputs": [],
   "source": [
    "gamma1_init = np.ones(M1)\n",
    "beta1_init = np.zeros(M1)\n",
    "gamma2_init = np.ones(M2)\n",
    "beta2_init = np.zeros(M2)\n",
    "gamma3_init = np.ones(K)\n",
    "beta3_init = np.zeros(K)\n",
    "\n",
    "gamma1 = tf.Variable(gamma1_init.astype(np.float32))\n",
    "beta1 = tf.Variable(beta1_init.astype(np.float32))\n",
    "gamma2 = tf.Variable(gamma2_init.astype(np.float32))\n",
    "beta2 = tf.Variable(beta2_init.astype(np.float32))\n",
    "gamma3 = tf.Variable(gamma3_init.astype(np.float32))\n",
    "beta3 = tf.Variable(beta3_init.astype(np.float32))"
   ]
  },
  {
   "cell_type": "code",
   "execution_count": 14,
   "metadata": {},
   "outputs": [],
   "source": [
    "running_mean1_init = np.zeros(M1)\n",
    "running_var1_init = np.zeros(M1)\n",
    "running_mean2_init = np.zeros(M2)\n",
    "running_var2_init = np.zeros(M2)\n",
    "running_mean3_init = np.zeros(K)\n",
    "running_var3_init = np.zeros(K)\n",
    "        \n",
    "running_mean1 = tf.Variable(running_mean1_init.astype(np.float32))\n",
    "running_var1 = tf.Variable(running_var1_init.astype(np.float32))\n",
    "running_mean2 = tf.Variable(running_mean2_init.astype(np.float32))\n",
    "running_var2 = tf.Variable(running_var2_init.astype(np.float32))\n",
    "running_mean3 = tf.Variable(running_mean3_init.astype(np.float32))\n",
    "running_var3 = tf.Variable(running_var3_init.astype(np.float32))"
   ]
  },
  {
   "cell_type": "code",
   "execution_count": 15,
   "metadata": {},
   "outputs": [],
   "source": [
    "#define the training model \n",
    "decay = 0.9\n",
    "\n",
    "A1 = tf.matmul(X,W1) \n",
    "batch_mean1, batch_var1 = tf.nn.moments(A1, [0])\n",
    "update_running_mean1 = tf.assign(running_mean1 , decay * running_mean1 + (1 - decay) * batch_mean1)\n",
    "update_running_var1 = tf.assign(running_var1 , decay * running_var1 + (1 - decay) * batch_var1)\n",
    "\n",
    "with tf.control_dependencies([update_running_mean1, update_running_var1]):\n",
    "    A1_prime = tf.nn.batch_normalization(A1, batch_mean1, batch_var1, beta1, gamma1, 1e-4)\n",
    "Z1 = tf.nn.relu(A1_prime)    \n",
    "\n",
    "\n",
    "A2 = tf.matmul(Z1,W2) \n",
    "batch_mean2, batch_var2 = tf.nn.moments(A2, [0])\n",
    "update_running_mean2 = tf.assign(running_mean2 , decay * running_mean2 + (1 - decay) * batch_mean2)\n",
    "update_running_var2 = tf.assign(running_var2 , decay * running_var2 + (1 - decay) * batch_var2)\n",
    "\n",
    "with tf.control_dependencies([update_running_mean2, update_running_var2]):\n",
    "    A2_prime = tf.nn.batch_normalization(A2, batch_mean2, batch_var2, beta2, gamma2, 1e-4)\n",
    "Z2 = tf.nn.relu(A2_prime)\n",
    "    \n",
    "A3 = tf.matmul(Z2,W3) \n",
    "batch_mean3, batch_var3 = tf.nn.moments(A3, [0])\n",
    "update_running_mean3 = tf.assign(running_mean3 , decay * running_mean3 + (1 - decay) * batch_mean3)\n",
    "update_running_var3 = tf.assign(running_var3 , decay * running_var3 + (1 - decay) * batch_var3)\n",
    "\n",
    "with tf.control_dependencies([update_running_mean3, update_running_var3]):\n",
    "    A3_prime = tf.nn.batch_normalization(A3, batch_mean3, batch_var3, beta3, gamma3, 1e-4)\n",
    "Yish = A3_prime"
   ]
  },
  {
   "cell_type": "code",
   "execution_count": 16,
   "metadata": {},
   "outputs": [],
   "source": [
    "#define the test model\n",
    "\n",
    "A1_test = tf.matmul(X,W1) \n",
    "A1_test_prime = tf.nn.batch_normalization(A1_test, running_mean1, running_var1, beta1, gamma1, 1e-4)\n",
    "Z1_test = tf.nn.relu(A1_test_prime)\n",
    "\n",
    "A2_test = tf.matmul(Z1_test,W2) \n",
    "A2_test_prime = tf.nn.batch_normalization(A2_test, running_mean2, running_var2, beta2, gamma2, 1e-4)\n",
    "Z2_test = tf.nn.relu(A2_test_prime)\n",
    "\n",
    "A3_test = tf.matmul(Z2_test,W3) \n",
    "A3_test_prime = tf.nn.batch_normalization(A3_test, running_mean3, running_var3, beta3, gamma3, 1e-4)\n",
    "Yish_test = A3_test_prime"
   ]
  },
  {
   "cell_type": "code",
   "execution_count": 17,
   "metadata": {},
   "outputs": [],
   "source": [
    "# softmax_cross_entropy_with_logits take in the \"logits\"\n",
    "# if you wanted to know the actual output of the neural net,\n",
    "# you could pass \"Yish\" into tf.nn.softmax(logits)\n",
    "\n",
    "cost = tf.reduce_sum(tf.nn.softmax_cross_entropy_with_logits_v2(logits=Yish, labels=T)) \n",
    "\n",
    "#regularzation L1\n",
    "#cost = tf.reduce_sum(tf.nn.softmax_cross_entropy_with_logits_v2(logits=Yish, labels=T)) +  reg*(tf.reduce_sum(W1*W1) + tf.reduce_sum(b1*b1) + tf.reduce_sum(W2*W2) + tf.reduce_sum(b2*b2) + tf.reduce_sum(W3*W3) + tf.reduce_sum(b3*b3))\n",
    "\n",
    "#regularzation L2\n",
    "#cost = tf.reduce_sum(tf.nn.softmax_cross_entropy_with_logits_v2(logits=Yish, labels=T)) + reg*(tf.reduce_sum(tf.abs(W1)) + tf.reduce_sum(tf.abs(b1)) + tf.reduce_sum(tf.abs(W2)) + tf.reduce_sum(tf.abs(b2)) + + tf.reduce_sum(tf.abs(W3)) + tf.reduce_sum(tf.abs(b3)))"
   ]
  },
  {
   "cell_type": "code",
   "execution_count": 18,
   "metadata": {},
   "outputs": [],
   "source": [
    "# we choose the optimizer but don't implement the algorithm ourselves\n",
    "\n",
    "#classical gradient descent\n",
    "#train_op = tf.train.GradientDescentOptimizer(lr).minimize(cost)\n",
    "\n",
    "# momentum optimizer.  set use_nesterov=True for nesterov momentum\n",
    "#mu = 0.9\n",
    "#train_op = tf.train.MomentumOptimizer(lr, mu, use_nesterov=True ).minimize(cost)\n",
    "\n",
    "# let's go with RMSprop, since we just learned about it.  momentum here is mu. So this is really RMSprop with momentum.  \n",
    "# if you want no momentum, then set momentum = 0, which is default\n",
    "#train_op = tf.train.RMSPropOptimizer(lr, decay=0.99, momentum=0.9).minimize(cost)\n",
    "\n",
    "#Adagrad\n",
    "#train_op = tf.train.AdagradOptimizer(lr).minimize(cost)\n",
    "\n",
    "#Adam.  default learning rate is 0.001\n",
    "train_op = tf.train.AdamOptimizer().minimize(cost)"
   ]
  },
  {
   "cell_type": "code",
   "execution_count": 19,
   "metadata": {},
   "outputs": [],
   "source": [
    "# we'll use this to calculate the error rate\n",
    "predict_op = tf.argmax(Yish_test, 1)"
   ]
  },
  {
   "cell_type": "code",
   "execution_count": 20,
   "metadata": {},
   "outputs": [],
   "source": [
    "def error_rate(p, t):\n",
    "    return np.mean(p != t)"
   ]
  },
  {
   "cell_type": "code",
   "execution_count": 21,
   "metadata": {},
   "outputs": [
    {
     "name": "stdout",
     "output_type": "stream",
     "text": [
      "Cost / err at iteration i=0, j=0: 2110.479 / 0.735\n",
      "Cost / err at iteration i=1, j=0: 536.973 / 0.050\n",
      "Cost / err at iteration i=2, j=0: 448.624 / 0.035\n",
      "Cost / err at iteration i=3, j=0: 426.018 / 0.032\n",
      "Cost / err at iteration i=4, j=0: 388.529 / 0.029\n",
      "Cost / err at iteration i=5, j=0: 373.531 / 0.026\n",
      "Cost / err at iteration i=6, j=0: 361.703 / 0.024\n",
      "Cost / err at iteration i=7, j=0: 352.892 / 0.022\n",
      "Cost / err at iteration i=8, j=0: 338.320 / 0.022\n",
      "Cost / err at iteration i=9, j=0: 344.415 / 0.024\n",
      "Cost / err at iteration i=10, j=0: 333.441 / 0.024\n",
      "Cost / err at iteration i=11, j=0: 371.744 / 0.021\n",
      "Cost / err at iteration i=12, j=0: 324.214 / 0.020\n",
      "Cost / err at iteration i=13, j=0: 313.566 / 0.021\n",
      "Cost / err at iteration i=14, j=0: 313.042 / 0.020\n"
     ]
    },
    {
     "data": {
      "image/png": "[encoded data removed]",
      "text/plain": [
       "<Figure size 432x288 with 1 Axes>"
      ]
     },
     "metadata": {
      "needs_background": "light"
     },
     "output_type": "display_data"
    }
   ],
   "source": [
    "costs = []\n",
    "init = tf.global_variables_initializer()\n",
    "with tf.Session() as session:\n",
    "    session.run(init)\n",
    "\n",
    "    for i in range(max_iter):\n",
    "        for j in range(n_batches):\n",
    "            Xbatch = Xtrain[j*batch_sz:(j*batch_sz + batch_sz),]\n",
    "            Ybatch = Ytrain_ind[j*batch_sz:(j*batch_sz + batch_sz),]\n",
    "\n",
    "            session.run(train_op, feed_dict={X: Xbatch, T: Ybatch})\n",
    "            if j % print_period == 0:\n",
    "                test_cost = session.run(cost, feed_dict={X: Xtest, T: Ytest_ind})\n",
    "                prediction = session.run(predict_op, feed_dict={X: Xtest})\n",
    "                err = error_rate(prediction, Ytest)\n",
    "                print(\"Cost / err at iteration i=%d, j=%d: %.3f / %.3f\" % (i, j, test_cost, err))\n",
    "                costs.append(test_cost)\n",
    "\n",
    "plt.plot(costs)\n",
    "plt.show()"
   ]
  },
  {
   "cell_type": "code",
   "execution_count": null,
   "metadata": {},
   "outputs": [],
   "source": []
  }
 ],
 "metadata": {
  "kernelspec": {
   "display_name": "Python 2",
   "language": "python",
   "name": "python2"
  },
  "language_info": {
   "codemirror_mode": {
    "name": "ipython",
    "version": 2
   },
   "file_extension": ".py",
   "mimetype": "text/x-python",
   "name": "python",
   "nbconvert_exporter": "python",
   "pygments_lexer": "ipython2",
   "version": "2.7.15"
  }
 },
 "nbformat": 4,
 "nbformat_minor": 2
}

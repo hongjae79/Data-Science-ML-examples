{
 "cells": [
  {
   "cell_type": "code",
   "execution_count": 2,
   "metadata": {},
   "outputs": [],
   "source": [
    "import numpy as np\n",
    "import theano\n",
    "import theano.tensor as T\n",
    "import pandas as pd\n",
    "from theano.tensor.nnet.bn import batch_normalization_train, batch_normalization_test\n",
    "import matplotlib.pyplot as plt"
   ]
  },
  {
   "cell_type": "code",
   "execution_count": 3,
   "metadata": {},
   "outputs": [],
   "source": [
    "df = pd.read_csv('./train.csv')"
   ]
  },
  {
   "cell_type": "code",
   "execution_count": 4,
   "metadata": {},
   "outputs": [],
   "source": [
    "# Load data\n",
    "\n",
    "data = df.values.astype(np.float32)\n",
    "np.random.shuffle(data)\n",
    "X = data[:, 1:]\n",
    "Y = data[:, 0]\n",
    "\n",
    "Xtrain = X[:-1000]\n",
    "Ytrain = Y[:-1000]\n",
    "Xtest  = X[-1000:]\n",
    "Ytest  = Y[-1000:]"
   ]
  },
  {
   "cell_type": "code",
   "execution_count": 5,
   "metadata": {},
   "outputs": [
    {
     "data": {
      "image/png": "[encoded data removed]",
      "text/plain": [
       "<Figure size 432x288 with 1 Axes>"
      ]
     },
     "metadata": {
      "needs_background": "light"
     },
     "output_type": "display_data"
    }
   ],
   "source": [
    "s = np.reshape(Xtrain[0], (28, 28))\n",
    "plt.imshow(s)\n",
    "plt.show()"
   ]
  },
  {
   "cell_type": "code",
   "execution_count": 6,
   "metadata": {},
   "outputs": [],
   "source": [
    "# normalizie the data\n",
    "\n",
    "mu = Xtrain.mean(axis=0)\n",
    "std = Xtrain.std(axis=0)\n",
    "\n",
    "np.place(std, std == 0, 1)\n",
    "\n",
    "Xtrain = (Xtrain - mu) / std\n",
    "Xtest = (Xtest - mu) / std"
   ]
  },
  {
   "cell_type": "code",
   "execution_count": 7,
   "metadata": {},
   "outputs": [],
   "source": [
    "# change y to hot encoder\n",
    "\n",
    "def y2indicator(y):\n",
    "\n",
    "    y = y.astype(np.int32)\n",
    "    ind = np.zeros((len(y), 10))\n",
    "\n",
    "    for i in range(len(y)):\n",
    "        ind[i, y[i]] = 1\n",
    "        \n",
    "    return ind"
   ]
  },
  {
   "cell_type": "code",
   "execution_count": 8,
   "metadata": {},
   "outputs": [],
   "source": [
    "def error_rate(p, t):\n",
    "    return np.mean(p != t)"
   ]
  },
  {
   "cell_type": "code",
   "execution_count": 9,
   "metadata": {},
   "outputs": [],
   "source": [
    "def relu(a):\n",
    "    return a * (a > 0)"
   ]
  },
  {
   "cell_type": "code",
   "execution_count": 10,
   "metadata": {},
   "outputs": [],
   "source": [
    "Ytrain_ind = y2indicator(Ytrain)\n",
    "Ytest_ind = y2indicator(Ytest)"
   ]
  },
  {
   "cell_type": "code",
   "execution_count": 11,
   "metadata": {},
   "outputs": [],
   "source": [
    "# data is ready\n",
    "\n",
    "Xtrain = Xtrain.astype(np.float32)\n",
    "Xtest = Xtest.astype(np.float32)\n",
    "Ytrain = Ytrain.astype(np.float32)\n",
    "Ytest = Ytest.astype(np.float32)\n",
    "Ytrain_ind = Ytrain_ind.astype(np.float32)\n",
    "Ytest_ind = Ytest_ind.astype(np.float32)"
   ]
  },
  {
   "cell_type": "code",
   "execution_count": 12,
   "metadata": {},
   "outputs": [],
   "source": [
    "# initial values\n",
    "\n",
    "max_iter = 15\n",
    "print_period = 100\n",
    "\n",
    "lr = 0.0004\n",
    "reg = 0.01 #smooth parameter\n",
    "\n",
    "N, D = Xtrain.shape\n",
    "batch_sz = 500\n",
    "n_batches = N // batch_sz\n",
    "\n",
    "M = 300\n",
    "K = 10"
   ]
  },
  {
   "cell_type": "code",
   "execution_count": 13,
   "metadata": {},
   "outputs": [],
   "source": [
    "W1_init = np.random.randn(D, M) / 28\n",
    "b1_init = np.zeros(M)\n",
    "W2_init = np.random.randn(M, K) / np.sqrt(M)\n",
    "b2_init = np.zeros(K)"
   ]
  },
  {
   "cell_type": "code",
   "execution_count": 14,
   "metadata": {},
   "outputs": [],
   "source": [
    "# step 2: define theano variables and expressions\n",
    "thX = T.matrix('X')\n",
    "thT = T.matrix('T')\n",
    "W1 = theano.shared(W1_init, 'W1')\n",
    "b1 = theano.shared(b1_init, 'b1')\n",
    "W2 = theano.shared(W2_init, 'W2')\n",
    "b2 = theano.shared(b2_init, 'b2')"
   ]
  },
  {
   "cell_type": "code",
   "execution_count": 15,
   "metadata": {},
   "outputs": [],
   "source": [
    "gamma1_init = np.ones(M)\n",
    "beta1_init = np.zeros(M)\n",
    "gamma2_init = np.ones(K)\n",
    "beta2_init = np.zeros(K)\n",
    "\n",
    "\n",
    "gamma1 = theano.shared(gamma1_init, 'gamma1')\n",
    "beta1 = theano.shared(beta1_init, 'beta1')\n",
    "gamma2 = theano.shared(gamma2_init, 'gamma2')\n",
    "beta2 = theano.shared(beta2_init, 'beta2')"
   ]
  },
  {
   "cell_type": "code",
   "execution_count": 16,
   "metadata": {},
   "outputs": [],
   "source": [
    "running_mean1_init = np.zeros(M)\n",
    "running_var1_init = np.zeros(M)\n",
    "running_mean2_init = np.zeros(K)\n",
    "running_var2_init = np.zeros(K)\n",
    "\n",
    "running_mean1 = theano.shared(running_mean1_init)\n",
    "running_var1 = theano.shared(running_var1_init)\n",
    "running_mean2 = theano.shared(running_mean2_init)\n",
    "running_var2 = theano.shared(running_var2_init)"
   ]
  },
  {
   "cell_type": "code",
   "execution_count": 17,
   "metadata": {},
   "outputs": [],
   "source": [
    "#define training model\n",
    "thA1 = thX.dot(W1) \n",
    "thA1_prime, batch_mean1, batch_invstd1, new_running_mean1, new_running_var1 = batch_normalization_train(\n",
    "        thA1, gamma1, beta1, running_mean=running_mean1, running_var=running_var1)\n",
    "thZ1 = relu(thA1_prime)\n",
    "\n",
    "thA2 = thZ1.dot(W2)\n",
    "thA2_prime, batch_mean2, batch_invstd2, new_running_mean2, new_running_var2 = batch_normalization_train(\n",
    "        thA2, gamma2, beta2, running_mean=running_mean2, running_var=running_var2)\n",
    "thY = T.nnet.softmax(thA2_prime)\n",
    "\n",
    "# theano.tensor.nnet.bn.batch_normalization_train(inputs, gamma, beta, axes='per-activation', epsilon=0.0001,\n",
    "#                                                  running_average_factor=0.1, running_mean=None, running_var=None)\n",
    "\n",
    "#running_average_factor is 1 - decay\n",
    "#batch_var = 1 / (batch_invstd * batch_invstd)\n",
    "# new_running_mean = decay * running_mean + (1-decay) * batch_mean\n",
    "# new_running_var = decay * running_var + (1-decay) * batch_var\n",
    "\n",
    "#out (tensor) – Batch-normalized inputs.\n",
    "#mean (tensor) – Means of inputs across the normalization axes.\n",
    "#invstd (tensor) – Inverse standard deviations of inputs across the normalization axes.\n",
    "#new_running_mean (tensor) – New value of the running mean (only if both running_mean and running_var were given).\n",
    "#new_running_var (tensor) – New value of the running variance (only if both running_var and running_mean were given)."
   ]
  },
  {
   "cell_type": "code",
   "execution_count": 18,
   "metadata": {},
   "outputs": [],
   "source": [
    "#define test model\n",
    "thA1_test = thX.dot(W1) \n",
    "thA1_test_prime = batch_normalization_test(thA1_test, gamma1, beta1, running_mean1, running_var1)\n",
    "thZ1_test = relu(thA1_test_prime)\n",
    "\n",
    "thA2_test = thZ1_test.dot(W2)\n",
    "thA2_test_prime = batch_normalization_test(thA2_test, gamma2, beta2, running_mean2, running_var2)\n",
    "thY_test = T.nnet.softmax(thA2_test_prime)"
   ]
  },
  {
   "cell_type": "code",
   "execution_count": 20,
   "metadata": {},
   "outputs": [],
   "source": [
    "cost = -(thT * T.log(thY)).sum()\n",
    "prediction_test = T.argmax(thY_test, axis = 1)"
   ]
  },
  {
   "cell_type": "code",
   "execution_count": 21,
   "metadata": {},
   "outputs": [],
   "source": [
    "update_W1 = W1 - lr*T.grad(cost, W1)\n",
    "#update_b1 = b1 - lr*T.grad(cost, b1)\n",
    "update_W2 = W2 - lr*T.grad(cost, W2)\n",
    "#update_b2 = b2 - lr*T.grad(cost, b2)\n",
    "\n",
    "update_gamma1 = gamma1 - lr*T.grad(cost, gamma1)\n",
    "update_beta1 = beta1 - lr*T.grad(cost, beta1)\n",
    "update_gamma2 = gamma2 - lr*T.grad(cost, gamma2)\n",
    "update_beta2 = beta2 - lr*T.grad(cost, beta2)\n",
    "\n",
    "updates = [(W1, update_W1), (W2, update_W2)] + [(gamma1, update_gamma1), (beta1, update_beta1), (gamma2, update_gamma2), (beta2, update_beta2)]+ [(running_mean1, new_running_mean1), (running_mean2, new_running_mean2)]"
   ]
  },
  {
   "cell_type": "code",
   "execution_count": 22,
   "metadata": {},
   "outputs": [],
   "source": [
    "train = theano.function(inputs=[thX, thT], updates = updates)"
   ]
  },
  {
   "cell_type": "code",
   "execution_count": 26,
   "metadata": {},
   "outputs": [],
   "source": [
    "get_prediction = theano.function(inputs=[thX, thT], outputs=[cost, prediction_test])"
   ]
  },
  {
   "cell_type": "code",
   "execution_count": 27,
   "metadata": {},
   "outputs": [
    {
     "name": "stdout",
     "output_type": "stream",
     "text": [
      "Cost / err at iteration i=0, j=0, cost_value: 1542.009, error: 0.463\n",
      "Cost / err at iteration i=1, j=0, cost_value: 335.071, error: 0.095\n",
      "Cost / err at iteration i=2, j=0, cost_value: 228.037, error: 0.089\n",
      "Cost / err at iteration i=3, j=0, cost_value: 192.311, error: 0.089\n",
      "Cost / err at iteration i=4, j=0, cost_value: 170.688, error: 0.090\n",
      "Cost / err at iteration i=5, j=0, cost_value: 160.319, error: 0.102\n",
      "Cost / err at iteration i=6, j=0, cost_value: 167.721, error: 0.106\n",
      "Cost / err at iteration i=7, j=0, cost_value: 155.669, error: 0.109\n",
      "Cost / err at iteration i=8, j=0, cost_value: 164.248, error: 0.106\n",
      "Cost / err at iteration i=9, j=0, cost_value: 170.029, error: 0.115\n",
      "Cost / err at iteration i=10, j=0, cost_value: 134.619, error: 0.115\n",
      "Cost / err at iteration i=11, j=0, cost_value: 127.100, error: 0.121\n",
      "Cost / err at iteration i=12, j=0, cost_value: 126.049, error: 0.116\n",
      "Cost / err at iteration i=13, j=0, cost_value: 139.822, error: 0.119\n",
      "Cost / err at iteration i=14, j=0, cost_value: 128.063, error: 0.124\n"
     ]
    },
    {
     "data": {
      "image/png": "[encoded data removed]",
      "text/plain": [
       "<Figure size 432x288 with 1 Axes>"
      ]
     },
     "metadata": {
      "needs_background": "light"
     },
     "output_type": "display_data"
    }
   ],
   "source": [
    "costs = []\n",
    "for i in range(max_iter):\n",
    "    for j in range(n_batches):\n",
    "        Xbatch = Xtrain[j*batch_sz:(j*batch_sz + batch_sz),]\n",
    "        Ybatch = Ytrain_ind[j*batch_sz:(j*batch_sz + batch_sz),]\n",
    "\n",
    "        train(Xbatch, Ybatch)\n",
    "        if j % print_period == 0:\n",
    "            cost_val, prediction_val = get_prediction(Xtest, Ytest_ind)\n",
    "            err = error_rate(prediction_val, Ytest)\n",
    "            print(\"Cost / err at iteration i=%d, j=%d, cost_value: %.3f, error: %.3f\" % (i, j, cost_val, err))\n",
    "            costs.append(cost_val)\n",
    "\n",
    "plt.plot(costs)\n",
    "plt.show()"
   ]
  },
  {
   "cell_type": "code",
   "execution_count": null,
   "metadata": {},
   "outputs": [],
   "source": []
  }
 ],
 "metadata": {
  "kernelspec": {
   "display_name": "Python 2",
   "language": "python",
   "name": "python2"
  },
  "language_info": {
   "codemirror_mode": {
    "name": "ipython",
    "version": 2
   },
   "file_extension": ".py",
   "mimetype": "text/x-python",
   "name": "python",
   "nbconvert_exporter": "python",
   "pygments_lexer": "ipython2",
   "version": "2.7.15"
  }
 },
 "nbformat": 4,
 "nbformat_minor": 2
}

{
 "cells": [
  {
   "cell_type": "code",
   "execution_count": 1,
   "metadata": {},
   "outputs": [],
   "source": [
    "import numpy as np\n",
    "import tensorflow as tf\n",
    "\n",
    "import matplotlib.pyplot as plt\n",
    "import os\n",
    "import pandas as pd"
   ]
  },
  {
   "cell_type": "code",
   "execution_count": 2,
   "metadata": {},
   "outputs": [],
   "source": [
    "df = pd.read_csv('./train.csv')"
   ]
  },
  {
   "cell_type": "code",
   "execution_count": 4,
   "metadata": {},
   "outputs": [],
   "source": [
    "# Load data\n",
    "\n",
    "data = df.values.astype(np.float32)\n",
    "np.random.shuffle(data)\n",
    "X = data[:, 1:]\n",
    "Y = data[:, 0]\n",
    "\n",
    "Xtrain = X[:-1000]\n",
    "Ytrain = Y[:-1000]\n",
    "Xtest  = X[-1000:]\n",
    "Ytest  = Y[-1000:]"
   ]
  },
  {
   "cell_type": "code",
   "execution_count": 5,
   "metadata": {},
   "outputs": [
    {
     "data": {
      "image/png": "[encoded data removed]",
      "text/plain": [
       "<Figure size 432x288 with 1 Axes>"
      ]
     },
     "metadata": {
      "needs_background": "light"
     },
     "output_type": "display_data"
    }
   ],
   "source": [
    "s = np.reshape(Xtrain[0], (28, 28))\n",
    "plt.imshow(s)\n",
    "plt.show()"
   ]
  },
  {
   "cell_type": "code",
   "execution_count": 8,
   "metadata": {},
   "outputs": [],
   "source": [
    "# normalizie the data\n",
    "\n",
    "mu = Xtrain.mean(axis=0)\n",
    "std = Xtrain.std(axis=0)\n",
    "\n",
    "np.place(std, std == 0, 1)\n",
    "\n",
    "Xtrain = (Xtrain - mu) / std\n",
    "Xtest = (Xtest - mu) / std"
   ]
  },
  {
   "cell_type": "code",
   "execution_count": 9,
   "metadata": {},
   "outputs": [],
   "source": [
    "# change y to hot encoder\n",
    "\n",
    "def y2indicator(y):\n",
    "\n",
    "    y = y.astype(np.int32)\n",
    "    ind = np.zeros((len(y), 10))\n",
    "\n",
    "    for i in range(len(y)):\n",
    "        ind[i, y[i]] = 1\n",
    "        \n",
    "    return ind "
   ]
  },
  {
   "cell_type": "code",
   "execution_count": 10,
   "metadata": {},
   "outputs": [],
   "source": [
    "Ytrain_ind = y2indicator(Ytrain)\n",
    "Ytest_ind = y2indicator(Ytest)"
   ]
  },
  {
   "cell_type": "code",
   "execution_count": 45,
   "metadata": {},
   "outputs": [],
   "source": [
    "# data is ready\n",
    "\n",
    "Xtrain = Xtrain.astype(np.float32)\n",
    "Xtest = Xtest.astype(np.float32)\n",
    "Ytrain = Ytrain.astype(np.float32)\n",
    "Ytest = Ytest.astype(np.float32)\n",
    "Ytrain_ind = Ytrain_ind.astype(np.float32)\n",
    "Ytest_ind = Ytest_ind.astype(np.float32)"
   ]
  },
  {
   "cell_type": "code",
   "execution_count": 46,
   "metadata": {},
   "outputs": [],
   "source": [
    "max_iter = 15\n",
    "print_period = 100\n",
    "\n",
    "lr = 0.00004\n",
    "reg = 0.01\n",
    "\n",
    "N, D = Xtrain.shape\n",
    "batch_sz = 500\n",
    "n_batches = N // batch_sz\n",
    "\n",
    "# add an extra layer just for fun\n",
    "M1 = 300\n",
    "M2 = 100\n",
    "K = 10"
   ]
  },
  {
   "cell_type": "code",
   "execution_count": 47,
   "metadata": {},
   "outputs": [],
   "source": [
    "W1_init = np.random.randn(D, M1) / 28\n",
    "b1_init = np.zeros(M1)\n",
    "W2_init = np.random.randn(M1, M2) / np.sqrt(M1)\n",
    "b2_init = np.zeros(M2)\n",
    "W3_init = np.random.randn(M2, K) / np.sqrt(M2)\n",
    "b3_init = np.zeros(K)"
   ]
  },
  {
   "cell_type": "code",
   "execution_count": 48,
   "metadata": {},
   "outputs": [],
   "source": [
    "# define variables and expressions\n",
    "X = tf.placeholder(tf.float32, shape=(None, D), name='X')\n",
    "T = tf.placeholder(tf.float32, shape=(None, K), name='T')\n",
    "W1 = tf.Variable(W1_init.astype(np.float32))\n",
    "b1 = tf.Variable(b1_init.astype(np.float32))\n",
    "W2 = tf.Variable(W2_init.astype(np.float32))\n",
    "b2 = tf.Variable(b2_init.astype(np.float32))\n",
    "W3 = tf.Variable(W3_init.astype(np.float32))\n",
    "b3 = tf.Variable(b3_init.astype(np.float32))"
   ]
  },
  {
   "cell_type": "code",
   "execution_count": 49,
   "metadata": {},
   "outputs": [],
   "source": [
    "# define the model\n",
    "\n",
    "Z1 = tf.nn.relu( tf.matmul(X, W1) + b1 )\n",
    "Z2 = tf.nn.relu( tf.matmul(Z1, W2) + b2 )\n",
    "Yish = tf.matmul(Z2, W3) + b3\n",
    "# remember, the cost function does the softmaxing! weird, right?"
   ]
  },
  {
   "cell_type": "code",
   "execution_count": 50,
   "metadata": {},
   "outputs": [
    {
     "data": {
      "text/plain": [
       "'\\nX_d = tf.nn.dropout(X, 0.8)\\nZ1 = tf.nn.relu( tf.matmul(X_d, W1) + b1 )\\nZ1_d = tf.nn.dropout(Z1, 0.5)\\nZ2 = tf.nn.relu( tf.matmul(Z1_d, W2) + b2 )\\nZ2_d = tf.nn.dropout(Z2, 0.5)\\nYish = tf.matmul(Z2_d, W3) + b3\\n'"
      ]
     },
     "execution_count": 50,
     "metadata": {},
     "output_type": "execute_result"
    }
   ],
   "source": [
    "#dropout \n",
    "\"\"\"\n",
    "X_d = tf.nn.dropout(X, 0.8)\n",
    "Z1 = tf.nn.relu( tf.matmul(X_d, W1) + b1 )\n",
    "Z1_d = tf.nn.dropout(Z1, 0.5)\n",
    "Z2 = tf.nn.relu( tf.matmul(Z1_d, W2) + b2 )\n",
    "Z2_d = tf.nn.dropout(Z2, 0.5)\n",
    "Yish = tf.matmul(Z2_d, W3) + b3\n",
    "\"\"\""
   ]
  },
  {
   "cell_type": "code",
   "execution_count": 51,
   "metadata": {},
   "outputs": [],
   "source": [
    "# softmax_cross_entropy_with_logits take in the \"logits\"\n",
    "# if you wanted to know the actual output of the neural net,\n",
    "# you could pass \"Yish\" into tf.nn.softmax(logits)\n",
    "\n",
    "cost = tf.reduce_sum(tf.nn.softmax_cross_entropy_with_logits_v2(logits=Yish, labels=T)) \n",
    "\n",
    "#regularzation L1\n",
    "#cost = tf.reduce_sum(tf.nn.softmax_cross_entropy_with_logits_v2(logits=Yish, labels=T)) +  reg*(tf.reduce_sum(W1*W1) + tf.reduce_sum(b1*b1) + tf.reduce_sum(W2*W2) + tf.reduce_sum(b2*b2) + tf.reduce_sum(W3*W3) + tf.reduce_sum(b3*b3))\n",
    "\n",
    "#regularzation L2\n",
    "#cost = tf.reduce_sum(tf.nn.softmax_cross_entropy_with_logits_v2(logits=Yish, labels=T)) + reg*(tf.reduce_sum(tf.abs(W1)) + tf.reduce_sum(tf.abs(b1)) + tf.reduce_sum(tf.abs(W2)) + tf.reduce_sum(tf.abs(b2)) + + tf.reduce_sum(tf.abs(W3)) + tf.reduce_sum(tf.abs(b3)))"
   ]
  },
  {
   "cell_type": "code",
   "execution_count": 52,
   "metadata": {},
   "outputs": [],
   "source": [
    "# we choose the optimizer but don't implement the algorithm ourselves\n",
    "\n",
    "#classical gradient descent\n",
    "#train_op = tf.train.GradientDescentOptimizer(lr).minimize(cost)\n",
    "\n",
    "# momentum optimizer.  set use_nesterov=True for nesterov momentum\n",
    "#mu = 0.9\n",
    "#train_op = tf.train.MomentumOptimizer(lr, mu, use_nesterov=True ).minimize(cost)\n",
    "\n",
    "# let's go with RMSprop, since we just learned about it.  momentum here is mu. So this is really RMSprop with momentum.  \n",
    "# if you want no momentum, then set momentum = 0, which is default\n",
    "#train_op = tf.train.RMSPropOptimizer(lr, decay=0.99, momentum=0.9).minimize(cost)\n",
    "\n",
    "#Adagrad\n",
    "#train_op = tf.train.AdagradOptimizer(lr).minimize(cost)\n",
    "\n",
    "#Adam.  default learning rate is 0.001\n",
    "train_op = tf.train.AdamOptimizer().minimize(cost)"
   ]
  },
  {
   "cell_type": "code",
   "execution_count": 53,
   "metadata": {},
   "outputs": [],
   "source": [
    "# we'll use this to calculate the error rate\n",
    "predict_op = tf.argmax(Yish, 1)"
   ]
  },
  {
   "cell_type": "code",
   "execution_count": 54,
   "metadata": {},
   "outputs": [],
   "source": [
    "def error_rate(p, t):\n",
    "    return np.mean(p != t)"
   ]
  },
  {
   "cell_type": "code",
   "execution_count": 55,
   "metadata": {},
   "outputs": [
    {
     "name": "stdout",
     "output_type": "stream",
     "text": [
      "Cost / err at iteration i=0, j=0: 2166.502 / 0.772\n",
      "Cost / err at iteration i=1, j=0: 216.482 / 0.064\n",
      "Cost / err at iteration i=2, j=0: 160.324 / 0.044\n",
      "Cost / err at iteration i=3, j=0: 134.741 / 0.039\n",
      "Cost / err at iteration i=4, j=0: 122.164 / 0.037\n",
      "Cost / err at iteration i=5, j=0: 114.161 / 0.035\n",
      "Cost / err at iteration i=6, j=0: 110.524 / 0.034\n",
      "Cost / err at iteration i=7, j=0: 115.709 / 0.032\n",
      "Cost / err at iteration i=8, j=0: 116.865 / 0.029\n",
      "Cost / err at iteration i=9, j=0: 118.004 / 0.031\n",
      "Cost / err at iteration i=10, j=0: 131.716 / 0.033\n",
      "Cost / err at iteration i=11, j=0: 129.306 / 0.036\n",
      "Cost / err at iteration i=12, j=0: 149.395 / 0.039\n",
      "Cost / err at iteration i=13, j=0: 143.204 / 0.039\n",
      "Cost / err at iteration i=14, j=0: 137.039 / 0.035\n"
     ]
    },
    {
     "data": {
      "image/png": "[encoded data removed]",
      "text/plain": [
       "<Figure size 432x288 with 1 Axes>"
      ]
     },
     "metadata": {
      "needs_background": "light"
     },
     "output_type": "display_data"
    }
   ],
   "source": [
    "costs = []\n",
    "init = tf.global_variables_initializer()\n",
    "with tf.Session() as session:\n",
    "    session.run(init)\n",
    "\n",
    "    for i in range(max_iter):\n",
    "        for j in range(n_batches):\n",
    "            Xbatch = Xtrain[j*batch_sz:(j*batch_sz + batch_sz),]\n",
    "            Ybatch = Ytrain_ind[j*batch_sz:(j*batch_sz + batch_sz),]\n",
    "\n",
    "            session.run(train_op, feed_dict={X: Xbatch, T: Ybatch})\n",
    "            if j % print_period == 0:\n",
    "                test_cost = session.run(cost, feed_dict={X: Xtest, T: Ytest_ind})\n",
    "                prediction = session.run(predict_op, feed_dict={X: Xtest})\n",
    "                err = error_rate(prediction, Ytest)\n",
    "                print(\"Cost / err at iteration i=%d, j=%d: %.3f / %.3f\" % (i, j, test_cost, err))\n",
    "                costs.append(test_cost)\n",
    "\n",
    "plt.plot(costs)\n",
    "plt.show()"
   ]
  },
  {
   "cell_type": "code",
   "execution_count": null,
   "metadata": {},
   "outputs": [],
   "source": []
  }
 ],
 "metadata": {
  "kernelspec": {
   "display_name": "Python 3",
   "language": "python",
   "name": "python3"
  },
  "language_info": {
   "codemirror_mode": {
    "name": "ipython",
    "version": 3
   },
   "file_extension": ".py",
   "mimetype": "text/x-python",
   "name": "python",
   "nbconvert_exporter": "python",
   "pygments_lexer": "ipython3",
   "version": "3.7.0"
  }
 },
 "nbformat": 4,
 "nbformat_minor": 2
}

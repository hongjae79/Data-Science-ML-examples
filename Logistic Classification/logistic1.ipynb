{
 "cells": [
  {
   "cell_type": "code",
   "execution_count": 1,
   "metadata": {},
   "outputs": [],
   "source": [
    "import numpy as np"
   ]
  },
  {
   "cell_type": "code",
   "execution_count": 2,
   "metadata": {},
   "outputs": [],
   "source": [
    "N = 100 \n",
    "D = 2"
   ]
  },
  {
   "cell_type": "code",
   "execution_count": 3,
   "metadata": {},
   "outputs": [],
   "source": [
    "X = np.random.randn(N,D)"
   ]
  },
  {
   "cell_type": "code",
   "execution_count": 5,
   "metadata": {},
   "outputs": [],
   "source": [
    "# add 1 for some reason I don't know\n",
    "\n",
    "ones = np.ones((N, 1))"
   ]
  },
  {
   "cell_type": "code",
   "execution_count": 7,
   "metadata": {},
   "outputs": [],
   "source": [
    "Xb = np.concatenate((ones, X), axis=1)"
   ]
  },
  {
   "cell_type": "code",
   "execution_count": 9,
   "metadata": {},
   "outputs": [],
   "source": [
    "w = np.random.randn(D + 1)"
   ]
  },
  {
   "cell_type": "code",
   "execution_count": 11,
   "metadata": {},
   "outputs": [
    {
     "name": "stdout",
     "output_type": "stream",
     "text": [
      "(100, 3) (3,)\n"
     ]
    }
   ],
   "source": [
    "print(Xb.shape, w.shape)"
   ]
  },
  {
   "cell_type": "code",
   "execution_count": 12,
   "metadata": {},
   "outputs": [],
   "source": [
    "# w dot Xb = z\n",
    "\n",
    "z = Xb.dot(w)"
   ]
  },
  {
   "cell_type": "code",
   "execution_count": 14,
   "metadata": {},
   "outputs": [],
   "source": [
    "def sigmoid(z):\n",
    "    return 1/(1 + np.exp(-z))"
   ]
  },
  {
   "cell_type": "code",
   "execution_count": 15,
   "metadata": {},
   "outputs": [
    {
     "name": "stdout",
     "output_type": "stream",
     "text": [
      "[0.53398764 0.59039523 0.51602871 0.6122394  0.603837   0.37454825\n",
      " 0.422982   0.30559291 0.27806981 0.59330279 0.22865452 0.47038871\n",
      " 0.60067044 0.34590789 0.78707265 0.51710282 0.41052968 0.30795686\n",
      " 0.23296926 0.25185343 0.20778806 0.5149931  0.46657086 0.85906754\n",
      " 0.39021676 0.44902887 0.43742772 0.18535464 0.29283249 0.31378419\n",
      " 0.61455345 0.38591955 0.39987776 0.3474962  0.20987238 0.14222435\n",
      " 0.26760273 0.46867857 0.36507745 0.6673968  0.30384236 0.81210784\n",
      " 0.3963922  0.06957174 0.52579059 0.52677355 0.71619373 0.50098644\n",
      " 0.49827767 0.30039325 0.63091773 0.22009563 0.1244416  0.55882902\n",
      " 0.40319795 0.5008457  0.27098969 0.42153622 0.53947845 0.61896108\n",
      " 0.38278553 0.51299234 0.20762562 0.6285117  0.57974856 0.52366165\n",
      " 0.36372017 0.60365443 0.28026513 0.40883205 0.27117503 0.34963336\n",
      " 0.52062089 0.30559152 0.41769638 0.6795994  0.81046608 0.29370465\n",
      " 0.473593   0.41370996 0.4648264  0.46812061 0.51534187 0.57313784\n",
      " 0.17697411 0.55013053 0.34199545 0.35175028 0.32315202 0.35116205\n",
      " 0.38884702 0.4663773  0.57230703 0.3718856  0.41534898 0.56572222\n",
      " 0.57549111 0.43442548 0.30982268 0.48995904]\n"
     ]
    }
   ],
   "source": [
    "print(sigmoid(z))"
   ]
  },
  {
   "cell_type": "code",
   "execution_count": null,
   "metadata": {},
   "outputs": [],
   "source": []
  }
 ],
 "metadata": {
  "kernelspec": {
   "display_name": "Python 3",
   "language": "python",
   "name": "python3"
  },
  "language_info": {
   "codemirror_mode": {
    "name": "ipython",
    "version": 3
   },
   "file_extension": ".py",
   "mimetype": "text/x-python",
   "name": "python",
   "nbconvert_exporter": "python",
   "pygments_lexer": "ipython3",
   "version": "3.7.3"
  }
 },
 "nbformat": 4,
 "nbformat_minor": 2
}

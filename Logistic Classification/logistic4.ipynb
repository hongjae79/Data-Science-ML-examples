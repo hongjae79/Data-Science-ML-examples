{
 "cells": [
  {
   "cell_type": "code",
   "execution_count": 232,
   "metadata": {},
   "outputs": [],
   "source": [
    "import numpy as np"
   ]
  },
  {
   "cell_type": "code",
   "execution_count": 233,
   "metadata": {},
   "outputs": [],
   "source": [
    "N = 100\n",
    "D = 2"
   ]
  },
  {
   "cell_type": "code",
   "execution_count": 234,
   "metadata": {},
   "outputs": [],
   "source": [
    "X = np.random.randn(N,D)"
   ]
  },
  {
   "cell_type": "code",
   "execution_count": 235,
   "metadata": {},
   "outputs": [],
   "source": [
    "# center the first 50 points at (-2,-2)\n",
    "X[:50, :] = X[:50, :] - 2 * np.ones((50,2))"
   ]
  },
  {
   "cell_type": "code",
   "execution_count": 236,
   "metadata": {},
   "outputs": [],
   "source": [
    "# center the last 50 points at (2,2)\n",
    "X[50:, :] = X[50: , :] + 2 * np.ones((50,2))"
   ]
  },
  {
   "cell_type": "code",
   "execution_count": 237,
   "metadata": {},
   "outputs": [],
   "source": [
    "# Label first 50 0's last 50 1's\n",
    "T = [0] * 50 + [1] *50"
   ]
  },
  {
   "cell_type": "code",
   "execution_count": 238,
   "metadata": {},
   "outputs": [],
   "source": [
    "# Add a column of ones to X \n",
    "ones = np.ones((100,1))\n",
    "Xb = np.concatenate((ones, X), axis = 1)"
   ]
  },
  {
   "cell_type": "code",
   "execution_count": 239,
   "metadata": {},
   "outputs": [],
   "source": [
    "# randomly initialize the weights\n",
    "w = np.random.randn(D+1)"
   ]
  },
  {
   "cell_type": "code",
   "execution_count": 240,
   "metadata": {},
   "outputs": [],
   "source": [
    "# calculate the model output\n",
    "z = Xb.dot(w)"
   ]
  },
  {
   "cell_type": "code",
   "execution_count": 241,
   "metadata": {},
   "outputs": [],
   "source": [
    "# put z into sigmoid.  \n",
    "\n",
    "def sigmoid(z):\n",
    "    return 1/(1+np.exp(-z))\n",
    "\n",
    "Y = sigmoid(z)    "
   ]
  },
  {
   "cell_type": "code",
   "execution_count": 242,
   "metadata": {},
   "outputs": [],
   "source": [
    "# calculate the cross entropy function \n",
    "def cross_entropy(T,Y):\n",
    "    E = 0 \n",
    "    for i in range(len(T)):\n",
    "        if T[i] == 0:\n",
    "            E -= np.log(Y[i])\n",
    "        if T[i] == 1:\n",
    "            E -= np.log(1-Y[i])\n",
    "    return E"
   ]
  },
  {
   "cell_type": "code",
   "execution_count": 243,
   "metadata": {},
   "outputs": [
    {
     "name": "stdout",
     "output_type": "stream",
     "text": [
      "213.3798735990765\n",
      "0.7625415174675825\n",
      "1.0807058180835865\n",
      "4.434022125959641\n",
      "8.343808922914365\n",
      "12.270941395110283\n",
      "16.19842036957009\n",
      "20.12590620776354\n",
      "24.053394970142982\n",
      "27.980905488030803\n",
      "final w:  [   1.87637611 -182.27568506 -187.71242303]\n"
     ]
    }
   ],
   "source": [
    "# gradient descent\n",
    "learning_rate = 0.1\n",
    "for i in range(10):\n",
    "    if i % 1 == 0:\n",
    "        print(cross_entropy(T,Y))\n",
    "    w += learning_rate * Xb.T.dot(Y-T)\n",
    "    \n",
    "    #recalculate Y \n",
    "    Y = sigmoid(Xb.dot(w))\n",
    "\n",
    "print(\"final w: \", w)"
   ]
  },
  {
   "cell_type": "code",
   "execution_count": null,
   "metadata": {},
   "outputs": [],
   "source": []
  },
  {
   "cell_type": "code",
   "execution_count": null,
   "metadata": {},
   "outputs": [],
   "source": []
  }
 ],
 "metadata": {
  "kernelspec": {
   "display_name": "Python 3",
   "language": "python",
   "name": "python3"
  },
  "language_info": {
   "codemirror_mode": {
    "name": "ipython",
    "version": 3
   },
   "file_extension": ".py",
   "mimetype": "text/x-python",
   "name": "python",
   "nbconvert_exporter": "python",
   "pygments_lexer": "ipython3",
   "version": "3.7.3"
  }
 },
 "nbformat": 4,
 "nbformat_minor": 2
}

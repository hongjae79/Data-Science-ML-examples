{
 "cells": [
  {
   "cell_type": "code",
   "execution_count": 58,
   "metadata": {},
   "outputs": [],
   "source": [
    "import numpy as np\n",
    "import pandas as pd"
   ]
  },
  {
   "cell_type": "code",
   "execution_count": 59,
   "metadata": {},
   "outputs": [],
   "source": [
    "def get_data():\n",
    "    \n",
    "    df = pd.read_csv('./ecommerce_data.csv')\n",
    "    #changes to numpy array\n",
    "    data = df.values\n",
    "    np.random.shuffle(data)\n",
    "    \n",
    "    X = data[:,:-1]\n",
    "    Y = data[:,-1].astype(np.int32)\n",
    "    \n",
    "    N, D = X.shape\n",
    "    X2 = np.zeros((N, D+3))\n",
    "    X2[:,0:(D-1)] = X[:,0:(D-1)]\n",
    "    \n",
    "    # last three columns of X2 is one hot encode\n",
    "\n",
    "    for n in range(N):\n",
    "        t = int(X[n,D-1])\n",
    "        X2[n,t+D-1] = 1\n",
    "        \n",
    "    X = X2\n",
    "    \n",
    "    Xtrain = X[:-100]\n",
    "    Ytrain = Y[:-100]\n",
    "    Xtest = X[-100:]\n",
    "    Ytest = Y[-100:]\n",
    "    \n",
    "    #normalize second column and third column\n",
    "\n",
    "    for i in (1, 2):\n",
    "        m = Xtrain[:,i].mean()\n",
    "        s = Xtrain[:,i].std()\n",
    "        Xtrain[:,i] = (Xtrain[:,i] - m) / s\n",
    "        Xtest[:,i] = (Xtest[:,i] - m) / s\n",
    "        \n",
    "    return Xtrain, Ytrain, Xtest, Ytest"
   ]
  },
  {
   "cell_type": "code",
   "execution_count": 60,
   "metadata": {},
   "outputs": [],
   "source": [
    "def get_binary_data():\n",
    "  # return only the data from the first 2 classes\n",
    "    Xtrain, Ytrain, Xtest, Ytest = get_data()\n",
    "    \n",
    "    #select same rows that is Ytrain <= 1\n",
    "    X2train = Xtrain[Ytrain <= 1]\n",
    "    Y2train = Ytrain[Ytrain <= 1]\n",
    "    X2test = Xtest[Ytest <= 1]\n",
    "    Y2test = Ytest[Ytest <= 1]\n",
    "    return X2train, Y2train, X2test, Y2test"
   ]
  },
  {
   "cell_type": "code",
   "execution_count": 61,
   "metadata": {},
   "outputs": [
    {
     "name": "stdout",
     "output_type": "stream",
     "text": [
      "('Score:', 0.49056603773584906)\n"
     ]
    }
   ],
   "source": [
    "X, Y, _, _ = get_binary_data()\n",
    "\n",
    "# randomly initialize weights\n",
    "D = X.shape[1]\n",
    "W = np.random.randn(D)\n",
    "b = 0 # bias term\n",
    "\n",
    "# make predictions\n",
    "def sigmoid(a):\n",
    "    return 1 / (1 + np.exp(-a))\n",
    "\n",
    "def forward(X, W, b):\n",
    "    return sigmoid(X.dot(W) + b)\n",
    "\n",
    "P_Y_given_X = forward(X, W, b)\n",
    "predictions = np.round(P_Y_given_X)\n",
    "\n",
    "# calculate the accuracy\n",
    "def classification_rate(Y, P):\n",
    "    return np.mean(Y == P)\n",
    "\n",
    "print(\"Score:\", classification_rate(Y, predictions))"
   ]
  },
  {
   "cell_type": "code",
   "execution_count": 62,
   "metadata": {},
   "outputs": [
    {
     "name": "stdout",
     "output_type": "stream",
     "text": [
      "('Score:', 0.97169811320754718)\n"
     ]
    }
   ],
   "source": [
    "# let's do gradient descent 100 times\n",
    "learning_rate = 0.001\n",
    "for i in range(100000):\n",
    "    P_Y_given_X = forward(X, W, b)\n",
    "    # gradient descent weight udpate\n",
    "    # w += learning_rate * np.dot((T - Y).T, Xb) # old\n",
    "    W -= learning_rate * np.dot(P_Y_given_X - Y, X)\n",
    "    b -= learning_rate * (P_Y_given_X - Y).sum()\n",
    "   \n",
    "P_Y_given_X = forward(X, W, b)\n",
    "predictions = np.round(P_Y_given_X)\n",
    "print(\"Score:\", classification_rate(Y, predictions))"
   ]
  },
  {
   "cell_type": "code",
   "execution_count": null,
   "metadata": {},
   "outputs": [],
   "source": []
  }
 ],
 "metadata": {
  "kernelspec": {
   "display_name": "Python 2",
   "language": "python",
   "name": "python2"
  },
  "language_info": {
   "codemirror_mode": {
    "name": "ipython",
    "version": 2
   },
   "file_extension": ".py",
   "mimetype": "text/x-python",
   "name": "python",
   "nbconvert_exporter": "python",
   "pygments_lexer": "ipython2",
   "version": "2.7.15"
  }
 },
 "nbformat": 4,
 "nbformat_minor": 2
}

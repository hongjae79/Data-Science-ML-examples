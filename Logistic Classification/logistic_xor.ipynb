{
 "cells": [
  {
   "cell_type": "code",
   "execution_count": 1,
   "metadata": {},
   "outputs": [],
   "source": [
    "import numpy as np\n",
    "import matplotlib.pyplot as plt"
   ]
  },
  {
   "cell_type": "code",
   "execution_count": 2,
   "metadata": {},
   "outputs": [],
   "source": [
    "N = 4\n",
    "D = 2\n",
    "\n",
    "# XOR\n",
    "X = np.array([\n",
    "    [0, 0],\n",
    "    [0, 1],\n",
    "    [1, 0],\n",
    "    [1, 1],\n",
    "])\n",
    "T = np.array([0, 1, 1, 0])"
   ]
  },
  {
   "cell_type": "code",
   "execution_count": 3,
   "metadata": {},
   "outputs": [],
   "source": [
    "# ones = np.array([[1]*N]).T\n",
    "ones = np.ones((N, 1))"
   ]
  },
  {
   "cell_type": "code",
   "execution_count": 17,
   "metadata": {},
   "outputs": [],
   "source": [
    "# add a column of xy = x*y\n",
    "xy = (X[:,0] * X[:,1]).reshape(N, 1)\n",
    "Xb = np.concatenate((ones, xy, X), axis=1)"
   ]
  },
  {
   "cell_type": "code",
   "execution_count": 22,
   "metadata": {},
   "outputs": [],
   "source": [
    "# randomly initialize the weights\n",
    "w = np.random.randn(D + 2)"
   ]
  },
  {
   "cell_type": "code",
   "execution_count": 24,
   "metadata": {},
   "outputs": [],
   "source": [
    "# calculate the model output\n",
    "z = Xb.dot(w)"
   ]
  },
  {
   "cell_type": "code",
   "execution_count": 26,
   "metadata": {},
   "outputs": [],
   "source": [
    "def sigmoid(z):\n",
    "    return 1/(1 + np.exp(-z))"
   ]
  },
  {
   "cell_type": "code",
   "execution_count": 27,
   "metadata": {},
   "outputs": [],
   "source": [
    "Y = sigmoid(z)"
   ]
  },
  {
   "cell_type": "code",
   "execution_count": 28,
   "metadata": {},
   "outputs": [],
   "source": [
    "def cross_entropy(T,Y):\n",
    "    Total_E = 0 \n",
    "    \n",
    "    for i in range(len(T)):\n",
    "        E = -(T[i]*np.log(Y[i]) + (1-T[i])*np.log(1-Y[i]))\n",
    "        Total_E = Total_E + E\n",
    "    \n",
    "    return Total_E "
   ]
  },
  {
   "cell_type": "code",
   "execution_count": 29,
   "metadata": {},
   "outputs": [
    {
     "name": "stdout",
     "output_type": "stream",
     "text": [
      "2.3853508990575802\n",
      "1.47265110741127\n",
      "1.1096543660072244\n",
      "0.9084626495585054\n",
      "0.7867838891616297\n",
      "0.7084532580470919\n",
      "0.6557062376533588\n",
      "0.6190089345331108\n",
      "0.5928610993304603\n",
      "0.5738988747661109\n"
     ]
    }
   ],
   "source": [
    "# let's do gradient descent 100 times\n",
    "learning_rate = 0.01\n",
    "error = []\n",
    "for i in range(10000):\n",
    "    e = cross_entropy(T, Y)\n",
    "    error.append(e)\n",
    "    if i % 1000 == 0:\n",
    "        print(e)\n",
    "\n",
    "    # gradient descent weight udpate with regularization\n",
    "    w += learning_rate * ( Xb.T.dot(T - Y) - 0.01*w )\n",
    "\n",
    "    # recalculate Y\n",
    "    Y = sigmoid(Xb.dot(w))"
   ]
  },
  {
   "cell_type": "code",
   "execution_count": 31,
   "metadata": {},
   "outputs": [
    {
     "data": {
      "image/png": "[encoded data removed]",
      "text/plain": [
       "<Figure size 432x288 with 1 Axes>"
      ]
     },
     "metadata": {},
     "output_type": "display_data"
    }
   ],
   "source": [
    "plt.plot(error)\n",
    "plt.title(\"Cross-entropy per iteration\")\n",
    "plt.show()"
   ]
  },
  {
   "cell_type": "code",
   "execution_count": 32,
   "metadata": {},
   "outputs": [
    {
     "name": "stdout",
     "output_type": "stream",
     "text": [
      "('Final w:', array([-1.50109978, -7.74067428,  3.44176482,  3.4417647 ]))\n",
      "('Final classification rate:', 1.0)\n"
     ]
    }
   ],
   "source": [
    "print(\"Final w:\", w)\n",
    "print(\"Final classification rate:\", 1 - np.abs(T - np.round(Y)).sum() / N)"
   ]
  },
  {
   "cell_type": "code",
   "execution_count": null,
   "metadata": {},
   "outputs": [],
   "source": []
  }
 ],
 "metadata": {
  "kernelspec": {
   "display_name": "Python 2",
   "language": "python",
   "name": "python2"
  },
  "language_info": {
   "codemirror_mode": {
    "name": "ipython",
    "version": 2
   },
   "file_extension": ".py",
   "mimetype": "text/x-python",
   "name": "python",
   "nbconvert_exporter": "python",
   "pygments_lexer": "ipython2",
   "version": "2.7.15"
  }
 },
 "nbformat": 4,
 "nbformat_minor": 2
}

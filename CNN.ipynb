{
 "cells": [
  {
   "cell_type": "markdown",
   "metadata": {},
   "source": [
    "# CNN"
   ]
  },
  {
   "cell_type": "markdown",
   "metadata": {},
   "source": [
    "## Step 1 : Load the data"
   ]
  },
  {
   "cell_type": "code",
   "execution_count": 1,
   "metadata": {},
   "outputs": [],
   "source": [
    "import numpy as np"
   ]
  },
  {
   "cell_type": "code",
   "execution_count": 2,
   "metadata": {},
   "outputs": [],
   "source": [
    "import tensorflow as tf"
   ]
  },
  {
   "cell_type": "code",
   "execution_count": 15,
   "metadata": {},
   "outputs": [
    {
     "name": "stdout",
     "output_type": "stream",
     "text": [
      "x_train.shape: (50000, 32, 32, 3)\n",
      "y_train.shape (50000,)\n"
     ]
    }
   ],
   "source": [
    "# Load in the data\n",
    "cifar10 = tf.keras.datasets.cifar10\n",
    "\n",
    "(x_train, y_train), (x_test, y_test) = cifar10.load_data()\n",
    "x_train, x_test = x_train / 255.0, x_test / 255.0\n",
    "y_train, y_test = y_train.flatten(), y_test.flatten()\n",
    "print(\"x_train.shape:\", x_train.shape)\n",
    "print(\"y_train.shape\", y_train.shape)"
   ]
  },
  {
   "cell_type": "code",
   "execution_count": 18,
   "metadata": {},
   "outputs": [
    {
     "data": {
      "text/plain": [
       "array([6, 9, 9, ..., 9, 1, 1], dtype=uint8)"
      ]
     },
     "execution_count": 18,
     "metadata": {},
     "output_type": "execute_result"
    }
   ],
   "source": [
    "y_train"
   ]
  },
  {
   "cell_type": "code",
   "execution_count": 19,
   "metadata": {},
   "outputs": [],
   "source": [
    "labels = '''airplane\n",
    "automobile\n",
    "bird\n",
    "cat\n",
    "deer\n",
    "dog\n",
    "frog\n",
    "horse\n",
    "ship\n",
    "truck'''.split()"
   ]
  },
  {
   "cell_type": "code",
   "execution_count": 22,
   "metadata": {},
   "outputs": [
    {
     "name": "stdout",
     "output_type": "stream",
     "text": [
      "Number of classes: 10\n"
     ]
    }
   ],
   "source": [
    "K = len(set(y_train))\n",
    "print(\"Number of classes:\", K)"
   ]
  },
  {
   "cell_type": "code",
   "execution_count": 28,
   "metadata": {},
   "outputs": [],
   "source": [
    "import matplotlib.pyplot as plt"
   ]
  },
  {
   "cell_type": "code",
   "execution_count": 33,
   "metadata": {},
   "outputs": [
    {
     "data": {
      "image/png": "[encoded data removed]",
      "text/plain": [
       "<Figure size 432x288 with 1 Axes>"
      ]
     },
     "metadata": {
      "needs_background": "light"
     },
     "output_type": "display_data"
    }
   ],
   "source": [
    "random = np.random.randint(50000)\n",
    "\n",
    "plt.imshow(x_train[random])\n",
    "plt.title(labels[y_train[random]])\n",
    "plt.show()"
   ]
  },
  {
   "cell_type": "markdown",
   "metadata": {},
   "source": [
    "## Step 2: Bulld the model\n",
    "\n",
    "We are building a convolution neural network.  \n",
    "\n",
    "Input -> convolution -> pooling -> convolution -> pooling -> convolution -> pooling -> flatten -> hidden layer -> output\n",
    "\n",
    "#### OR\n",
    "\n",
    "Input -> convolution with stride 2 -> convolution with stride 2 -> convolution with stride 2 -> flatten -> hidden layer -> output\n",
    "\n"
   ]
  },
  {
   "cell_type": "code",
   "execution_count": 35,
   "metadata": {},
   "outputs": [],
   "source": [
    "import numpy as np\n",
    "import matplotlib.pyplot as plt\n",
    "from tensorflow.keras.layers import Input, Conv2D, Dense, Flatten, Dropout, GlobalMaxPooling2D\n",
    "from tensorflow.keras.models import Model"
   ]
  },
  {
   "cell_type": "code",
   "execution_count": 37,
   "metadata": {},
   "outputs": [
    {
     "name": "stdout",
     "output_type": "stream",
     "text": [
      "(32, 32, 3)\n"
     ]
    }
   ],
   "source": [
    "print(x_train[0].shape)"
   ]
  },
  {
   "cell_type": "code",
   "execution_count": 40,
   "metadata": {},
   "outputs": [],
   "source": [
    "i = Input(shape = x_train[0].shape)\n",
    "x = Conv2D(32, (3,3), strides = 2, activation = 'relu')(i)\n",
    "x = Conv2D(64, (3,3), strides = 2, activation = 'relu')(x)\n",
    "x = Conv2D(128,(3,3), strides = 2, activation = 'relu')(x)\n",
    "x = Flatten()(x)\n",
    "x = Dense(1024, activation = 'relu')(x)\n",
    "x = Dense(10, activation = 'softmax')(x)\n",
    "\n",
    "model = Model(i,x)\n",
    "\n",
    "\n",
    "\n",
    " #   i = Input(shape=x_train[0].shape)\n",
    "\n",
    " #   x = Conv2D(32, (3,3), activation = 'relu', padding = 'same')(i)\n",
    " #   x = BatchNormalization()(x)\n",
    " #   x = Conv2D(32, (3,3), activation = 'relu', padding = 'same')(x)\n",
    " #   x = BatchNormalization()(x)\n",
    " #   x = MaxPooling2D((2,2))(x)\n",
    "\n",
    " #   x = Conv2D(64, (3,3), activation = 'relu', padding = 'same')(x)\n",
    " #   x = BatchNormalization()(x)\n",
    " #   x = Conv2D(64, (3,3), activation = 'relu', padding = 'same')(x)\n",
    " #   x = BatchNormalization()(x)\n",
    " #   x = MaxPooling2D((2,2))(x)\n",
    "\n",
    " #   x = Conv2D(128, (3,3), activation = 'relu', padding = 'same')(x)\n",
    " #   x = BatchNormalization()(x)\n",
    " #   x = Conv2D(128, (3,3), activation = 'relu', padding = 'same')(x)\n",
    " #   x = BatchNormalization()(x)\n",
    " #   x = MaxPooling2D((2,2))(x)\n",
    "\n",
    " #   x = Flatten()(x)\n",
    " #   x = Dropout(0.2)(x)\n",
    " #   x = Dense(1024, activation='relu')(x)\n",
    " #   x = Dropout(0.2)(x)\n",
    " #   x = Dense(K, activation = 'softmax')(x)\n",
    "\n",
    "\n",
    "model = Model(i,x)"
   ]
  },
  {
   "cell_type": "markdown",
   "metadata": {},
   "source": [
    "## Step 3: Train Model"
   ]
  },
  {
   "cell_type": "code",
   "execution_count": 45,
   "metadata": {},
   "outputs": [
    {
     "name": "stdout",
     "output_type": "stream",
     "text": [
      "Epoch 1/15\n",
      "1563/1563 [==============================] - 19s 12ms/step - loss: 1.4341 - accuracy: 0.4779 - val_loss: 1.2039 - val_accuracy: 0.5756\n",
      "Epoch 2/15\n",
      "1563/1563 [==============================] - 19s 12ms/step - loss: 1.0535 - accuracy: 0.6259 - val_loss: 1.0230 - val_accuracy: 0.6417\n",
      "Epoch 3/15\n",
      "1563/1563 [==============================] - 19s 12ms/step - loss: 0.8480 - accuracy: 0.7008 - val_loss: 0.9517 - val_accuracy: 0.6729\n",
      "Epoch 4/15\n",
      "1563/1563 [==============================] - 19s 12ms/step - loss: 0.6825 - accuracy: 0.7606 - val_loss: 0.9230 - val_accuracy: 0.6843\n",
      "Epoch 5/15\n",
      "1563/1563 [==============================] - 19s 12ms/step - loss: 0.5216 - accuracy: 0.8149 - val_loss: 1.0030 - val_accuracy: 0.6881\n",
      "Epoch 6/15\n",
      "1563/1563 [==============================] - 20s 13ms/step - loss: 0.3839 - accuracy: 0.8642 - val_loss: 1.0728 - val_accuracy: 0.6866\n",
      "Epoch 7/15\n",
      "1563/1563 [==============================] - 20s 13ms/step - loss: 0.2624 - accuracy: 0.9080 - val_loss: 1.3527 - val_accuracy: 0.6667\n",
      "Epoch 8/15\n",
      "1563/1563 [==============================] - 20s 13ms/step - loss: 0.1899 - accuracy: 0.9339 - val_loss: 1.4334 - val_accuracy: 0.6804\n",
      "Epoch 9/15\n",
      "1563/1563 [==============================] - 19s 12ms/step - loss: 0.1539 - accuracy: 0.9466 - val_loss: 1.6717 - val_accuracy: 0.6687\n",
      "Epoch 10/15\n",
      "1563/1563 [==============================] - 19s 12ms/step - loss: 0.1297 - accuracy: 0.9551 - val_loss: 1.7380 - val_accuracy: 0.6879\n",
      "Epoch 11/15\n",
      "1563/1563 [==============================] - 21s 14ms/step - loss: 0.1150 - accuracy: 0.9598 - val_loss: 1.8844 - val_accuracy: 0.6748\n",
      "Epoch 12/15\n",
      "1563/1563 [==============================] - 20s 13ms/step - loss: 0.1000 - accuracy: 0.9663 - val_loss: 1.9789 - val_accuracy: 0.6750\n",
      "Epoch 13/15\n",
      "1563/1563 [==============================] - 22s 14ms/step - loss: 0.0987 - accuracy: 0.9668 - val_loss: 2.0800 - val_accuracy: 0.6753\n",
      "Epoch 14/15\n",
      "1563/1563 [==============================] - 23s 15ms/step - loss: 0.0995 - accuracy: 0.9665 - val_loss: 2.1509 - val_accuracy: 0.6752\n",
      "Epoch 15/15\n",
      "1563/1563 [==============================] - 22s 14ms/step - loss: 0.0874 - accuracy: 0.9715 - val_loss: 2.2995 - val_accuracy: 0.6735\n"
     ]
    }
   ],
   "source": [
    "model.compile(optimizer = 'adam', loss = 'sparse_categorical_crossentropy', metrics = ['accuracy'])\n",
    "r = model.fit(x_train, y_train, validation_data=(x_test, y_test), epochs = 15)"
   ]
  },
  {
   "cell_type": "code",
   "execution_count": 46,
   "metadata": {},
   "outputs": [
    {
     "data": {
      "text/plain": [
       "<matplotlib.legend.Legend at 0x1ad0059e0f0>"
      ]
     },
     "execution_count": 46,
     "metadata": {},
     "output_type": "execute_result"
    },
    {
     "data": {
      "image/png": "[encoded data removed]",
      "text/plain": [
       "<Figure size 432x288 with 1 Axes>"
      ]
     },
     "metadata": {
      "needs_background": "light"
     },
     "output_type": "display_data"
    }
   ],
   "source": [
    "import matplotlib.pyplot as plt\n",
    "plt.plot(r.history['loss'], label='loss')\n",
    "plt.plot(r.history['val_loss'], label='val_loss')\n",
    "plt.legend()"
   ]
  },
  {
   "cell_type": "markdown",
   "metadata": {},
   "source": [
    "## Step 4: Evaluate the model"
   ]
  },
  {
   "cell_type": "code",
   "execution_count": 47,
   "metadata": {},
   "outputs": [
    {
     "name": "stdout",
     "output_type": "stream",
     "text": [
      "Model: \"functional_1\"\n",
      "_________________________________________________________________\n",
      "Layer (type)                 Output Shape              Param #   \n",
      "=================================================================\n",
      "input_3 (InputLayer)         [(None, 32, 32, 3)]       0         \n",
      "_________________________________________________________________\n",
      "conv2d_3 (Conv2D)            (None, 15, 15, 32)        896       \n",
      "_________________________________________________________________\n",
      "conv2d_4 (Conv2D)            (None, 7, 7, 64)          18496     \n",
      "_________________________________________________________________\n",
      "conv2d_5 (Conv2D)            (None, 3, 3, 128)         73856     \n",
      "_________________________________________________________________\n",
      "flatten_1 (Flatten)          (None, 1152)              0         \n",
      "_________________________________________________________________\n",
      "dense_2 (Dense)              (None, 1024)              1180672   \n",
      "_________________________________________________________________\n",
      "dense_3 (Dense)              (None, 10)                10250     \n",
      "=================================================================\n",
      "Total params: 1,284,170\n",
      "Trainable params: 1,284,170\n",
      "Non-trainable params: 0\n",
      "_________________________________________________________________\n"
     ]
    }
   ],
   "source": [
    "model.summary()"
   ]
  },
  {
   "cell_type": "code",
   "execution_count": 102,
   "metadata": {},
   "outputs": [
    {
     "name": "stdout",
     "output_type": "stream",
     "text": [
      "Confusion matrix, without normalization\n",
      "[[728  27  64  12  23  10  15  21  61  39]\n",
      " [ 19 784  13   6   1  15   4   6  29 123]\n",
      " [ 55   7 552  47 131  58  73  46  12  19]\n",
      " [ 23  10 101 368  95 221  85  54  14  29]\n",
      " [ 26   9  82  47 659  37  55  58  14  13]\n",
      " [ 11   5  74 115  80 614  36  47   8  10]\n",
      " [ 12   9  53  54  42  42 752  14   7  15]\n",
      " [ 13   5  28  26  74  69   8 745   5  27]\n",
      " [ 71  54  29  15  16  11   5   4 767  28]\n",
      " [ 27  88  20  18   7  16   9  17  32 766]]\n"
     ]
    },
    {
     "data": {
      "image/png": "[encoded data removed]",
      "text/plain": [
       "<Figure size 432x288 with 2 Axes>"
      ]
     },
     "metadata": {
      "needs_background": "light"
     },
     "output_type": "display_data"
    }
   ],
   "source": [
    "# Plot confusion matrix\n",
    "from sklearn.metrics import confusion_matrix\n",
    "import itertools\n",
    "\n",
    "def plot_confusion_matrix(cm, classes,\n",
    "                          normalize=False,\n",
    "                          title='Confusion matrix',\n",
    "                          cmap=plt.cm.Blues):\n",
    "    \"\"\"\n",
    "    This function prints and plots the confusion matrix.\n",
    "    Normalization can be applied by setting `normalize=True`.\n",
    "    \"\"\"\n",
    "    if normalize:\n",
    "        cm = cm.astype('float') / cm.sum(axis=1)[:, np.newaxis]\n",
    "        print(\"Normalized confusion matrix\")\n",
    "    else:\n",
    "        print('Confusion matrix, without normalization')\n",
    "\n",
    "    print(cm)\n",
    "\n",
    "    plt.imshow(cm, interpolation='nearest', cmap=cmap)\n",
    "    plt.title(title)\n",
    "    plt.colorbar()\n",
    "    tick_marks = np.arange(len(classes))\n",
    "    plt.xticks(tick_marks, classes, rotation=45)\n",
    "    plt.yticks(tick_marks, classes)\n",
    "\n",
    "    fmt = '.2f' if normalize else 'd'\n",
    "    thresh = cm.max() / 2.\n",
    "    for i, j in itertools.product(range(cm.shape[0]), range(cm.shape[1])):\n",
    "        plt.text(j, i, format(cm[i, j], fmt),\n",
    "               horizontalalignment=\"center\",\n",
    "               color=\"white\" if cm[i, j] > thresh else \"black\")\n",
    "\n",
    "    plt.tight_layout()\n",
    "    plt.ylabel('True label')\n",
    "    plt.xlabel('Predicted label')\n",
    "    plt.show()\n",
    "\n",
    "\n",
    "p_test = model.predict(x_test).argmax(axis=1)\n",
    "cm = confusion_matrix(y_test, p_test)\n",
    "plot_confusion_matrix(cm, list(range(10)))"
   ]
  },
  {
   "cell_type": "markdown",
   "metadata": {},
   "source": [
    "## Step 5: Make a prediction"
   ]
  },
  {
   "cell_type": "code",
   "execution_count": 104,
   "metadata": {},
   "outputs": [
    {
     "data": {
      "image/png": "[encoded data removed]",
      "text/plain": [
       "<Figure size 432x288 with 1 Axes>"
      ]
     },
     "metadata": {
      "needs_background": "light"
     },
     "output_type": "display_data"
    }
   ],
   "source": [
    "random = np.random.randint(len(x_test[0]))\n",
    "\n",
    "plt.imshow(x_test[random])\n",
    "plt.title(\"This is %s and prediction is %s\" % (labels[y_test[random]], labels[np.argmax(model.predict(x_test)[random])]))\n",
    "plt.show()"
   ]
  },
  {
   "cell_type": "code",
   "execution_count": 89,
   "metadata": {},
   "outputs": [],
   "source": [
    "list_of_wrongs = np.where(np.argmax(model.predict(x_test), axis = 1)  != y_test)\n",
    "list_of_wrongs = list_of_wrongs[0]"
   ]
  },
  {
   "cell_type": "markdown",
   "metadata": {},
   "source": [
    "Let's pick a random photo of which prediction is wrong"
   ]
  },
  {
   "cell_type": "code",
   "execution_count": 105,
   "metadata": {},
   "outputs": [
    {
     "data": {
      "image/png": "[encoded data removed]",
      "text/plain": [
       "<Figure size 432x288 with 1 Axes>"
      ]
     },
     "metadata": {
      "needs_background": "light"
     },
     "output_type": "display_data"
    }
   ],
   "source": [
    "random = np.random.choice(list_of_wrongs)\n",
    "\n",
    "plt.imshow(x_test[random])\n",
    "plt.title(\"This is %s but prediction is %s\" % (labels[y_test[random]], labels[np.argmax(model.predict(x_test)[random])]))\n",
    "plt.show()"
   ]
  }
 ],
 "metadata": {
  "kernelspec": {
   "display_name": "Python 3",
   "language": "python",
   "name": "python3"
  },
  "language_info": {
   "codemirror_mode": {
    "name": "ipython",
    "version": 3
   },
   "file_extension": ".py",
   "mimetype": "text/x-python",
   "name": "python",
   "nbconvert_exporter": "python",
   "pygments_lexer": "ipython3",
   "version": "3.7.3"
  }
 },
 "nbformat": 4,
 "nbformat_minor": 2
}

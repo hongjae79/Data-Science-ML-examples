{
 "cells": [
  {
   "cell_type": "markdown",
   "metadata": {},
   "source": [
    "# Linear Classification with Numpy"
   ]
  },
  {
   "cell_type": "code",
   "execution_count": 35,
   "metadata": {},
   "outputs": [],
   "source": [
    "import numpy as np\n",
    "import matplotlib.pyplot as plt\n",
    "from numpy import ones\n",
    "from numpy import zeros"
   ]
  },
  {
   "cell_type": "markdown",
   "metadata": {},
   "source": [
    "## Step 1: Load Data\n",
    "\n",
    "Let's create some data"
   ]
  },
  {
   "cell_type": "code",
   "execution_count": 31,
   "metadata": {},
   "outputs": [],
   "source": [
    "N = 100\n",
    "D = 2\n",
    "\n",
    "X = np.random.randn(N,D)"
   ]
  },
  {
   "cell_type": "code",
   "execution_count": 32,
   "metadata": {},
   "outputs": [],
   "source": [
    "X[:50, :] = X[:50, :] + 2 * np.ones((50,2))\n",
    "X[50:, :] = X[50:, :] - 2 * np.ones((50,2))"
   ]
  },
  {
   "cell_type": "code",
   "execution_count": 33,
   "metadata": {},
   "outputs": [
    {
     "data": {
      "image/png": "[encoded data removed]",
      "text/plain": [
       "<Figure size 432x288 with 1 Axes>"
      ]
     },
     "metadata": {
      "needs_background": "light"
     },
     "output_type": "display_data"
    }
   ],
   "source": [
    "plt.scatter(X[:,0], X[:,1])\n",
    "plt.show()"
   ]
  },
  {
   "cell_type": "code",
   "execution_count": 36,
   "metadata": {},
   "outputs": [],
   "source": [
    "y = np.concatenate((np.zeros(50), np.ones(50)), axis = 0)  "
   ]
  },
  {
   "cell_type": "markdown",
   "metadata": {},
   "source": [
    "## Step 2: Build the model\n",
    "\n",
    "We are creating linear classification model.  \n",
    "\n",
    "From a linear line $y = mx + b$, rewrite it to $w_1x_1 + w_2x_2 + b = 0$, where $x_1 = x, x_2=y$.  \n",
    "\n",
    "Let $a = w_1x_1 + w_2x_2 + b$.\n",
    "\n",
    "If $a \\geq 0$, then assign $1$. \n",
    "\n",
    "If $a < 0$, then assign $0$. \n",
    "\n",
    "And a predicted value $\\hat{y} = \\sigma (a)$, where $\\sigma$ is a sigmoid function, $$ \\hat{y} = \\sigma(a) = \\frac{1}{1+e^a}$$. "
   ]
  },
  {
   "cell_type": "markdown",
   "metadata": {},
   "source": [
    "Loss function that we want to minimize is $\\textbf{binary cross entropy}$ function $L$, that is\n",
    "$$ L = -\\frac{1}{N} \\sum_{i=1}^N \\{y_i \\log \\hat{y}_i + (1-y_i) \\log(1-\\hat{y}_i) \\}$$ \n",
    "\n",
    "Now take derivative of $L$ respect to each $w_i$, then $$ \\frac{\\partial L}{\\partial w_j} = \\frac{1}{N}\\sum_{i=1}^N (\\hat{y}_i -y_i)x_{ij}  $$\n",
    "and $$ \\frac{\\partial L}{\\partial b} = \\frac{1}{N} \\sum_{i=1}^N (\\hat{y}_i -y_i)  $$\n",
    "\n",
    "Once we have these informations, we can run gradient descent $W = W - \\eta \\nabla L$ to minimize our loss function $L$.  "
   ]
  },
  {
   "cell_type": "code",
   "execution_count": 38,
   "metadata": {},
   "outputs": [],
   "source": [
    "def sigmoid(a):\n",
    "    sig = 1 / (1 + np.exp(a))\n",
    "    return sig"
   ]
  },
  {
   "cell_type": "code",
   "execution_count": 53,
   "metadata": {},
   "outputs": [],
   "source": [
    "def model(X,y):   \n",
    "    w1 = 0 \n",
    "    w2 = 0 \n",
    "    b = 0 \n",
    "\n",
    "    lr = 0.0001\n",
    "    epochs = 1000\n",
    "\n",
    "    N = float(len(X))\n",
    "\n",
    "    for i in range(epochs):\n",
    "        a = w1 * X[:, 0] + w2 * X[:,1] + b\n",
    "        yhat = sigmoid(a)\n",
    "        Lw1 = (1/N)*sum(yhat - y * X[:, 0])\n",
    "        Lw2 = (1/N)*sum(yhat - y * X[:, 1])\n",
    "        Lb = (1/N)*sum(yhat - y)\n",
    "        w1 = w1 - lr * Lw1\n",
    "        w2 = w2 - lr * Lw2\n",
    "        b = b - lr * Lb\n",
    "\n",
    "    return w1, w2, b"
   ]
  },
  {
   "cell_type": "markdown",
   "metadata": {},
   "source": [
    "## Step 3: Train model"
   ]
  },
  {
   "cell_type": "code",
   "execution_count": 64,
   "metadata": {},
   "outputs": [
    {
     "data": {
      "text/plain": [
       "(-0.15326276136895056, -0.1378792856898445, -0.00013046661499180697)"
      ]
     },
     "execution_count": 64,
     "metadata": {},
     "output_type": "execute_result"
    }
   ],
   "source": [
    "model(X,y)"
   ]
  },
  {
   "cell_type": "markdown",
   "metadata": {},
   "source": [
    "So, it returend the coefficients $w_1, w_2, b$. "
   ]
  },
  {
   "cell_type": "markdown",
   "metadata": {},
   "source": [
    "## Step 4: Evaluate the model"
   ]
  },
  {
   "cell_type": "code",
   "execution_count": 65,
   "metadata": {},
   "outputs": [
    {
     "name": "stdout",
     "output_type": "stream",
     "text": [
      "-0.15326276136895056 -0.1378792856898445 -0.00013046661499180697\n"
     ]
    }
   ],
   "source": [
    "w1 = model(X,y)[0]\n",
    "w2 = model(X,y)[1]\n",
    "b = model(X,y)[2]\n",
    "\n",
    "print(w1, w2, b)"
   ]
  },
  {
   "cell_type": "code",
   "execution_count": 66,
   "metadata": {},
   "outputs": [
    {
     "data": {
      "image/png": "[encoded data removed]",
      "text/plain": [
       "<Figure size 432x288 with 1 Axes>"
      ]
     },
     "metadata": {
      "needs_background": "light"
     },
     "output_type": "display_data"
    }
   ],
   "source": [
    "domain = np.linspace(min(X[:,0]), max(X[:,0]), 100)\n",
    "linearfunction = -w1/w2*domain - b/w2\n",
    "\n",
    "plt.scatter(X[:,0], X[:,1])\n",
    "plt.plot(domain,linearfunction)\n",
    "plt.show()"
   ]
  },
  {
   "cell_type": "markdown",
   "metadata": {},
   "source": [
    "## Step 5: Make a prediction\n",
    "\n",
    "Select a random point, for instance (1, -2)"
   ]
  },
  {
   "cell_type": "code",
   "execution_count": 68,
   "metadata": {},
   "outputs": [],
   "source": [
    "def model_prediction(x,y):\n",
    "    a = w1 * x + w2 * y + b\n",
    "    yhat = sigmoid(a)\n",
    "    if yhat >= 0:\n",
    "        print(\"The point (\",x,\",\",y,\") is below the line\")\n",
    "    else:\n",
    "        print(\"The point (\",x,y,\") is above the line\")"
   ]
  },
  {
   "cell_type": "code",
   "execution_count": 70,
   "metadata": {},
   "outputs": [
    {
     "name": "stdout",
     "output_type": "stream",
     "text": [
      "The point ( 1 -2 ) is below the line\n"
     ]
    }
   ],
   "source": [
    "model_prediction(1,-2)"
   ]
  }
 ],
 "metadata": {
  "kernelspec": {
   "display_name": "Python 3",
   "language": "python",
   "name": "python3"
  },
  "language_info": {
   "codemirror_mode": {
    "name": "ipython",
    "version": 3
   },
   "file_extension": ".py",
   "mimetype": "text/x-python",
   "name": "python",
   "nbconvert_exporter": "python",
   "pygments_lexer": "ipython3",
   "version": "3.7.3"
  }
 },
 "nbformat": 4,
 "nbformat_minor": 2
}
